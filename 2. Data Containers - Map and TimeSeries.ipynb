{
 "cells": [
  {
   "cell_type": "markdown",
   "id": "db3ebf33",
   "metadata": {},
   "source": [
    "<div>\n",
    "<img src=\"./images/sunpy_logo.png\" width=\"500\" align=\"left\"/>\n",
    "</div>"
   ]
  },
  {
   "cell_type": "markdown",
   "id": "86a34f2e",
   "metadata": {},
   "source": [
    "# 2. Data Containers"
   ]
  },
  {
   "cell_type": "markdown",
   "id": "eb878ce3",
   "metadata": {},
   "source": [
    "Now we have seen how we can search for and download data - lets now look at how we can read this data in.\n",
    "\n",
    "SunPy provides core data type classes that are designed to provide a consistent interface across data types (timeseries and images) as well as data sources from numerous instruments and observations. They handle all of the manipulation necessary to read data in from mission-specific files. The two main datatypes in SunPy are\n",
    "\n",
    "1. `TimeSeries`  \n",
    "2. `Map`"
   ]
  },
  {
   "cell_type": "code",
   "execution_count": null,
   "id": "dc23a50d",
   "metadata": {},
   "outputs": [],
   "source": [
    "import sunpy.map\n",
    "import sunpy.timeseries\n",
    "from sunpy.coordinates import frames\n",
    "from sunpy.time import parse_time\n",
    "import sunpy.data.sample\n",
    "\n",
    "from astropy.coordinates import SkyCoord\n",
    "from astropy import units as u\n",
    "from astropy.visualization import AsymmetricPercentileInterval, ImageNormalize, LogStretch\n",
    "\n",
    "import matplotlib.pyplot as plt\n",
    "from matplotlib import colors\n",
    "import glob\n",
    "import numpy as np"
   ]
  },
  {
   "cell_type": "markdown",
   "id": "82708217",
   "metadata": {},
   "source": [
    "## 2.1 TimeSeries\n",
    "\n",
    "The structure of a [`TimeSeries`](https://docs.sunpy.org/en/stable/guide/data_types/timeseries.html) consists of times and measurements and the underlying structure is that of a `pandas.DataFrame`. \n",
    "\n",
    "SunPy TimeSeries supports time-series data from a wide range of solar-focused instruments. `TimeSeries` can either be created manually or from source files that are currently supported. If a supported file is passed to `TimeSeries` it will automatically detect its source and its instrument-specific meta data will be loaded. \n",
    "\n",
    "Lets create a timeseries from out sample data which is X-ray flux from the GOES X-ray Sensor Data. This data file was downloaded locally in the steps previously! "
   ]
  },
  {
   "cell_type": "code",
   "execution_count": null,
   "id": "54c28b7d",
   "metadata": {},
   "outputs": [],
   "source": [
    "xrs = sunpy.timeseries.TimeSeries('./XRS/sci_xrsf-l2-flx1s_g16_d20220402_v2-2-0.nc')"
   ]
  },
  {
   "cell_type": "code",
   "execution_count": null,
   "id": "a2235d3b",
   "metadata": {},
   "outputs": [],
   "source": [
    "xrs.plot()"
   ]
  },
  {
   "cell_type": "markdown",
   "id": "b639f4a1",
   "metadata": {},
   "source": [
    "### Inspect the `TimeSeries`\n",
    "\n",
    "Lets now inspect the `TimeSeries` and get at the data. A `TimeSeries` holds data as well as meta data and unit data."
   ]
  },
  {
   "cell_type": "code",
   "execution_count": null,
   "id": "0932cf9d",
   "metadata": {},
   "outputs": [],
   "source": [
    "xrs.units"
   ]
  },
  {
   "cell_type": "code",
   "execution_count": null,
   "id": "29934da1",
   "metadata": {},
   "outputs": [],
   "source": [
    "xrs.meta"
   ]
  },
  {
   "cell_type": "markdown",
   "id": "9fd1a31f",
   "metadata": {},
   "source": [
    "The `TimeSeries` object can also be converted to other formats like a `pandas.DataFrame` or an `astropy.Table` object"
   ]
  },
  {
   "cell_type": "code",
   "execution_count": null,
   "id": "034166a7",
   "metadata": {},
   "outputs": [],
   "source": [
    "xrs.to_dataframe()"
   ]
  },
  {
   "cell_type": "code",
   "execution_count": null,
   "id": "dcc63d3e",
   "metadata": {},
   "outputs": [],
   "source": [
    "xrs.to_table()"
   ]
  },
  {
   "cell_type": "markdown",
   "id": "b00a1623",
   "metadata": {},
   "source": [
    "there are also a number of attributes on each `TimeSeries` derived from the data/metadata."
   ]
  },
  {
   "cell_type": "code",
   "execution_count": null,
   "id": "6b74a1a8",
   "metadata": {},
   "outputs": [],
   "source": [
    "xrs.columns"
   ]
  },
  {
   "cell_type": "code",
   "execution_count": null,
   "id": "c3fe7e5f",
   "metadata": {},
   "outputs": [],
   "source": [
    "xrs.observatory"
   ]
  },
  {
   "cell_type": "markdown",
   "id": "60fb5838",
   "metadata": {},
   "source": [
    "## Manipulating the timeseries data\n",
    "\n",
    "We can manipulate the timeseries, such as truncating (slicing) the data over a certain time period"
   ]
  },
  {
   "cell_type": "code",
   "execution_count": null,
   "id": "018d4a2e",
   "metadata": {},
   "outputs": [],
   "source": [
    "xrs.truncate(\"2022-04-02 12:00\", \"2022-04-02 17:00\").plot()"
   ]
  },
  {
   "cell_type": "markdown",
   "id": "96227948",
   "metadata": {},
   "source": [
    "you can also convert to a `pandas.DataFrame` and then use the functionality there such as resampling etc"
   ]
  },
  {
   "cell_type": "code",
   "execution_count": null,
   "id": "e9339212",
   "metadata": {},
   "outputs": [],
   "source": [
    "xrs_df = xrs.to_dataframe()"
   ]
  },
  {
   "cell_type": "code",
   "execution_count": null,
   "id": "12194dbb",
   "metadata": {},
   "outputs": [],
   "source": [
    "xrs_df[[\"xrsa\", \"xrsb\"]].plot()\n",
    "plt.yscale(\"log\")\n",
    "plt.axvline(parse_time(\"2022-04-02 14:00\").datetime)\n",
    "plt.ylim(1e-9, 1e-4)"
   ]
  },
  {
   "cell_type": "code",
   "execution_count": null,
   "id": "b4f3a1fa",
   "metadata": {},
   "outputs": [],
   "source": [
    "xrs_df_resample = xrs_df.resample(\"60s\").mean()"
   ]
  },
  {
   "cell_type": "code",
   "execution_count": null,
   "id": "b51ac403",
   "metadata": {},
   "outputs": [],
   "source": [
    "xrs_df_resample[[\"xrsa\", \"xrsb\"]].plot()\n",
    "plt.yscale(\"log\")"
   ]
  },
  {
   "cell_type": "markdown",
   "id": "a64ba374",
   "metadata": {},
   "source": [
    "## Solar Orbiter timeseries example\n",
    "\n",
    "You can also pass a list of files to timeseries, and uses the `concatenate` keyword to create one continous timeseries. "
   ]
  },
  {
   "cell_type": "code",
   "execution_count": null,
   "id": "eed4f933",
   "metadata": {},
   "outputs": [],
   "source": [
    "mag_files = glob.glob(\"./MAG/*.cdf\"); mag_files.sort()\n",
    "\n",
    "mag_solo = sunpy.timeseries.TimeSeries(mag_files[0:3], concatenate=True)\n"
   ]
  },
  {
   "cell_type": "code",
   "execution_count": null,
   "id": "8da7cf2c",
   "metadata": {},
   "outputs": [],
   "source": [
    "mag_solo.columns"
   ]
  },
  {
   "cell_type": "code",
   "execution_count": null,
   "id": "d62a9768",
   "metadata": {},
   "outputs": [],
   "source": [
    "mag_solo.plot(columns=['B_RTN_0', 'B_RTN_1', 'B_RTN_2'])"
   ]
  },
  {
   "cell_type": "markdown",
   "id": "2b6db525",
   "metadata": {},
   "source": [
    "# 2.2 Map\n",
    "The sunpy [`Map`](https://docs.sunpy.org/en/stable/guide/data_types/maps.html) class provides the data type structure to store 2-dimensional data associated with a coordinate system.  This allows users to store and manipulate images of the Sun and the heliosphere.\n",
    "\n",
    "The result of a call to Map will be either a `GenericMap` object, or a subclass of `GenericMap` which either deals with a specific type of data, e.g. `AIAMap` or `LASCOMap` (see sunpy.map Package to see a list of all of them), or if no instrument matches, a 2D map GenericMap.\n",
    "\n",
    "Maps from all instruments are created using the `sunpy.map.Map` 'factory'. This class takes a wide variety of map-like inputs, for one or more maps and returns you one or many maps. All maps, irrespective of the instrument, behave the same and expose the same functions and properties, however, depending on the instrument different metadata might be read or corrections made."
   ]
  },
  {
   "cell_type": "code",
   "execution_count": null,
   "id": "37458c23-d220-43df-8f3b-f5caf9231135",
   "metadata": {},
   "outputs": [],
   "source": [
    "aia_file = sunpy.data.sample.AIA_171_IMAGE"
   ]
  },
  {
   "cell_type": "code",
   "execution_count": null,
   "id": "2672672f-e1de-4d9f-8ebb-77db0b341dc0",
   "metadata": {},
   "outputs": [],
   "source": [
    "aia_file"
   ]
  },
  {
   "cell_type": "code",
   "execution_count": null,
   "id": "920a4f52",
   "metadata": {},
   "outputs": [],
   "source": [
    "aia_map = sunpy.map.Map(aia_file)"
   ]
  },
  {
   "cell_type": "code",
   "execution_count": null,
   "id": "099bcf93-339c-4411-9e73-6bb52512350e",
   "metadata": {},
   "outputs": [],
   "source": [
    "type(aia_map)"
   ]
  },
  {
   "cell_type": "markdown",
   "id": "1840c736",
   "metadata": {},
   "source": [
    "We can easily visualize a map after loading it using the quicklook functionality."
   ]
  },
  {
   "cell_type": "code",
   "execution_count": null,
   "id": "ec83849d",
   "metadata": {},
   "outputs": [],
   "source": [
    "aia_map"
   ]
  },
  {
   "cell_type": "markdown",
   "id": "4ba6f9c6",
   "metadata": {},
   "source": [
    "`Map` provides customized loaders for a number of different instruments, however, if the data file follows the FITS data standards for coordinate information etc then map should be able to read it by default."
   ]
  },
  {
   "cell_type": "markdown",
   "id": "d9c88042",
   "metadata": {},
   "source": [
    "## Attributes of Map\n",
    "\n",
    "`Map` provides a common interface to most 2D imaging solar datasets and provides several useful pieces of metadata. As mentioned in the intro slide, `Map` is a container for holding your data and metadata (usually from the FITS header) together.\n",
    "\n",
    "The `.meta` and `.data` attributes provide access to the metadata and underlying array of image data, respectively.\n"
   ]
  },
  {
   "cell_type": "code",
   "execution_count": null,
   "id": "38701d32",
   "metadata": {
    "scrolled": true
   },
   "outputs": [],
   "source": [
    "aia_map.data"
   ]
  },
  {
   "cell_type": "code",
   "execution_count": null,
   "id": "37255f83",
   "metadata": {},
   "outputs": [],
   "source": [
    "aia_map.meta"
   ]
  },
  {
   "cell_type": "code",
   "execution_count": null,
   "id": "6f9607ce-289c-4d98-a956-d7ebbfd65acb",
   "metadata": {},
   "outputs": [],
   "source": [
    "aia_map.wcs"
   ]
  },
  {
   "cell_type": "markdown",
   "id": "0d9263ba",
   "metadata": {},
   "source": [
    "\n",
    "\n",
    "However, this metadata can be terse, non-homogeneous, and sometimes difficult to parse. `Map` provides several attributes derived from the underlying raw metadata that expose a uniform interface to the metadata for each map.\n"
   ]
  },
  {
   "cell_type": "code",
   "execution_count": null,
   "id": "5992c2aa",
   "metadata": {},
   "outputs": [],
   "source": [
    "aia_map.wavelength"
   ]
  },
  {
   "cell_type": "code",
   "execution_count": null,
   "id": "57394179",
   "metadata": {},
   "outputs": [],
   "source": [
    "aia_map.rsun_meters"
   ]
  },
  {
   "cell_type": "code",
   "execution_count": null,
   "id": "768b668d",
   "metadata": {},
   "outputs": [],
   "source": [
    "aia_map.processing_level"
   ]
  },
  {
   "cell_type": "code",
   "execution_count": null,
   "id": "90ed2d90",
   "metadata": {},
   "outputs": [],
   "source": [
    "aia_map.unit"
   ]
  },
  {
   "cell_type": "code",
   "execution_count": null,
   "id": "d7d22e63-a97d-4091-a48c-9f61d03bbc30",
   "metadata": {},
   "outputs": [],
   "source": [
    "aia_map.quantity"
   ]
  },
  {
   "cell_type": "markdown",
   "id": "babc7d95",
   "metadata": {},
   "source": [
    "### Coordinate Information\n",
    "\n",
    "Each `Map` also exposes information about which coordinate system the image was taken in, including the location of the spacecraft that recorded that observation.\n",
    "\n",
    "`sunpy` leverages and extends the powerful astropy coordinate framework that we heard about in the previous tutorial. Additionally, we'll talk more about the sunpy.coordinates subpackage in the next notebook and show some neat examples.\n",
    "\n",
    "For each `Map`, we can easily access what coordinate frame the observation cooresponds to.\n"
   ]
  },
  {
   "cell_type": "code",
   "execution_count": null,
   "id": "ffd11a56",
   "metadata": {},
   "outputs": [],
   "source": [
    "aia_map.coordinate_frame"
   ]
  },
  {
   "cell_type": "code",
   "execution_count": null,
   "id": "0903671b",
   "metadata": {},
   "outputs": [],
   "source": [
    "aia_map.observer_coordinate"
   ]
  },
  {
   "cell_type": "markdown",
   "id": "ff9aa5bf",
   "metadata": {},
   "source": [
    "### `Map` and WCS (World Coordinate System)"
   ]
  },
  {
   "cell_type": "markdown",
   "id": "367c20cc",
   "metadata": {},
   "source": [
    "The world coordinate system (WCS) formalizes provides us a framework for transforming between pixel and world coordinates. The functionality to deal with WCS within sunpy is from the `astropy` package.\n",
    "\n"
   ]
  },
  {
   "cell_type": "code",
   "execution_count": null,
   "id": "4b836aca",
   "metadata": {},
   "outputs": [],
   "source": [
    "aia_map.wcs"
   ]
  },
  {
   "cell_type": "code",
   "execution_count": null,
   "id": "d4a124a8",
   "metadata": {
    "scrolled": true
   },
   "outputs": [],
   "source": [
    "type(aia_map.wcs)"
   ]
  },
  {
   "cell_type": "markdown",
   "id": "f1a37763",
   "metadata": {},
   "source": [
    "\n",
    "# World and Pixel Coordinates (Important!)\n",
    "\n",
    "We can convert between the world coordinates (arcsec) to pixel coordinates using the `world_to_pixel` method on map which takes a `SkyCoord` and then returns the pixel coordinate. Similarly we can find the world coordinate to the pixel (or array) index. This is done with the `pixel_to_world` method. Lets first look at finding the array (pixel) index for the center of the Sun (0, 0) arcsec:\n",
    "\n"
   ]
  },
  {
   "cell_type": "code",
   "execution_count": null,
   "id": "120d7a5d",
   "metadata": {},
   "outputs": [],
   "source": [
    "aia_map.world_to_pixel(SkyCoord(0*u.arcsec, 0*u.arcsec, frame=aia_map.coordinate_frame))"
   ]
  },
  {
   "cell_type": "code",
   "execution_count": null,
   "id": "873a1b07",
   "metadata": {},
   "outputs": [],
   "source": [
    "aia_map.pixel_to_world(0*u.pix, 0*u.pix)"
   ]
  },
  {
   "cell_type": "markdown",
   "id": "14c8e073",
   "metadata": {},
   "source": [
    "## Visualization of `Map`\n",
    "\n",
    "### Plotting a map"
   ]
  },
  {
   "cell_type": "code",
   "execution_count": null,
   "id": "3ac26c6c-d6fb-4a27-9c3b-4f8559d56b07",
   "metadata": {},
   "outputs": [],
   "source": [
    "fig = plt.figure()\n",
    "aia_map.plot()"
   ]
  },
  {
   "cell_type": "code",
   "execution_count": null,
   "id": "dc3b0b5d",
   "metadata": {},
   "outputs": [],
   "source": [
    "fig = plt.figure()\n",
    "aia_map.plot(clip_interval=[1, 99.9]*u.percent)\n",
    "aia_map.draw_limb()\n",
    "aia_map.draw_grid(color='w')"
   ]
  },
  {
   "cell_type": "code",
   "execution_count": null,
   "id": "8ce5a8cb-179a-4c90-8199-ebbfd76ea896",
   "metadata": {},
   "outputs": [],
   "source": [
    "fig = plt.figure()\n",
    "aia_map.plot(cmap=\"viridis\", clip_interval=[1, 99.5]*u.percent)"
   ]
  },
  {
   "cell_type": "markdown",
   "id": "4d833e4b",
   "metadata": {},
   "source": [
    "## Inspecting and Manipulating the data"
   ]
  },
  {
   "cell_type": "code",
   "execution_count": null,
   "id": "41d2aedc",
   "metadata": {},
   "outputs": [],
   "source": [
    "aia_map.data.shape"
   ]
  },
  {
   "cell_type": "code",
   "execution_count": null,
   "id": "9801aadd",
   "metadata": {},
   "outputs": [],
   "source": [
    "aia_map.data[0, 3]"
   ]
  },
  {
   "cell_type": "code",
   "execution_count": null,
   "id": "84fd074d",
   "metadata": {},
   "outputs": [],
   "source": [
    "print(\"\\n Mean:\", aia_map.data.mean(), \"\\n Max:\", aia_map.data.max(), \n",
    "      \"\\n Min:\", aia_map.data.min(),  \"\\n Std:\", aia_map.std())"
   ]
  },
  {
   "cell_type": "markdown",
   "id": "418350ee-bfb3-4157-a3d0-705e2ad95313",
   "metadata": {},
   "source": [
    "You can also perform arithimtic to the data from the maps. To do this you have to use units"
   ]
  },
  {
   "cell_type": "code",
   "execution_count": null,
   "id": "0e56dc73-344e-4c71-9507-a1381a65ccb9",
   "metadata": {},
   "outputs": [],
   "source": [
    "new_aia_map = aia_map + 10*u.ct"
   ]
  },
  {
   "cell_type": "markdown",
   "id": "9e122e0c",
   "metadata": {},
   "source": [
    "### Rotate a map\n",
    "\n",
    "The `.rotate` method applies a rotation in the image plane, i.e. about an axis out of the page. In the case where we do not specify an angle (or rotation matrix), the image will be rotated such that the world and pixel axes are aligned. In the case of an image in helioprojective coordinate system, this means that solar north will be aligned with the y-like pixel axis of the image"
   ]
  },
  {
   "cell_type": "code",
   "execution_count": null,
   "id": "e741f62a",
   "metadata": {},
   "outputs": [],
   "source": [
    "aia_map_rot = aia_map.rotate(missing=aia_map.min())"
   ]
  },
  {
   "cell_type": "code",
   "execution_count": null,
   "id": "d18a546d",
   "metadata": {},
   "outputs": [],
   "source": [
    "aia_map_rot.plot(clip_interval=[5, 99.9]*u.percent)"
   ]
  },
  {
   "cell_type": "code",
   "execution_count": null,
   "id": "3a20245f",
   "metadata": {},
   "outputs": [],
   "source": [
    "aia_map_rot = aia_map.rotate(angle=30*u.deg)#, missing=aia_map.min())"
   ]
  },
  {
   "cell_type": "code",
   "execution_count": null,
   "id": "ff40f3a3",
   "metadata": {},
   "outputs": [],
   "source": [
    "aia_map_rot.plot(clip_interval=[0.1, 99.9]*u.percent)"
   ]
  },
  {
   "cell_type": "markdown",
   "id": "8578cbad",
   "metadata": {},
   "source": [
    "# Crop a map\n",
    "\n",
    "We commonly want to pare down our full field-of-view to a particular region of interest.\n",
    "With a map, we can do this using the `submap` method.\n",
    "\n",
    "To crop a map, we can pass either a SkyCoord (i.e. a coordinate in space), or in pixel space (i.e. by passing pixel coordinates).\n",
    "\n",
    "We can specify the region of our submap using world coordinates as specified by a `SkyCoord`.\n",
    "These coordinates can be specified in different coordinate systems and still should work (e.g. helioprojective or heliograhic stonyhurst)\n"
   ]
  },
  {
   "cell_type": "code",
   "execution_count": null,
   "id": "d21ca810",
   "metadata": {},
   "outputs": [],
   "source": [
    "bottom_left = SkyCoord(-300*u.arcsec, 20*u.arcsec, frame=aia_map.coordinate_frame)\n",
    "top_right = SkyCoord(390*u.arcsec, 650*u.arcsec, frame=aia_map.coordinate_frame)"
   ]
  },
  {
   "cell_type": "code",
   "execution_count": null,
   "id": "fc2e741a",
   "metadata": {},
   "outputs": [],
   "source": [
    "submap = aia_map.submap(bottom_left, top_right=top_right)"
   ]
  },
  {
   "cell_type": "code",
   "execution_count": null,
   "id": "60e9cdc0",
   "metadata": {},
   "outputs": [],
   "source": [
    "fig = plt.figure()\n",
    "submap.plot(clip_interval=[1, 99.9]*u.percent)"
   ]
  },
  {
   "cell_type": "code",
   "execution_count": null,
   "id": "0ae5b36f-41a6-4d89-a8e7-22a76999d478",
   "metadata": {},
   "outputs": [],
   "source": [
    "fig = plt.figure(figsize=(11, 5))\n",
    "ax1 = fig.add_subplot(1,2,1,projection=aia_map)\n",
    "aia_map.plot(axes=ax1, clip_interval=(0.1, 99.99)*u.percent)\n",
    "\n",
    "aia_map.draw_quadrangle(bottom_left, \n",
    "                        top_right=top_right, \n",
    "                        axes=ax1)\n",
    "\n",
    "ax2 = fig.add_subplot(1,2,2,projection=submap)\n",
    "submap.plot(clip_interval=(0.5, 99.95)*u.percent)"
   ]
  },
  {
   "cell_type": "markdown",
   "id": "a036e2ba-0567-41cb-8dc8-8324ac6dbe68",
   "metadata": {},
   "source": [
    "We can also crop a map by passing a bottom left and a width and a height, for example:"
   ]
  },
  {
   "cell_type": "code",
   "execution_count": null,
   "id": "3dec729a-81a1-49a2-96b8-03b87ff28a51",
   "metadata": {},
   "outputs": [],
   "source": [
    "submap = aia_map.submap(bottom_left, width=600*u.arcsec, height=700*u.arcsec)\n",
    "submap.plot(clip_interval=[5, 99.9]*u.percent)"
   ]
  },
  {
   "cell_type": "markdown",
   "id": "78d1c87c-995e-4366-8a2c-6835be492ea9",
   "metadata": {},
   "source": [
    "We can also crop a map by passing a bottom left and a width and a height in pixel coordinates. When specifying pixel coordinates, they are specified in Cartesian order not in numpy order. So, for example, the `bottom_left=` argument should be `[left, bottom]`."
   ]
  },
  {
   "cell_type": "code",
   "execution_count": null,
   "id": "028c590b-9104-4acb-a54d-82003c831adb",
   "metadata": {},
   "outputs": [],
   "source": [
    "submap = aia_map.submap([350, 520]*u.pix, width=350*u.pix, height=250*u.pix)\n",
    "submap.plot(clip_interval=[5, 99.9]*u.percent)"
   ]
  },
  {
   "cell_type": "markdown",
   "id": "0767a484-c498-4c5e-a707-7ad9f3439ab1",
   "metadata": {},
   "source": [
    "## Resample a map"
   ]
  },
  {
   "cell_type": "code",
   "execution_count": null,
   "id": "93192900-490a-44e3-a767-f456bb41f010",
   "metadata": {},
   "outputs": [],
   "source": [
    "aia_map.resample([40, 40] * u.pixel).plot()"
   ]
  },
  {
   "cell_type": "code",
   "execution_count": null,
   "id": "f56178b9-d7c8-4355-9d7b-3bead94fe27b",
   "metadata": {},
   "outputs": [],
   "source": [
    "aia_map.resample([256, 256] * u.pixel).plot(clip_interval=[5, 99.9]*u.percent)"
   ]
  },
  {
   "cell_type": "code",
   "execution_count": null,
   "id": "12253081-cdff-455a-ac61-b9fc4f43781d",
   "metadata": {},
   "outputs": [],
   "source": [
    "aia_resampled = aia_map.resample([256, 256] * u.pixel)"
   ]
  },
  {
   "cell_type": "code",
   "execution_count": null,
   "id": "65599d8a-53fc-45a0-a8e1-0a5fe21dc623",
   "metadata": {},
   "outputs": [],
   "source": [
    "aia_resampled.data.shape"
   ]
  },
  {
   "cell_type": "markdown",
   "id": "36c3e15a-ab9e-413a-9d69-604da610ecd0",
   "metadata": {},
   "source": [
    "# Sequence of Maps\n",
    "\n",
    "A MapSequence is an ordered list of maps. By default, the maps are ordered by their observation date, from earliest to latest date. Lets use a time list of maps that we have already downloaded and generate them into a movie. "
   ]
  },
  {
   "cell_type": "code",
   "execution_count": null,
   "id": "a9e4a7ba-f63c-4f58-8c39-0d98db7cca40",
   "metadata": {},
   "outputs": [],
   "source": [
    "aia_files = [sunpy.data.sample.AIA_193_CUTOUT01_IMAGE,\n",
    "             sunpy.data.sample.AIA_193_CUTOUT02_IMAGE,\n",
    "             sunpy.data.sample.AIA_193_CUTOUT03_IMAGE,\n",
    "             sunpy.data.sample.AIA_193_CUTOUT04_IMAGE,\n",
    "             sunpy.data.sample.AIA_193_CUTOUT05_IMAGE,]"
   ]
  },
  {
   "cell_type": "code",
   "execution_count": null,
   "id": "dd3016a9-99e4-453d-97f8-f25e984b334d",
   "metadata": {},
   "outputs": [],
   "source": [
    "aia_files"
   ]
  },
  {
   "cell_type": "code",
   "execution_count": null,
   "id": "544fb7db-649e-432a-b7b2-1e7f43ea0bc9",
   "metadata": {},
   "outputs": [],
   "source": [
    "aia_map_sequence = sunpy.map.Map(aia_files, sequence=True)"
   ]
  },
  {
   "cell_type": "code",
   "execution_count": null,
   "id": "bfbeade8-221f-408d-a3c2-88416e7d01dc",
   "metadata": {},
   "outputs": [],
   "source": [
    "ani = aia_map_sequence.plot(cmap=aia_map_sequence[0].plot_settings['cmap'],\n",
    "                            norm=ImageNormalize(vmin=1, vmax=1e4,\n",
    "                                        stretch=aia_map_sequence[0].plot_settings['norm'].stretch))\n",
    "ani.save('aia-maps-seq.mp4', fps=15, dpi=300)"
   ]
  },
  {
   "cell_type": "markdown",
   "id": "116003ae-7d75-4192-ae1b-73042cb1879c",
   "metadata": {},
   "source": [
    "## Running difference of maps"
   ]
  },
  {
   "cell_type": "code",
   "execution_count": null,
   "id": "d9328ca4-ca91-4dff-b862-0883b3cd2f9b",
   "metadata": {},
   "outputs": [],
   "source": [
    "aia_diff_map = (aia_map_sequence[1] - aia_map_sequence[0].quantity)\n"
   ]
  },
  {
   "cell_type": "code",
   "execution_count": null,
   "id": "c3008943-76bf-4f69-8d6c-c00244a48916",
   "metadata": {},
   "outputs": [],
   "source": [
    "aia_diff_map.plot(norm=colors.Normalize(), vmin=-500, vmax=500)\n",
    "aia_diff_map.draw_limb()"
   ]
  },
  {
   "cell_type": "code",
   "execution_count": null,
   "id": "2abf1082-504d-470d-824a-c861fa7893f4",
   "metadata": {},
   "outputs": [],
   "source": [
    "aia_diff_deq = sunpy.map.Map(\n",
    "    [m - prev_m.quantity for m, prev_m in zip(aia_map_sequence[1:], aia_map_sequence[:-1])],\n",
    "    sequence=True\n",
    ")"
   ]
  },
  {
   "cell_type": "code",
   "execution_count": null,
   "id": "f58b4384-a79b-492c-a480-58843c99ab7c",
   "metadata": {},
   "outputs": [],
   "source": [
    "ani = aia_diff_deq.plot( title='Running Difference', \n",
    "                         norm=colors.Normalize(vmin=-500, vmax=500), cmap='Greys_r')\n",
    "ani.save('aia-maps-seq.mp4', fps=15, dpi=300)"
   ]
  },
  {
   "cell_type": "markdown",
   "id": "8d7ef327",
   "metadata": {},
   "source": [
    "## WCS axes and plotting\n",
    "\n",
    "SunPy map uses the [`astropy.visualization.wcsaxes`](https://docs.astropy.org/en/stable/visualization/wcsaxes/index.html#module-astropy.visualization.wcsaxes) module to represent world coordinates. \n",
    "\n",
    "Using WCSAxes is very powerful but has important concepts to think about:\n",
    "\n",
    " * **`world`** coordinates refer to the coordinates of the coordinate system - i.e. arcsec, degrees!\n",
    " * **`pixel`** coordinates refer to the array index of the data! i.e. data[10] etc. However, the convention of pixel axes is the opposite to numpy arrays - i.e. to [x, y], rather the [y, x]\n",
    " \n",
    " \n",
    "When plotting on WCSAxes it will by default plot in pixel coordinates, you can override this behavior and plot in `world` coordinates by getting the transformation from the axes with `ax.get_transform('world')`. We will use some of these examples below. Its also important to note that when using the `world` coordinates these have to be in **degrees** so make sure to convert arcsec's to degrees.\n"
   ]
  },
  {
   "cell_type": "code",
   "execution_count": null,
   "id": "8f6fc1f0",
   "metadata": {},
   "outputs": [],
   "source": [
    "fig = plt.figure(figsize=(8, 8))\n",
    "ax = plt.subplot(projection=aia_map)  \n",
    "\n",
    "# plot the map\n",
    "aia_map.plot(clip_interval=[0.5, 99.99]*u.percent)\n",
    "aia_map.draw_limb()\n",
    "aia_map.draw_grid()\n",
    "\n",
    "# plot in pixel coordinates\n",
    "ax.plot(200, 200, marker='o', color=\"b\",  label=\"Pixel coord\")\n",
    "\n",
    "# plot in world coordinates\n",
    "ax.plot((200*u.arcsec).to(u.deg), (200*u.arcsec).to(u.deg),\n",
    "        transform=ax.get_transform('world'), \n",
    "        marker='o',color=\"g\", label=\"World Coord\")\n",
    "\n",
    "ax.legend()"
   ]
  },
  {
   "cell_type": "markdown",
   "id": "98215be3",
   "metadata": {},
   "source": [
    "\n",
    "\n",
    "You can also plot SkyCoords on a Map. Importantly, this can be done with ax.plot_coord and the coordinate does not need to be transformed to the same coordinate frame as the map - it is done automatically if it can be\n"
   ]
  },
  {
   "cell_type": "code",
   "execution_count": null,
   "id": "22598a85",
   "metadata": {},
   "outputs": [],
   "source": [
    "coord1 = SkyCoord(200*u.arcsec, -500*u.arcsec, frame=aia_map.coordinate_frame)\n",
    "coord2 = SkyCoord(20*u.deg, 30*u.deg, frame=frames.HeliographicStonyhurst)"
   ]
  },
  {
   "cell_type": "code",
   "execution_count": null,
   "id": "2eb1c1eb",
   "metadata": {},
   "outputs": [],
   "source": [
    "fig = plt.figure(figsize=(8, 8))\n",
    "\n",
    "ax = fig.add_subplot(projection=aia_map)\n",
    "aia_map.plot(axes=ax, clip_interval=[0.5, 99.99]*u.percent)\n",
    "\n",
    "aia_map.draw_grid(axes=ax)\n",
    "\n",
    "ax.plot_coord(coord1, marker='o', ms=10, color='b')\n",
    "ax.plot_coord(coord2, marker='x', ms=10, color='b')\n",
    "\n"
   ]
  },
  {
   "cell_type": "code",
   "execution_count": null,
   "id": "82674292",
   "metadata": {},
   "outputs": [],
   "source": [
    "pixel_pos = np.argwhere(aia_map.data == aia_map.data.max()) * u.pixel\n",
    "hpc_max = aia_map.pixel_to_world(pixel_pos[:, 1], pixel_pos[:, 0])"
   ]
  },
  {
   "cell_type": "code",
   "execution_count": null,
   "id": "47e4f353-4532-44f3-b618-b69ab25a480a",
   "metadata": {},
   "outputs": [],
   "source": [
    "pixel_pos"
   ]
  },
  {
   "cell_type": "code",
   "execution_count": null,
   "id": "117ede56-c4a6-42e7-b5e6-e0fa553619d1",
   "metadata": {},
   "outputs": [],
   "source": [
    "plt.imshow(aia_map.data, norm=colors.LogNorm(), origin=\"lower\")\n",
    "plt.scatter(808, 362, color='r')"
   ]
  },
  {
   "cell_type": "code",
   "execution_count": null,
   "id": "ce0e0442",
   "metadata": {},
   "outputs": [],
   "source": [
    "fig = plt.figure()\n",
    "ax = fig.add_subplot(projection=aia_map)\n",
    "aia_map.plot(clip_interval=[5, 99.9]*u.percent)\n",
    "ax.plot_coord(hpc_max, marker='o', color='b')\n",
    "ax.scatter(362, 808, color='r', marker='x')"
   ]
  },
  {
   "cell_type": "markdown",
   "id": "4a86c8b4-22cf-4515-b9ee-495826fa25a5",
   "metadata": {},
   "source": [
    "### Lets find the maximum pixel of the AIA map and plot it"
   ]
  },
  {
   "cell_type": "code",
   "execution_count": null,
   "id": "a6c492dc-d97c-476b-beee-c2ea89a8d592",
   "metadata": {},
   "outputs": [],
   "source": [
    "pixel_pos = np.argwhere(aia_map.data == aia_map.data.max()) * u.pixel\n",
    "hpc_max = aia_map.pixel_to_world(pixel_pos[:, 1], pixel_pos[:, 0])\n",
    "\n",
    "fig = plt.figure()\n",
    "ax = fig.add_subplot(projection=aia_map)\n",
    "aia_map.plot(clip_interval=[5, 99.9]*u.percent)\n",
    "ax.plot_coord(hpc_max, marker='x')"
   ]
  },
  {
   "cell_type": "markdown",
   "id": "aeed66ac-c14a-41c6-9c8d-3fa255f17149",
   "metadata": {},
   "source": [
    "## Other functionality on Map\n",
    "\n",
    "There's lots of other imaginative things you can do with sunpy.map.GenericMap and with the infrastructure of sunpy. We recommend checking out our documentation more and the example gallery"
   ]
  },
  {
   "cell_type": "markdown",
   "id": "d1664224-3432-4c5a-9d4b-0a7db8b5d017",
   "metadata": {},
   "source": [
    "## Take slice across the Sun or region of interest"
   ]
  },
  {
   "cell_type": "code",
   "execution_count": null,
   "id": "f05508a8-5036-4567-8e3a-a0e5a3a8e68d",
   "metadata": {},
   "outputs": [],
   "source": [
    "line_coords = SkyCoord([-1200, 1200], [500, 500], unit=(u.arcsec, u.arcsec),\n",
    "                       frame=aia_map.coordinate_frame)"
   ]
  },
  {
   "cell_type": "code",
   "execution_count": null,
   "id": "93823b97-cf0a-4bf0-bdfd-78def05f44b4",
   "metadata": {},
   "outputs": [],
   "source": [
    "fig = plt.figure()\n",
    "ax = fig.add_subplot(projection=aia_map)\n",
    "aia_map.plot(clip_interval=[5, 99.9]*u.percent)\n",
    "ax.plot_coord(line_coords)"
   ]
  },
  {
   "cell_type": "code",
   "execution_count": null,
   "id": "8ca35481-8768-44d6-a3c2-890af702839a",
   "metadata": {},
   "outputs": [],
   "source": [
    "intensity_coords = sunpy.map.pixelate_coord_path(aia_map, line_coords)"
   ]
  },
  {
   "cell_type": "code",
   "execution_count": null,
   "id": "80d3ee00-7982-4b15-adb4-38cfaff3b008",
   "metadata": {},
   "outputs": [],
   "source": [
    "intensity = sunpy.map.sample_at_coords(aia_map, intensity_coords)"
   ]
  },
  {
   "cell_type": "code",
   "execution_count": null,
   "id": "0e36bd5e-be3c-4377-8a44-74119edfe2d8",
   "metadata": {},
   "outputs": [],
   "source": [
    "angular_separation = intensity_coords.separation(intensity_coords[0]).to(u.arcsec)"
   ]
  },
  {
   "cell_type": "code",
   "execution_count": null,
   "id": "892d4ffc-55e4-4fdb-817a-238dbb1f9e2b",
   "metadata": {},
   "outputs": [],
   "source": [
    "plt.plot(angular_separation, intensity)\n",
    "plt.ylabel(\"Intensity (DN)\")\n",
    "plt.xlabel(\"Distance along path (arcsec)\")"
   ]
  },
  {
   "cell_type": "code",
   "execution_count": null,
   "id": "f386f781-88f2-4f8c-83b0-651b09b941ee",
   "metadata": {},
   "outputs": [],
   "source": []
  },
  {
   "cell_type": "code",
   "execution_count": null,
   "id": "010c7fbf-c529-47c6-a45a-dae59ac9c884",
   "metadata": {},
   "outputs": [],
   "source": []
  },
  {
   "cell_type": "code",
   "execution_count": null,
   "id": "1de89a17-59de-465c-b8db-137a11b8c9ae",
   "metadata": {},
   "outputs": [],
   "source": []
  },
  {
   "cell_type": "code",
   "execution_count": null,
   "id": "e81a9487-1b39-4fa6-93b4-1f14a1c7e63b",
   "metadata": {},
   "outputs": [],
   "source": []
  },
  {
   "cell_type": "code",
   "execution_count": null,
   "id": "b0bb38b0-7097-40ab-9c19-fed78f242483",
   "metadata": {},
   "outputs": [],
   "source": []
  }
 ],
 "metadata": {
  "kernelspec": {
   "display_name": "Python 3 (ipykernel)",
   "language": "python",
   "name": "python3"
  },
  "language_info": {
   "codemirror_mode": {
    "name": "ipython",
    "version": 3
   },
   "file_extension": ".py",
   "mimetype": "text/x-python",
   "name": "python",
   "nbconvert_exporter": "python",
   "pygments_lexer": "ipython3",
   "version": "3.9.19"
  }
 },
 "nbformat": 4,
 "nbformat_minor": 5
}
