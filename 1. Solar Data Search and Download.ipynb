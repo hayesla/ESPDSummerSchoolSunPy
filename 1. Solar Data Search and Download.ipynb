{
 "cells": [
  {
   "cell_type": "markdown",
   "id": "f1710e8a",
   "metadata": {},
   "source": [
    "<div>\n",
    "<img src=\"./images/sunpy_logo.png\" width=\"500\" align=\"left\"/>\n",
    "</div>"
   ]
  },
  {
   "cell_type": "markdown",
   "id": "a13c3bfc",
   "metadata": {},
   "source": [
    "# 1. Searching and downloading data with sunpy\n",
    "\n",
    "\n",
    "\n",
    "In this notebook, an introduction to how you can search for and download data with sunpy. We will begin with an intoduction to `astropy.units` (which are used throughout the sunpy ecosystem), and then look about how to use `Fido` and build queries for data. In particular, this notebook will look at the following:\n",
    "\n",
    "1. Introduction to `astropy.units`\n",
    "2. Overview of `Fido` \n",
    "3. Constructing a data search query and inspecting it\n",
    "4. More complex queries and the HEK\n",
    "5. Extending Fido - the SOAR archive"
   ]
  },
  {
   "cell_type": "code",
   "execution_count": null,
   "id": "f28cbfae",
   "metadata": {},
   "outputs": [],
   "source": [
    "import astropy.units as u\n",
    "\n",
    "from sunpy.net import Fido, attrs as a\n",
    "from sunpy.time import parse_time\n",
    "\n",
    "# sunpy_soar is an affiliated package of SunPy \n",
    "# and registers the SOAR to be searched by Fido\n",
    "import sunpy_soar\n",
    "\n",
    "import numpy as np"
   ]
  },
  {
   "cell_type": "markdown",
   "id": "794e90d2",
   "metadata": {},
   "source": [
    "## 1.1 Astropy Units - a quick overview\n",
    "[`astropy.units`](https://docs.astropy.org/en/stable/units/) provides a means to deal with and handle numbers/arrays etc that have an associated physical quantity (e.g. km, seconds, Kelvin). Throughout SunPy, any physical input or outputs is an [`astropy.Quantity`](https://docs.astropy.org/en/stable/units/quantity.html#quantity). Lets look at how we can create and convert between astropy units. Above we have imported `astropy.units` as `u`"
   ]
  },
  {
   "cell_type": "code",
   "execution_count": null,
   "id": "8e283ed4",
   "metadata": {},
   "outputs": [],
   "source": [
    "distance_in_km = 10*u.km"
   ]
  },
  {
   "cell_type": "code",
   "execution_count": null,
   "id": "a7141e03",
   "metadata": {},
   "outputs": [],
   "source": [
    "distance_in_km"
   ]
  },
  {
   "cell_type": "code",
   "execution_count": null,
   "id": "a9aefb03",
   "metadata": {},
   "outputs": [],
   "source": [
    "distance_in_km.unit"
   ]
  },
  {
   "cell_type": "code",
   "execution_count": null,
   "id": "cb5ff37f",
   "metadata": {},
   "outputs": [],
   "source": [
    "distance_in_km.value"
   ]
  },
  {
   "cell_type": "markdown",
   "id": "311d885f",
   "metadata": {},
   "source": [
    "We can convert between equivalent units"
   ]
  },
  {
   "cell_type": "code",
   "execution_count": null,
   "id": "7122243b",
   "metadata": {},
   "outputs": [],
   "source": [
    "distance_in_km.cgs"
   ]
  },
  {
   "cell_type": "code",
   "execution_count": null,
   "id": "fd0e1145",
   "metadata": {},
   "outputs": [],
   "source": [
    "distance_in_km.to(u.parsec)"
   ]
  },
  {
   "cell_type": "code",
   "execution_count": null,
   "id": "99eec9d7",
   "metadata": {},
   "outputs": [],
   "source": [
    "distance_in_km.to(u.Mm)"
   ]
  },
  {
   "cell_type": "markdown",
   "id": "23159e01",
   "metadata": {},
   "source": [
    "However you can only convert between physical units that make sense for example:"
   ]
  },
  {
   "cell_type": "code",
   "execution_count": null,
   "id": "ad864f56",
   "metadata": {},
   "outputs": [],
   "source": [
    "#distance_in_km.to(u.second)"
   ]
  },
  {
   "cell_type": "code",
   "execution_count": null,
   "id": "6b093418",
   "metadata": {},
   "outputs": [],
   "source": [
    "time_in_sec = 60*u.s"
   ]
  },
  {
   "cell_type": "code",
   "execution_count": null,
   "id": "69b713e2",
   "metadata": {},
   "outputs": [],
   "source": [
    "(distance_in_km/time_in_sec).unit"
   ]
  },
  {
   "cell_type": "code",
   "execution_count": null,
   "id": "b6927b8d-c009-496f-9c4a-faa3a56ac976",
   "metadata": {},
   "outputs": [],
   "source": [
    "(10*u.Angstrom).to(u.nm)"
   ]
  },
  {
   "cell_type": "markdown",
   "id": "14721904",
   "metadata": {},
   "source": [
    "# 1.2 Overview of sunpy's Fido Unified Downloader\n",
    "Fido is sunpy's interface for searching and downloading solar physics data.\n",
    "It offers a unified interface for searching and fetching data irrespective of the underlying client or webservice from where the data is obtained.\n",
    "You can also search and accesses multiple instruments and all available data providers in a single query.\n",
    "It supplies a single, easy, consistent and extendable way to get most forms of solar physics data the community need.\n",
    "\n",
    "For more information about Fido and how to use it check out the documentation on our website: https://docs.sunpy.org/en/stable/tutorial/acquiring_data/index.html\n",
    "\n",
    "Fido offers access to data available through:\n",
    "\n",
    "* VSO (Virtual Solar Observatory)\n",
    "* JSOC (through drms)\n",
    "* Individual data providers from web accessible sources (http, ftp, etc)\n",
    "* CDAWeb\n",
    "* HEK\n",
    "* HELIO\n",
    "  \n",
    "As described here Fido provides access to many sources of data through different clients, these clients can be defined inside sunpy or in other packages (e.g. DKIST data can be accessed using Fido through [DKIST User Tools](https://docs.dkist.nso.edu/projects/python-tools/en/latest/tutorial/2_search_and_asdf_download.html)).\n"
   ]
  },
  {
   "cell_type": "markdown",
   "id": "e8c1cd46-f290-4a4c-b097-bd27cf091de2",
   "metadata": {},
   "source": [
    "#### Importantly, Solar Orbiter data can be accessed through the client defined in the `sunpy_soar` affiliated package.\n",
    "The SOAR client is registered once we install `sunpy_soar` above. Without installing it, it wont be registered within Fido.\n",
    "\n",
    "Lets first inspect the clients that are available through Fido:"
   ]
  },
  {
   "cell_type": "code",
   "execution_count": null,
   "id": "469763e5",
   "metadata": {},
   "outputs": [],
   "source": [
    "Fido"
   ]
  },
  {
   "cell_type": "markdown",
   "id": "fa91016b",
   "metadata": {},
   "source": [
    "### Using attributes to search for data with Fido\n",
    "\n",
    "Sunpy uses specified **attributes** to search for data using Fido. The range of these attributes is located in the `attrs` submodule. These `attr` parameters can be combined together to construct data search queries, such as searching over a certain time period, for data from a certain instrument with a certain wavelength etc.\n",
    "\n",
    "Different clients and provides will have client-specific attributes, but the core attributes are:\n",
    "\n",
    "* `a.Time`\n",
    "* `a.Instrument`\n",
    "* `a.Wavelength`\n",
    "\n",
    "\n",
    "Lets look at how these attributes work in more detail.\n",
    "\n",
    "First we can look at `a.Time`, which is used to specify the timerange of a query."
   ]
  },
  {
   "cell_type": "code",
   "execution_count": null,
   "id": "c5031ee2",
   "metadata": {},
   "outputs": [],
   "source": [
    "a.Time(\"2022-04-02 12:00\", \"2022-04-02 15:00\")"
   ]
  },
  {
   "cell_type": "markdown",
   "id": "ca089e11",
   "metadata": {},
   "source": [
    "We can inspect the instrument attribute to see what instrument `attrs` are currently supported through sunpy. Here we can see the instrument name (i.e. the name to be passed to the `a.Instrument` attribute, the client from which the data is available to access, and the full name of the instrument.)"
   ]
  },
  {
   "cell_type": "code",
   "execution_count": null,
   "id": "7374a7ba",
   "metadata": {},
   "outputs": [],
   "source": [
    "a.Instrument"
   ]
  },
  {
   "cell_type": "markdown",
   "id": "03410afd",
   "metadata": {},
   "source": [
    "sunpy also now provides tab completion to auto-fill the attribute name"
   ]
  },
  {
   "cell_type": "code",
   "execution_count": null,
   "id": "88dbb7e6",
   "metadata": {},
   "outputs": [],
   "source": [
    "a.Instrument.eit"
   ]
  },
  {
   "cell_type": "markdown",
   "id": "fbd8f459",
   "metadata": {},
   "source": [
    "To search for certain wavelengths, we need to specify the input as an `astropy.Quantity` which is a the combination of a value and an associated unit. This is something is universal in the sunpy stack - that every physical input/output is a `Quantity`."
   ]
  },
  {
   "cell_type": "code",
   "execution_count": null,
   "id": "da857406",
   "metadata": {},
   "outputs": [],
   "source": [
    "a.Wavelength(17.1*u.angstrom)"
   ]
  },
  {
   "cell_type": "markdown",
   "id": "3913aee6",
   "metadata": {},
   "source": [
    "## 3. Constructing a search query\n",
    " ### A simple query\n",
    "\n",
    "Lets create a simple query to search for data from AIA over a particular time period"
   ]
  },
  {
   "cell_type": "code",
   "execution_count": null,
   "id": "43e3aa55",
   "metadata": {},
   "outputs": [],
   "source": [
    "result = Fido.search(a.Time(\"2022-04-02 12:00\", \"2022-04-02 15:00\"), \n",
    "                     a.Instrument(\"AIA\"))"
   ]
  },
  {
   "cell_type": "code",
   "execution_count": null,
   "id": "8eab1f86",
   "metadata": {},
   "outputs": [],
   "source": [
    "result"
   ]
  },
  {
   "cell_type": "markdown",
   "id": "793849e1",
   "metadata": {},
   "source": [
    "Now lets make our query a bit more specific, say, say we only want one wavelength band from AIA. This can be achieved by specifying the `Wavelength` attribute within the search. The `a.Wavelength` attribute is passed as an `astropy.Quantity`:"
   ]
  },
  {
   "cell_type": "code",
   "execution_count": null,
   "id": "e0f7f04f",
   "metadata": {},
   "outputs": [],
   "source": [
    "result = Fido.search(a.Time(\"2022-04-02 12:00\", \"2022-04-02 15:00\"), \n",
    "                     a.Instrument(\"AIA\"), \n",
    "                     a.Wavelength(304*u.angstrom))"
   ]
  },
  {
   "cell_type": "code",
   "execution_count": null,
   "id": "c0762672",
   "metadata": {},
   "outputs": [],
   "source": [
    "result"
   ]
  },
  {
   "cell_type": "markdown",
   "id": "0e769920",
   "metadata": {},
   "source": [
    "We can further specify this query by choosing the cadence (time-sampling) of the data we want to search for and download. This can be achieved by using the Sample attribute. Similar to the Wavelength attributes, this needs to be an astropy Quantity. Lets further specify the search above to only search for data with a cadence of 10 minutes."
   ]
  },
  {
   "cell_type": "code",
   "execution_count": null,
   "id": "863e63bc",
   "metadata": {},
   "outputs": [],
   "source": [
    "result = Fido.search(a.Time(\"2022-04-02 12:00\", \"2022-04-02 15:00\"), \n",
    "                     a.Instrument(\"AIA\"), \n",
    "                     a.Wavelength(171*u.angstrom),\n",
    "                     a.Sample(10*u.min))"
   ]
  },
  {
   "cell_type": "code",
   "execution_count": null,
   "id": "b74c5b89",
   "metadata": {},
   "outputs": [],
   "source": [
    "len(result[0])"
   ]
  },
  {
   "cell_type": "markdown",
   "id": "ada3df30",
   "metadata": {},
   "source": [
    "## 1.3 Downloading the data\n",
    "\n",
    "Now we can show how data that is queried above can be downloaded. Once the data you have searched for (and filtered etc) is constructed into a query using `Fido.search`, you can then easily download them using `Fido.fetch`.\n",
    "\n",
    "The data is downloaded via asynchronous and parallel download streams (via parfive), and also allows for failed data downloads to be recognized so that files can be re-requested if not downloaded.\n",
    "\n",
    "Lets now look at how a `UnifiedResponse` from a `Fido.search` can be passed to `Fido.fetch` to download the data"
   ]
  },
  {
   "cell_type": "code",
   "execution_count": null,
   "id": "b4386132",
   "metadata": {},
   "outputs": [],
   "source": [
    "files = Fido.fetch(result)"
   ]
  },
  {
   "cell_type": "markdown",
   "id": "f095dcd5",
   "metadata": {},
   "source": [
    "These files are downloaded to a local location set in the sunpy.config.file, which by default is ~/sunpy/data/. Fido.fetch returns a parfile.Results object which gives the path to where the files are downloaded to"
   ]
  },
  {
   "cell_type": "code",
   "execution_count": null,
   "id": "f76b4459",
   "metadata": {},
   "outputs": [],
   "source": [
    "print(files[0])"
   ]
  },
  {
   "cell_type": "markdown",
   "id": "f3c0862d",
   "metadata": {},
   "source": [
    "You can also define what directory you want the files to be saved to by passing the directory path to the path keyword in Fido.fetch. For example, I want to download these files to a local directory `./AIA/<name_of_file>`"
   ]
  },
  {
   "cell_type": "code",
   "execution_count": null,
   "id": "e55343c5",
   "metadata": {},
   "outputs": [],
   "source": [
    "Fido.fetch(result, path=\"./{instrument}/{file}\")"
   ]
  },
  {
   "cell_type": "markdown",
   "id": "8cf2ef5f",
   "metadata": {},
   "source": [
    "## 1. 4 More complex queries\n",
    "\n",
    "In addition to making a query to one client for one instrument, `Fido` allows the flexibility to search for data from multiple instruments, wavelengths, times etc, even when the data is being obtained through different clients.\n",
    "\n",
    "This query can be constructed by using the pipe `|` operator, which joins queries together just like the OR operator.\n",
    "\n",
    "Lets now make a query that searches for both GOES/XRS and AIA data over a particular time period"
   ]
  },
  {
   "cell_type": "code",
   "execution_count": null,
   "id": "e4fa673c",
   "metadata": {},
   "outputs": [],
   "source": [
    "result = Fido.search(a.Time(\"2022-04-02 12:00\", \"2022-04-02 15:00\"), \n",
    "                     a.Instrument.xrs  | (a.Instrument.aia & a.Wavelength(304*u.angstrom) & a.Sample(10*u.min)))"
   ]
  },
  {
   "cell_type": "code",
   "execution_count": null,
   "id": "44e101c1",
   "metadata": {},
   "outputs": [],
   "source": [
    "len(result)"
   ]
  },
  {
   "cell_type": "code",
   "execution_count": null,
   "id": "c26cfaa3",
   "metadata": {},
   "outputs": [],
   "source": [
    "result"
   ]
  },
  {
   "cell_type": "code",
   "execution_count": null,
   "id": "da25e1f5",
   "metadata": {},
   "outputs": [],
   "source": [
    "result[0]"
   ]
  },
  {
   "cell_type": "code",
   "execution_count": null,
   "id": "38dbbf93",
   "metadata": {},
   "outputs": [],
   "source": [
    "result.all_colnames"
   ]
  },
  {
   "cell_type": "markdown",
   "id": "8c6e4a7b",
   "metadata": {},
   "source": [
    "Lets download the GOES XRS data first"
   ]
  },
  {
   "cell_type": "code",
   "execution_count": null,
   "id": "f1a1224b",
   "metadata": {},
   "outputs": [],
   "source": [
    "Fido.fetch(result[0, 0], path=\"./{instrument}/{file}\")"
   ]
  },
  {
   "cell_type": "markdown",
   "id": "c8177428",
   "metadata": {},
   "source": [
    "Now lets say we only want to download one AIA file at a particular time, we can also search the table for certain conditions. Lets say we just want the file that closest to 2022-04-02 13:00. "
   ]
  },
  {
   "cell_type": "code",
   "execution_count": null,
   "id": "dcfc7d60",
   "metadata": {},
   "outputs": [],
   "source": [
    "(np.abs(result[1][\"Start Time\"] - parse_time(\"2022-04-02 13:00\"))).argmin()"
   ]
  },
  {
   "cell_type": "code",
   "execution_count": null,
   "id": "5161e74f",
   "metadata": {},
   "outputs": [],
   "source": [
    "Fido.fetch(result[1, 6], path=\"./\")"
   ]
  },
  {
   "cell_type": "markdown",
   "id": "088e73fe",
   "metadata": {},
   "source": [
    "\n",
    "## 1. 5 Using External Fido Clients \n",
    "\n",
    "Within `sunpy` core, we support a number of clients to common data providers. However, the `Fido` search interface is extensible such that external packages can write that their own clients that extend `Fido` in order to additional data sources. One such example is the `sunpy_soar` package which adds a client for the Solar Orbter Archive (SOAR).\n"
   ]
  },
  {
   "cell_type": "markdown",
   "id": "fe446878",
   "metadata": {},
   "source": [
    "## SOAR archive searching using sunpy!"
   ]
  },
  {
   "cell_type": "code",
   "execution_count": null,
   "id": "7bdec4a5",
   "metadata": {},
   "outputs": [],
   "source": [
    "import sunpy_soar"
   ]
  },
  {
   "cell_type": "markdown",
   "id": "7237899c",
   "metadata": {},
   "source": [
    "Note that after importing `sunpy_soar`, the SOAR is now listed as a client that `Fido` will search."
   ]
  },
  {
   "cell_type": "code",
   "execution_count": null,
   "id": "65f58c44",
   "metadata": {},
   "outputs": [],
   "source": [
    "Fido"
   ]
  },
  {
   "cell_type": "code",
   "execution_count": null,
   "id": "e67e40ed",
   "metadata": {},
   "outputs": [],
   "source": [
    "eui_query = Fido.search(a.Time(\"2022-04-02 12:00\", \"2022-04-02 15:00\"), \n",
    "                        a.soar.Product(\"EUI-FSI174-IMAGE\"), \n",
    "                        a.Level(2))"
   ]
  },
  {
   "cell_type": "code",
   "execution_count": null,
   "id": "f467ded0",
   "metadata": {},
   "outputs": [],
   "source": [
    "eui_query"
   ]
  },
  {
   "cell_type": "code",
   "execution_count": null,
   "id": "90f51d06",
   "metadata": {},
   "outputs": [],
   "source": [
    "Fido.fetch(eui_query, path=\"./{instrument}/{file}\")"
   ]
  },
  {
   "cell_type": "markdown",
   "id": "782168ca",
   "metadata": {},
   "source": [
    "We can also search for other data products, for example the Solar Orbiter MAG"
   ]
  },
  {
   "cell_type": "code",
   "execution_count": null,
   "id": "0c24dc25",
   "metadata": {},
   "outputs": [],
   "source": [
    "mag_query = Fido.search(a.Time(\"2022-04-02\", \"2022-04-05\"), \n",
    "                        a.soar.Product(\"MAG-RTN-NORMAL-1-MINUTE\"), \n",
    "                        a.Level(2))"
   ]
  },
  {
   "cell_type": "code",
   "execution_count": null,
   "id": "0fdb0ac2",
   "metadata": {},
   "outputs": [],
   "source": [
    "mag_query"
   ]
  },
  {
   "cell_type": "code",
   "execution_count": null,
   "id": "55f74e44",
   "metadata": {},
   "outputs": [],
   "source": [
    "mag_files = Fido.fetch(mag_query, path=\"./{instrument}/{file}\")"
   ]
  },
  {
   "cell_type": "code",
   "execution_count": null,
   "id": "6d3613dd-3c24-447d-a730-013a8b974b91",
   "metadata": {},
   "outputs": [],
   "source": [
    "mag_files"
   ]
  },
  {
   "cell_type": "markdown",
   "id": "c9c7b8a2-629f-491e-ab6c-b17151ea3841",
   "metadata": {},
   "source": [
    "# Accessing data from the CDAWeb with sunpy - which is very helpful for in-situ data\n",
    "\n",
    "There is also a CDAWeb client within sunpy. CDAWeb data can be accessed when the `cdaweb.Dataset` attribute is provided to the search.\n",
    "\n",
    "The data available from the SOAR is also available from the CDAWeb. You may be used to working with this (especially if you mainly work with in-situ observations), so lets go through how the data can also be accessed this way. This is handy, as you can also access many other in-situ measurements from this too."
   ]
  },
  {
   "cell_type": "code",
   "execution_count": null,
   "id": "9e03b142-e8ca-491f-957f-d38928994b6f",
   "metadata": {},
   "outputs": [],
   "source": [
    "res_cdaw = Fido.search(a.Time(\"2022-04-02\", \"2022-04-05\"), \n",
    "                       a.cdaweb.Dataset('SOLO_L2_MAG-RTN-NORMAL-1-MINUTE'))"
   ]
  },
  {
   "cell_type": "code",
   "execution_count": null,
   "id": "40c53d0e-c8a4-44cc-a1b2-928dcb137fb7",
   "metadata": {},
   "outputs": [],
   "source": [
    "res_cdaw"
   ]
  },
  {
   "cell_type": "code",
   "execution_count": null,
   "id": "69bf1577-b879-4896-a970-1b8e835f3bc4",
   "metadata": {},
   "outputs": [],
   "source": [
    "mag_cdaw_files = Fido.fetch(res_cdaw)"
   ]
  },
  {
   "cell_type": "markdown",
   "id": "24fc8981-e1d6-454d-a21d-ba434e28c346",
   "metadata": {},
   "source": [
    "## Accessing Metadata queries e.g. information from the HEK\n",
    "\n",
    "As well as Fido providing an interface to search for data files that can be downloaded, Fido also allows you to query metadata. Currently Fido supports metadata searching from the HEK, HELIO and JSOC.\n",
    "\n",
    "Similar to what we have seen so far, the search results of these clients are a UnifiedResponse object which can then be indexed and the QueryResponse table accessed like an astropy table. Lets look at an example of how we can use Fido to query the HEK.\n",
    "\n",
    "Lets query for the active regions defined by SWPC over the past month. This can be done by using the HEK client specific attributes a.hek.attrs"
   ]
  },
  {
   "cell_type": "code",
   "execution_count": null,
   "id": "14db3544-d8ca-4cd3-8c45-94dc833b81df",
   "metadata": {},
   "outputs": [],
   "source": [
    "from sunpy.net import Fido, attrs as a"
   ]
  },
  {
   "cell_type": "code",
   "execution_count": null,
   "id": "18ef40e2-0ddf-46b2-998c-62c2b363e3f3",
   "metadata": {},
   "outputs": [],
   "source": [
    "result_hek = Fido.search(a.Time(\"2022-04-02\", \"2022-04-03\"), \n",
    "                         a.hek.FL, a.hek.FRM.Name=='SSW Latest Events')"
   ]
  },
  {
   "cell_type": "code",
   "execution_count": null,
   "id": "7ee208e9-63fd-4259-93d4-30e2ac9edc53",
   "metadata": {},
   "outputs": [],
   "source": [
    "result_hek[\"hek\"][\"event_starttime\", \"event_peaktime\",\n",
    "                               \"event_endtime\", \"fl_goescls\", \"ar_noaanum\", \"frm_name\"]"
   ]
  },
  {
   "cell_type": "code",
   "execution_count": null,
   "id": "e97ba48c-1c4e-40a4-a76d-7204d716eafb",
   "metadata": {},
   "outputs": [],
   "source": [
    "result_hek = Fido.search(a.Time(\"2022-04-02\", \"2022-04-03\"), \n",
    "                         a.hek.CE)"
   ]
  },
  {
   "cell_type": "code",
   "execution_count": null,
   "id": "7b8a4336-ab8b-45b0-880a-d9c271162644",
   "metadata": {},
   "outputs": [],
   "source": [
    "result_hek[0][0]"
   ]
  },
  {
   "cell_type": "code",
   "execution_count": null,
   "id": "72059e75-eac6-4ea3-a5c6-4da30e8a06ca",
   "metadata": {},
   "outputs": [],
   "source": [
    "result_hek[0][0][\"hpc_bbox\"]"
   ]
  },
  {
   "cell_type": "code",
   "execution_count": null,
   "id": "7270d8dd-2cbf-4ba5-a6a2-0c1958a2080a",
   "metadata": {},
   "outputs": [],
   "source": []
  }
 ],
 "metadata": {
  "kernelspec": {
   "display_name": "Python 3 (ipykernel)",
   "language": "python",
   "name": "python3"
  },
  "language_info": {
   "codemirror_mode": {
    "name": "ipython",
    "version": 3
   },
   "file_extension": ".py",
   "mimetype": "text/x-python",
   "name": "python",
   "nbconvert_exporter": "python",
   "pygments_lexer": "ipython3",
   "version": "3.12.3"
  }
 },
 "nbformat": 4,
 "nbformat_minor": 5
}
