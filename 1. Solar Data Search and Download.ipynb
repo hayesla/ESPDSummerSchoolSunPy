{
 "cells": [
  {
   "cell_type": "markdown",
   "id": "f1710e8a",
   "metadata": {},
   "source": [
    "<div>\n",
    "<img src=\"./images/sunpy_logo.png\" width=\"500\" align=\"left\"/>\n",
    "</div>"
   ]
  },
  {
   "cell_type": "markdown",
   "id": "a13c3bfc",
   "metadata": {},
   "source": [
    "# 1. Searching and downloading data with sunpy\n",
    "\n",
    "\n",
    "\n",
    "In this notebook, an introduction to how you can search for and download data with sunpy. We will begin with an intoduction to `astropy.units` (which are used throughout the sunpy ecosystem), and then look about how to use `Fido` and build queries for data. In particular, this notebook will look at the following:\n",
    "\n",
    "1. Introduction to `astropy.units`\n",
    "2. Overview of `Fido` \n",
    "3. Constructing a data search query and inspecting it\n",
    "4. More complex queries and the HEK\n",
    "5. Extending Fido - the SOAR archive"
   ]
  },
  {
   "cell_type": "code",
   "execution_count": 1,
   "id": "f28cbfae",
   "metadata": {},
   "outputs": [],
   "source": [
    "import astropy.units as u\n",
    "\n",
    "from sunpy.net import Fido, attrs as a\n",
    "from sunpy.time import parse_time\n",
    "\n",
    "# sunpy_soar is an affiliated package of SunPy \n",
    "# and registers the SOAR to be searched by Fido\n",
    "import sunpy_soar\n",
    "\n",
    "import numpy as np"
   ]
  },
  {
   "cell_type": "markdown",
   "id": "794e90d2",
   "metadata": {},
   "source": [
    "## 1.1 Astropy Units - a quick overview\n",
    "[`astropy.units`](https://docs.astropy.org/en/stable/units/) provides a means to deal with and handle numbers/arrays etc that have an associated physical quantity (e.g. km, seconds, Kelvin). Throughout SunPy, any physical input or outputs is an [`astropy.Quantity`](https://docs.astropy.org/en/stable/units/quantity.html#quantity). Lets look at how we can create and convert between astropy units. Above we have imported `astropy.units` as `u`"
   ]
  },
  {
   "cell_type": "code",
   "execution_count": 2,
   "id": "8e283ed4",
   "metadata": {},
   "outputs": [],
   "source": [
    "distance_in_km = 10*u.km"
   ]
  },
  {
   "cell_type": "code",
   "execution_count": 3,
   "id": "a7141e03",
   "metadata": {},
   "outputs": [
    {
     "data": {
      "text/latex": [
       "$10 \\; \\mathrm{km}$"
      ],
      "text/plain": [
       "<Quantity 10. km>"
      ]
     },
     "execution_count": 3,
     "metadata": {},
     "output_type": "execute_result"
    }
   ],
   "source": [
    "distance_in_km"
   ]
  },
  {
   "cell_type": "code",
   "execution_count": 4,
   "id": "a9aefb03",
   "metadata": {},
   "outputs": [
    {
     "data": {
      "text/latex": [
       "$\\mathrm{km}$"
      ],
      "text/plain": [
       "Unit(\"km\")"
      ]
     },
     "execution_count": 4,
     "metadata": {},
     "output_type": "execute_result"
    }
   ],
   "source": [
    "distance_in_km.unit"
   ]
  },
  {
   "cell_type": "code",
   "execution_count": 5,
   "id": "cb5ff37f",
   "metadata": {},
   "outputs": [
    {
     "data": {
      "text/plain": [
       "10.0"
      ]
     },
     "execution_count": 5,
     "metadata": {},
     "output_type": "execute_result"
    }
   ],
   "source": [
    "distance_in_km.value"
   ]
  },
  {
   "cell_type": "markdown",
   "id": "311d885f",
   "metadata": {},
   "source": [
    "We can convert between equivalent units"
   ]
  },
  {
   "cell_type": "code",
   "execution_count": 6,
   "id": "7122243b",
   "metadata": {},
   "outputs": [
    {
     "data": {
      "text/latex": [
       "$1000000 \\; \\mathrm{cm}$"
      ],
      "text/plain": [
       "<Quantity 1000000. cm>"
      ]
     },
     "execution_count": 6,
     "metadata": {},
     "output_type": "execute_result"
    }
   ],
   "source": [
    "distance_in_km.cgs"
   ]
  },
  {
   "cell_type": "code",
   "execution_count": 7,
   "id": "fd0e1145",
   "metadata": {},
   "outputs": [
    {
     "data": {
      "text/latex": [
       "$3.2407793 \\times 10^{-13} \\; \\mathrm{pc}$"
      ],
      "text/plain": [
       "<Quantity 3.24077929e-13 pc>"
      ]
     },
     "execution_count": 7,
     "metadata": {},
     "output_type": "execute_result"
    }
   ],
   "source": [
    "distance_in_km.to(u.parsec)"
   ]
  },
  {
   "cell_type": "code",
   "execution_count": 8,
   "id": "99eec9d7",
   "metadata": {},
   "outputs": [
    {
     "data": {
      "text/latex": [
       "$0.01 \\; \\mathrm{Mm}$"
      ],
      "text/plain": [
       "<Quantity 0.01 Mm>"
      ]
     },
     "execution_count": 8,
     "metadata": {},
     "output_type": "execute_result"
    }
   ],
   "source": [
    "distance_in_km.to(u.Mm)"
   ]
  },
  {
   "cell_type": "markdown",
   "id": "23159e01",
   "metadata": {},
   "source": [
    "However you can only convert between physical units that make sense for example:"
   ]
  },
  {
   "cell_type": "code",
   "execution_count": 9,
   "id": "ad864f56",
   "metadata": {},
   "outputs": [],
   "source": [
    "#distance_in_km.to(u.second)"
   ]
  },
  {
   "cell_type": "code",
   "execution_count": 10,
   "id": "6b093418",
   "metadata": {},
   "outputs": [],
   "source": [
    "time_in_sec = 60*u.s"
   ]
  },
  {
   "cell_type": "code",
   "execution_count": 11,
   "id": "69b713e2",
   "metadata": {},
   "outputs": [
    {
     "data": {
      "text/latex": [
       "$\\mathrm{\\frac{km}{s}}$"
      ],
      "text/plain": [
       "Unit(\"km / s\")"
      ]
     },
     "execution_count": 11,
     "metadata": {},
     "output_type": "execute_result"
    }
   ],
   "source": [
    "(distance_in_km/time_in_sec).unit"
   ]
  },
  {
   "cell_type": "code",
   "execution_count": 12,
   "id": "b6927b8d-c009-496f-9c4a-faa3a56ac976",
   "metadata": {},
   "outputs": [
    {
     "data": {
      "text/latex": [
       "$1 \\; \\mathrm{nm}$"
      ],
      "text/plain": [
       "<Quantity 1. nm>"
      ]
     },
     "execution_count": 12,
     "metadata": {},
     "output_type": "execute_result"
    }
   ],
   "source": [
    "(10*u.Angstrom).to(u.nm)"
   ]
  },
  {
   "cell_type": "markdown",
   "id": "14721904",
   "metadata": {},
   "source": [
    "# 1.2 Overview of sunpy's Fido Unified Downloader\n",
    "Fido is sunpy's interface for searching and downloading solar physics data.\n",
    "It offers a unified interface for searching and fetching data irrespective of the underlying client or webservice from where the data is obtained.\n",
    "You can also search and accesses multiple instruments and all available data providers in a single query.\n",
    "It supplies a single, easy, consistent and extendable way to get most forms of solar physics data the community need.\n",
    "\n",
    "For more information about Fido and how to use it check out the documentation on our website: https://docs.sunpy.org/en/stable/tutorial/acquiring_data/index.html\n",
    "\n",
    "Fido offers access to data available through:\n",
    "\n",
    "* VSO (Virtual Solar Observatory)\n",
    "* JSOC (through drms)\n",
    "* Individual data providers from web accessible sources (http, ftp, etc)\n",
    "* CDAWeb\n",
    "* HEK\n",
    "* HELIO\n",
    "  \n",
    "As described here Fido provides access to many sources of data through different clients, these clients can be defined inside sunpy or in other packages (e.g. DKIST data can be accessed using Fido through [DKIST User Tools](https://docs.dkist.nso.edu/projects/python-tools/en/latest/tutorial/2_search_and_asdf_download.html)).\n"
   ]
  },
  {
   "cell_type": "markdown",
   "id": "e8c1cd46-f290-4a4c-b097-bd27cf091de2",
   "metadata": {},
   "source": [
    "#### Importantly, Solar Orbiter data can be accessed through the client defined in the `sunpy_soar` affiliated package.\n",
    "The SOAR client is registered once we install `sunpy_soar` above. Without installing it, it wont be registered within Fido.\n",
    "\n",
    "Lets first inspect the clients that are available through Fido:"
   ]
  },
  {
   "cell_type": "code",
   "execution_count": 13,
   "id": "469763e5",
   "metadata": {},
   "outputs": [
    {
     "data": {
      "text/html": [
       "<p>sunpy.net.Fido</p>\n",
       "<p>\n",
       "Fido is a unified data search and retrieval tool.\n",
       "\n",
       "It provides simultaneous access to a variety of online data sources, some\n",
       "cover multiple instruments and data products like the Virtual Solar\n",
       "Observatory and some are specific to a single source.\n",
       "\n",
       "For details of using `~sunpy.net.Fido` see :ref:`sunpy-tutorial-acquiring-data-index`.\n",
       "\n",
       "</p>\n",
       "<table id=\"table4364107696\">\n",
       "<thead><tr><th>Client</th><th>Description</th></tr></thead>\n",
       "<tr><td>CDAWEBClient</td><td>Provides access to query and download from the Coordinated Data Analysis Web (CDAWeb).</td></tr>\n",
       "<tr><td>EVEClient</td><td>Provides access to Level 0CS Extreme ultraviolet Variability Experiment (EVE) data.</td></tr>\n",
       "<tr><td>GBMClient</td><td>Provides access to data from the Gamma-Ray Burst Monitor (GBM) instrument on board the Fermi satellite.</td></tr>\n",
       "<tr><td>XRSClient</td><td>Provides access to several GOES XRS files archive.</td></tr>\n",
       "<tr><td>SUVIClient</td><td>Provides access to data from the GOES Solar Ultraviolet Imager (SUVI).</td></tr>\n",
       "<tr><td>GONGClient</td><td>Provides access to the Magnetogram products of NSO-GONG synoptic Maps.</td></tr>\n",
       "<tr><td>LYRAClient</td><td>Provides access to the LYRA/Proba2 data archive.</td></tr>\n",
       "<tr><td>NOAAIndicesClient</td><td>Provides access to the NOAA solar cycle indices.</td></tr>\n",
       "<tr><td>NOAAPredictClient</td><td>Provides access to the NOAA SWPC predicted sunspot Number and 10.7 cm radio flux values.</td></tr>\n",
       "<tr><td>SRSClient</td><td>Provides access to the NOAA SWPC solar region summary data.</td></tr>\n",
       "<tr><td>NoRHClient</td><td>Provides access to the Nobeyama RadioHeliograph (NoRH) averaged correlation time series data.</td></tr>\n",
       "<tr><td>RHESSIClient</td><td>Provides access to the RHESSI observing summary time series data.</td></tr>\n",
       "<tr><td>HEKClient</td><td>Provides access to the Heliophysics Event Knowledgebase (HEK).</td></tr>\n",
       "<tr><td>HECClient</td><td>Provides access to the HELIO webservices.</td></tr>\n",
       "<tr><td>JSOCClient</td><td>Provides access to the JSOC Data Export service.</td></tr>\n",
       "<tr><td>VSOClient</td><td>Provides access to query and download from Virtual Solar Observatory (VSO).</td></tr>\n",
       "<tr><td>SOARClient</td><td>Client to access the Solar Orbiter Archive (SOAR).</td></tr>\n",
       "</table>"
      ],
      "text/plain": [
       "<sunpy.net.fido_factory.UnifiedDownloaderFactory object at 0x123139e80>\n",
       "sunpy.net.Fido\n",
       "\n",
       "Fido is a unified data search and retrieval tool.\n",
       "\n",
       "It provides simultaneous access to a variety of online data sources, some\n",
       "cover multiple instruments and data products like the Virtual Solar\n",
       "Observatory and some are specific to a single source.\n",
       "\n",
       "For details of using `~sunpy.net.Fido` see :ref:`sunpy-tutorial-acquiring-data-index`.\n",
       "\n",
       "\n",
       "      Client      ...\n",
       "----------------- ...\n",
       "CDAWEBClient      ...\n",
       "EVEClient         ...\n",
       "GBMClient         ...\n",
       "XRSClient         ...\n",
       "SUVIClient        ...\n",
       "GONGClient        ...\n",
       "LYRAClient        ...\n",
       "NOAAIndicesClient ...\n",
       "NOAAPredictClient ...\n",
       "SRSClient         ...\n",
       "NoRHClient        ...\n",
       "RHESSIClient      ...\n",
       "HEKClient         ...\n",
       "HECClient         ...\n",
       "JSOCClient        ...\n",
       "VSOClient         ...\n",
       "SOARClient        ..."
      ]
     },
     "execution_count": 13,
     "metadata": {},
     "output_type": "execute_result"
    }
   ],
   "source": [
    "Fido"
   ]
  },
  {
   "cell_type": "markdown",
   "id": "fa91016b",
   "metadata": {},
   "source": [
    "### Using attributes to search for data with Fido\n",
    "\n",
    "Sunpy uses specified **attributes** to search for data using Fido. The range of these attributes is located in the `attrs` submodule. These `attr` parameters can be combined together to construct data search queries, such as searching over a certain time period, for data from a certain instrument with a certain wavelength etc.\n",
    "\n",
    "Different clients and provides will have client-specific attributes, but the core attributes are:\n",
    "\n",
    "* `a.Time`\n",
    "* `a.Instrument`\n",
    "* `a.Wavelength`\n",
    "\n",
    "\n",
    "Lets look at how these attributes work in more detail.\n",
    "\n",
    "First we can look at `a.Time`, which is used to specify the timerange of a query."
   ]
  },
  {
   "cell_type": "code",
   "execution_count": 46,
   "id": "c5031ee2",
   "metadata": {},
   "outputs": [
    {
     "data": {
      "text/plain": [
       "<sunpy.net.attrs.Time(2022-04-02 12:00:00.000, 2022-04-02 15:00:00.000)>"
      ]
     },
     "execution_count": 46,
     "metadata": {},
     "output_type": "execute_result"
    }
   ],
   "source": [
    "a.Time(\"2022-04-02 12:00\", \"2022-04-02 15:00\")"
   ]
  },
  {
   "cell_type": "markdown",
   "id": "ca089e11",
   "metadata": {},
   "source": [
    "We can inspect the instrument attribute to see what instrument `attrs` are currently supported through sunpy. Here we can see the instrument name (i.e. the name to be passed to the `a.Instrument` attribute, the client from which the data is available to access, and the full name of the instrument.)"
   ]
  },
  {
   "cell_type": "code",
   "execution_count": 47,
   "id": "7374a7ba",
   "metadata": {},
   "outputs": [
    {
     "data": {
      "text/html": [
       "<p>sunpy.net.attrs.Instrument</p>\n",
       "<p>\n",
       "Specifies the Instrument name for the search.\n",
       "</p>\n",
       "<table id=\"table4892170704\">\n",
       "<thead><tr><th>Attribute Name</th><th>Client</th><th>Full Name</th><th>Description</th></tr></thead>\n",
       "<tr><td>aia</td><td>VSO</td><td>AIA</td><td>Atmospheric Imaging Assembly</td></tr>\n",
       "<tr><td>bcs</td><td>VSO</td><td>BCS</td><td>Bragg Crystal Spectrometer</td></tr>\n",
       "<tr><td>be_continuum</td><td>VSO</td><td>BE-Continuum</td><td>INAF-OACT Barra Equatoriale Continuum Instrument</td></tr>\n",
       "<tr><td>be_halpha</td><td>VSO</td><td>BE-Halpha</td><td>INAF-OACT Barra Equatoriale Hα Instrument</td></tr>\n",
       "<tr><td>bigbear</td><td>VSO</td><td>Big Bear</td><td>Big Bear Solar Observatory, California TON and GONG+ sites</td></tr>\n",
       "<tr><td>caii</td><td>VSO</td><td>CAII</td><td>Kanzelhöhe Ca II k Instrument</td></tr>\n",
       "<tr><td>cds</td><td>VSO</td><td>CDS</td><td>Coronal Diagnostic Spectrometer</td></tr>\n",
       "<tr><td>celias</td><td>VSO</td><td>CELIAS</td><td>Charge, Element, and Isotope Analysis System</td></tr>\n",
       "<tr><td>cerrotololo</td><td>VSO</td><td>Cerro Tololo</td><td>Cerro Tololo, Chile GONG+ site</td></tr>\n",
       "<tr><td>chp</td><td>VSO</td><td>chp</td><td>Chromospheric Helium-I Imaging Photometer</td></tr>\n",
       "<tr><td>cook</td><td>VSO</td><td>Cook</td><td>None</td></tr>\n",
       "<tr><td>costep</td><td>VSO</td><td>COSTEP</td><td>Comprehensive Suprathermal and Energetic Particle Analyzer</td></tr>\n",
       "<tr><td>cp</td><td>VSO</td><td>cp</td><td>Coronagraph/Polarimeter</td></tr>\n",
       "<tr><td>dpm</td><td>VSO</td><td>dpm</td><td>Digital Prominence Monitor</td></tr>\n",
       "<tr><td>eis</td><td>VSO</td><td>EIS</td><td>EUV Imaging Spectrometer</td></tr>\n",
       "<tr><td>eit</td><td>VSO</td><td>EIT</td><td>Extreme ultraviolet Imaging Telescope</td></tr>\n",
       "<tr><td>elteide</td><td>VSO</td><td>El Teide</td><td>Canary Islands GONG+ site</td></tr>\n",
       "<tr><td>epd</td><td>SOAR</td><td>EPD</td><td>Energetic Particle Detector</td></tr>\n",
       "<tr><td>erne</td><td>VSO</td><td>ERNE</td><td>Energetic and Relativistic Nuclei and Electron experiment</td></tr>\n",
       "<tr><td>eui</td><td>SOAR</td><td>EUI</td><td>Extreme UV Imager</td></tr>\n",
       "<tr><td>eui</td><td>VSO</td><td>EUI</td><td>Extreme Ultravoilet Imager</td></tr>\n",
       "<tr><td>eve</td><td>EVE</td><td>EVE</td><td>Extreme ultraviolet Variability Experiment, which is part of the NASA Solar D...</td></tr>\n",
       "<tr><td>eve</td><td>VSO</td><td>EVE</td><td>Extreme Ultraviolet Variability Experiment</td></tr>\n",
       "<tr><td>film</td><td>VSO</td><td>FILM</td><td>Kanzelhöhe Hα Film Camera</td></tr>\n",
       "<tr><td>five_12_channelmagnetograph</td><td>VSO</td><td>512-channel magnetograph</td><td>512-channel Magnetograph</td></tr>\n",
       "<tr><td>foxsi</td><td>VSO</td><td>FOXSI</td><td>Focusing Optics X-ray Solar Imager</td></tr>\n",
       "<tr><td>gbm</td><td>GBM</td><td>GBM</td><td>Gamma-Ray Burst Monitor on board the Fermi satellite.</td></tr>\n",
       "<tr><td>goes</td><td>XRS</td><td>GOES</td><td>The Geostationary Operational Environmental Satellite Program.</td></tr>\n",
       "<tr><td>golf</td><td>VSO</td><td>GOLF</td><td>Global Oscillations at Low Frequencies</td></tr>\n",
       "<tr><td>gong</td><td>GONG</td><td>GONG</td><td>Global Oscillation Network Group.</td></tr>\n",
       "<tr><td>ha2</td><td>VSO</td><td>HA2</td><td>Kanzelhöhe Hα Patrol Instrument</td></tr>\n",
       "<tr><td>hi_c</td><td>VSO</td><td>Hi-C</td><td>High Resolution Coronal Imager (193 A)</td></tr>\n",
       "<tr><td>hi_c21</td><td>VSO</td><td>Hi-C21</td><td>High Resolution Coronal Imager 2.1 (172 A)</td></tr>\n",
       "<tr><td>hmi</td><td>VSO</td><td>HMI</td><td>Helioseismic and Magnetic Imager</td></tr>\n",
       "<tr><td>hxeclipse</td><td>VSO</td><td>HXECLIPSE</td><td>UCAR HAO Historical Eclipse Archive</td></tr>\n",
       "<tr><td>hxt</td><td>VSO</td><td>HXT</td><td>Hard X-Ray Telescope</td></tr>\n",
       "<tr><td>imax</td><td>VSO</td><td>IMaX</td><td>Imaging Magnetograph eXperiment</td></tr>\n",
       "<tr><td>impact</td><td>VSO</td><td>IMPACT</td><td>In-situ Measurements of Particles and CME Transients</td></tr>\n",
       "<tr><td>iris</td><td>VSO</td><td>IRIS</td><td>Interface Region Imaging Spectrograph</td></tr>\n",
       "<tr><td>isoon</td><td>VSO</td><td>ISOON</td><td>Improved Solar Observing Optical Network</td></tr>\n",
       "<tr><td>iss</td><td>VSO</td><td>ISS</td><td>None</td></tr>\n",
       "<tr><td>ivm</td><td>VSO</td><td>IVM</td><td>None</td></tr>\n",
       "<tr><td>k_cor</td><td>VSO</td><td>K-Cor</td><td>None</td></tr>\n",
       "<tr><td>kpdc</td><td>VSO</td><td>KPDC</td><td>Kanzelhöhe Photosphere Digital Camera</td></tr>\n",
       "<tr><td>lasco</td><td>VSO</td><td>LASCO</td><td>Large Angle and Spectrometric Coronagraph</td></tr>\n",
       "<tr><td>learmonth</td><td>VSO</td><td>Learmonth</td><td>Australian GONG+ site</td></tr>\n",
       "<tr><td>longwave_lobe_06</td><td>VSO</td><td>LONGWAVE-LOBE-06</td><td>Full longwave EUV observation of Sun with EUNIS (2006 flight)</td></tr>\n",
       "<tr><td>longwave_lobe_07</td><td>VSO</td><td>LONGWAVE-LOBE-07</td><td>Full longwave EUV observation of Sun with EUNIS (2007 flight)</td></tr>\n",
       "<tr><td>longwave_slit_06</td><td>VSO</td><td>LONGWAVE-SLIT-06</td><td>Full longwave EUV observation of Sun with EUNIS (trimmed/2006 flight)</td></tr>\n",
       "<tr><td>longwave_slit_07</td><td>VSO</td><td>LONGWAVE-SLIT-07</td><td>Full longwave EUV observation of Sun with EUNIS (trimmed/2007 flight)</td></tr>\n",
       "<tr><td>lyra</td><td>LYRA</td><td>LYRA</td><td>Lyman Alpha Radiometer is the solar UV radiometer on board Proba-2.</td></tr>\n",
       "<tr><td>lyra</td><td>VSO</td><td>LYRA</td><td>LYman alpha RAdiometer</td></tr>\n",
       "<tr><td>mag</td><td>SOAR</td><td>MAG</td><td>Magnetometer</td></tr>\n",
       "<tr><td>maunaloa</td><td>VSO</td><td>Mauna Loa</td><td>Hawai&apos;ian GONG+ site</td></tr>\n",
       "<tr><td>mdi</td><td>VSO</td><td>MDI</td><td>Michelson Doppler Imager</td></tr>\n",
       "<tr><td>mees</td><td>VSO</td><td>MEES</td><td>Mees Solar Observatory Imaging Spectrograph on Haleakala, Maui</td></tr>\n",
       "<tr><td>mergedgong</td><td>VSO</td><td>MERGED GONG</td><td>None</td></tr>\n",
       "<tr><td>metis</td><td>SOAR</td><td>METIS</td><td>Metis: Visible light and ultraviolet coronagraph</td></tr>\n",
       "<tr><td>meudonspectroheliograph</td><td>VSO</td><td>Meudon Spectroheliograph</td><td>None</td></tr>\n",
       "<tr><td>mk4</td><td>VSO</td><td>mk4</td><td>Mk. IV coronagraph</td></tr>\n",
       "<tr><td>noaa_indices</td><td>NOAAIndices</td><td>NOAA-Indices</td><td>Recent Solar Indices of Observed Monthly Mean Values</td></tr>\n",
       "<tr><td>noaa_predict</td><td>NOAAPredict</td><td>NOAA-Predict</td><td>Predicted Sunspot Number And Radio Flux Values With Expected Ranges.</td></tr>\n",
       "<tr><td>norh</td><td>NoRH</td><td>NORH</td><td>Nobeyama Radio Heliograph is an imaging radio telescope at 17 or 34GHz locate...</td></tr>\n",
       "<tr><td>phi</td><td>SOAR</td><td>PHI</td><td>Polarimetric and Helioseismic Imager</td></tr>\n",
       "<tr><td>phoenix</td><td>VSO</td><td>PHOENIX</td><td>PHOENIX detector on flight #3 of FOXSI</td></tr>\n",
       "<tr><td>phoka</td><td>VSO</td><td>PHOKA</td><td>Kanzelhöhe Photoheliograph</td></tr>\n",
       "<tr><td>plastic</td><td>VSO</td><td>PLASTIC</td><td>PLasma And SupraThermal Ion Composition</td></tr>\n",
       "<tr><td>ptmc</td><td>VSO</td><td>PTMC</td><td>None</td></tr>\n",
       "<tr><td>rhessi</td><td>RHESSI</td><td>RHESSI</td><td>Reuven Ramaty High Energy Solar Spectroscopic Imager.</td></tr>\n",
       "<tr><td>rhessi</td><td>VSO</td><td>RHESSI</td><td>Reuven Ramaty High Energy Solar Spectroscopic Imager</td></tr>\n",
       "<tr><td>rpw</td><td>SOAR</td><td>RPW</td><td>Radio and Plasma Wave instrument</td></tr>\n",
       "<tr><td>secchi</td><td>VSO</td><td>SECCHI</td><td>Sun Earth Connection Coronal and Heliospheric Investigation</td></tr>\n",
       "<tr><td>shortwave_lobe_06</td><td>VSO</td><td>SHORTWAVE-LOBE-06</td><td>Shortwave EUV observation of Sun with EUNIS (2006 flight)</td></tr>\n",
       "<tr><td>shortwave_lobe_07</td><td>VSO</td><td>SHORTWAVE-LOBE-07</td><td>Shortwave EUV observation of Sun with EUNIS (2007 flight)</td></tr>\n",
       "<tr><td>shortwave_slit_06</td><td>VSO</td><td>SHORTWAVE-SLIT-06</td><td>Shortwave EUV observation of Sun with EUNIS (trimmed/2006 flight)</td></tr>\n",
       "<tr><td>shortwave_slit_07</td><td>VSO</td><td>SHORTWAVE-SLIT-07</td><td>Shortwave EUV observation of Sun with EUNIS (trimmed/2007 flight)</td></tr>\n",
       "<tr><td>six_0_ftshg</td><td>VSO</td><td>60-ft SHG</td><td>60-foot Tower Spectroheliograph</td></tr>\n",
       "<tr><td>sj</td><td>VSO</td><td>SJ</td><td>Slit-Jaw</td></tr>\n",
       "<tr><td>solarftsspectrometer</td><td>VSO</td><td>solar fts spectrometer</td><td>Solar FTS Spectrometer</td></tr>\n",
       "<tr><td>solohi</td><td>SOAR</td><td>SOLOHI</td><td>Solar Orbiter Heliospheric Imager</td></tr>\n",
       "<tr><td>solohi</td><td>VSO</td><td>SoloHI</td><td>Solar Orbiter Heliospheric Imager</td></tr>\n",
       "<tr><td>soon</td><td>SRS</td><td>SOON</td><td>Solar Region Summary.</td></tr>\n",
       "<tr><td>sot</td><td>VSO</td><td>SOT</td><td>Solar Optical Telescope</td></tr>\n",
       "<tr><td>sp1</td><td>VSO</td><td>SP1</td><td>Spectropolarimeter1</td></tr>\n",
       "<tr><td>sp2</td><td>VSO</td><td>SP2</td><td>Spectropolarimeter2</td></tr>\n",
       "<tr><td>spectroheliograph</td><td>VSO</td><td>spectroheliograph</td><td>SpectroHeliograph</td></tr>\n",
       "<tr><td>spectromagnetograph</td><td>VSO</td><td>spectromagnetograph</td><td>SpectroMagnetograph</td></tr>\n",
       "<tr><td>spice</td><td>SOAR</td><td>SPICE</td><td>SPectral Investigation of the Coronal Environment</td></tr>\n",
       "<tr><td>spice</td><td>VSO</td><td>SPICE</td><td>Spectral Imaging of the Coronal Environment</td></tr>\n",
       "<tr><td>srs_table</td><td>SRS</td><td>SRS-Table</td><td>Solar Region Summary.</td></tr>\n",
       "<tr><td>stix</td><td>SOAR</td><td>STIX</td><td>Spectrometer Telescope for Imaging X-rays</td></tr>\n",
       "<tr><td>sufi</td><td>VSO</td><td>SuFI</td><td>Sunrise Filter Imager</td></tr>\n",
       "<tr><td>sumer</td><td>VSO</td><td>SUMER</td><td>Solar Ultraviolet Measurements of Emitted Radiation</td></tr>\n",
       "<tr><td>sutri</td><td>VSO</td><td>SUTRI</td><td>The Solar Upper Transition Region Imager</td></tr>\n",
       "<tr><td>suvi</td><td>SUVI</td><td>SUVI</td><td>GOES Solar Ultraviolet Imager.</td></tr>\n",
       "<tr><td>suvi</td><td>VSO</td><td>SUVI</td><td>GOES-R Series Solar Ultraviolet Imager</td></tr>\n",
       "<tr><td>swa</td><td>SOAR</td><td>SWA</td><td>Solar Wind Analyser</td></tr>\n",
       "<tr><td>swan</td><td>VSO</td><td>SWAN</td><td>Solar Wind Anisotropies</td></tr>\n",
       "<tr><td>swap</td><td>VSO</td><td>SWAP</td><td>Sun Watcher using Active pixel system detector and image Processing</td></tr>\n",
       "<tr><td>swaves</td><td>VSO</td><td>SWAVES</td><td>STEREO/WAVES</td></tr>\n",
       "<tr><td>sxt</td><td>VSO</td><td>SXT</td><td>Soft X-Ray Telescope</td></tr>\n",
       "<tr><td>t1_halpha</td><td>VSO</td><td>T1-HALPHA</td><td>T1 Hα Fulldisk</td></tr>\n",
       "<tr><td>tm_1001</td><td>VSO</td><td>TM-1001</td><td>Kanzelhöhe Hα Pulnix TM-1001 Camera</td></tr>\n",
       "<tr><td>tm_1010</td><td>VSO</td><td>TM-1010</td><td>Kanzelhöhe Hα Pulnix TM-1010 Camera</td></tr>\n",
       "<tr><td>trace</td><td>VSO</td><td>TRACE</td><td>Transition Region And Coronal Explorer</td></tr>\n",
       "<tr><td>udaipur</td><td>VSO</td><td>Udaipur</td><td>Indian GONG+ site</td></tr>\n",
       "<tr><td>uvcs</td><td>VSO</td><td>UVCS</td><td>Ultraviolet Coronagraph Spectrometer</td></tr>\n",
       "<tr><td>vault_1999</td><td>VSO</td><td>VAULT-1999</td><td>Very High Angular Resolution Ultraviolet Telescope (1999 flight)</td></tr>\n",
       "<tr><td>vault_2002</td><td>VSO</td><td>VAULT-2002</td><td>Very High Angular Resolution Ultraviolet Telescope (2002 flight)</td></tr>\n",
       "<tr><td>vault_2014</td><td>VSO</td><td>VAULT-2014</td><td>Very High Angular Resolution Ultraviolet Telescope (2014 flight)</td></tr>\n",
       "<tr><td>virgo</td><td>VSO</td><td>VIRGO</td><td>Variability of Solar Irradiance and Gravity Oscillations</td></tr>\n",
       "<tr><td>vsm</td><td>VSO</td><td>vsm</td><td>Vector SpecroMagnetograph</td></tr>\n",
       "<tr><td>wbs</td><td>VSO</td><td>WBS</td><td>Wide Band Spectrometer</td></tr>\n",
       "<tr><td>wispr</td><td>VSO</td><td>WISPR</td><td>Wide-Field Imager for Solar Probe Plus</td></tr>\n",
       "<tr><td>x123</td><td>VSO</td><td>X123</td><td>X123 SXR Spectometer</td></tr>\n",
       "<tr><td>xrs</td><td>XRS</td><td>XRS</td><td>GOES X-ray Sensor</td></tr>\n",
       "<tr><td>xrt</td><td>VSO</td><td>XRT</td><td>X-Ray Telescope</td></tr>\n",
       "</table>"
      ],
      "text/plain": [
       "<class 'sunpy.net.attrs.Instrument'>\n",
       "sunpy.net.attrs.Instrument\n",
       "\n",
       "Specifies the Instrument name for the search.\n",
       "\n",
       "       Attribute Name       ...\n",
       "--------------------------- ...\n",
       "aia                         ...\n",
       "bcs                         ...\n",
       "be_continuum                ...\n",
       "be_halpha                   ...\n",
       "bigbear                     ...\n",
       "caii                        ...\n",
       "cds                         ...\n",
       "celias                      ...\n",
       "cerrotololo                 ...\n",
       "chp                         ...\n",
       "cook                        ...\n",
       "costep                      ...\n",
       "cp                          ...\n",
       "dpm                         ...\n",
       "eis                         ...\n",
       "eit                         ...\n",
       "elteide                     ...\n",
       "epd                         ...\n",
       "erne                        ...\n",
       "eui                         ...\n",
       "eui                         ...\n",
       "eve                         ...\n",
       "eve                         ...\n",
       "film                        ...\n",
       "five_12_channelmagnetograph ...\n",
       "foxsi                       ...\n",
       "gbm                         ...\n",
       "goes                        ...\n",
       "golf                        ...\n",
       "gong                        ...\n",
       "ha2                         ...\n",
       "hi_c                        ...\n",
       "hi_c21                      ...\n",
       "hmi                         ...\n",
       "hxeclipse                   ...\n",
       "hxt                         ...\n",
       "imax                        ...\n",
       "impact                      ...\n",
       "iris                        ...\n",
       "isoon                       ...\n",
       "iss                         ...\n",
       "ivm                         ...\n",
       "k_cor                       ...\n",
       "kpdc                        ...\n",
       "lasco                       ...\n",
       "learmonth                   ...\n",
       "longwave_lobe_06            ...\n",
       "longwave_lobe_07            ...\n",
       "longwave_slit_06            ...\n",
       "longwave_slit_07            ...\n",
       "lyra                        ...\n",
       "lyra                        ...\n",
       "mag                         ...\n",
       "maunaloa                    ...\n",
       "mdi                         ...\n",
       "mees                        ...\n",
       "mergedgong                  ...\n",
       "metis                       ...\n",
       "meudonspectroheliograph     ...\n",
       "mk4                         ...\n",
       "noaa_indices                ...\n",
       "noaa_predict                ...\n",
       "norh                        ...\n",
       "phi                         ...\n",
       "phoenix                     ...\n",
       "phoka                       ...\n",
       "plastic                     ...\n",
       "ptmc                        ...\n",
       "rhessi                      ...\n",
       "rhessi                      ...\n",
       "rpw                         ...\n",
       "secchi                      ...\n",
       "shortwave_lobe_06           ...\n",
       "shortwave_lobe_07           ...\n",
       "shortwave_slit_06           ...\n",
       "shortwave_slit_07           ...\n",
       "six_0_ftshg                 ...\n",
       "sj                          ...\n",
       "solarftsspectrometer        ...\n",
       "solohi                      ...\n",
       "solohi                      ...\n",
       "soon                        ...\n",
       "sot                         ...\n",
       "sp1                         ...\n",
       "sp2                         ...\n",
       "spectroheliograph           ...\n",
       "spectromagnetograph         ...\n",
       "spice                       ...\n",
       "spice                       ...\n",
       "srs_table                   ...\n",
       "stix                        ...\n",
       "sufi                        ...\n",
       "sumer                       ...\n",
       "sutri                       ...\n",
       "suvi                        ...\n",
       "suvi                        ...\n",
       "swa                         ...\n",
       "swan                        ...\n",
       "swap                        ...\n",
       "swaves                      ...\n",
       "sxt                         ...\n",
       "t1_halpha                   ...\n",
       "tm_1001                     ...\n",
       "tm_1010                     ...\n",
       "trace                       ...\n",
       "udaipur                     ...\n",
       "uvcs                        ...\n",
       "vault_1999                  ...\n",
       "vault_2002                  ...\n",
       "vault_2014                  ...\n",
       "virgo                       ...\n",
       "vsm                         ...\n",
       "wbs                         ...\n",
       "wispr                       ...\n",
       "x123                        ...\n",
       "xrs                         ...\n",
       "xrt                         ..."
      ]
     },
     "execution_count": 47,
     "metadata": {},
     "output_type": "execute_result"
    }
   ],
   "source": [
    "a.Instrument"
   ]
  },
  {
   "cell_type": "markdown",
   "id": "03410afd",
   "metadata": {},
   "source": [
    "sunpy also now provides tab completion to auto-fill the attribute name"
   ]
  },
  {
   "cell_type": "code",
   "execution_count": 48,
   "id": "88dbb7e6",
   "metadata": {},
   "outputs": [
    {
     "data": {
      "text/plain": [
       "<sunpy.net.attrs.Instrument(EIT: Extreme ultraviolet Imaging Telescope) object at 0x1236e43e0>"
      ]
     },
     "execution_count": 48,
     "metadata": {},
     "output_type": "execute_result"
    }
   ],
   "source": [
    "a.Instrument.eit"
   ]
  },
  {
   "cell_type": "markdown",
   "id": "fbd8f459",
   "metadata": {},
   "source": [
    "To search for certain wavelengths, we need to specify the input as an `astropy.Quantity` which is a the combination of a value and an associated unit. This is something is universal in the sunpy stack - that every physical input/output is a `Quantity`."
   ]
  },
  {
   "cell_type": "code",
   "execution_count": 49,
   "id": "da857406",
   "metadata": {},
   "outputs": [
    {
     "data": {
      "text/plain": [
       "<sunpy.net.attrs.Wavelength(17.1, 17.1, 'Angstrom')>"
      ]
     },
     "execution_count": 49,
     "metadata": {},
     "output_type": "execute_result"
    }
   ],
   "source": [
    "a.Wavelength(17.1*u.angstrom)"
   ]
  },
  {
   "cell_type": "markdown",
   "id": "3913aee6",
   "metadata": {},
   "source": [
    "## 3. Constructing a search query\n",
    " ### A simple query\n",
    "\n",
    "Lets create a simple query to search for data from AIA over a particular time period"
   ]
  },
  {
   "cell_type": "code",
   "execution_count": 58,
   "id": "43e3aa55",
   "metadata": {},
   "outputs": [],
   "source": [
    "result = Fido.search(a.Time(\"2022-04-02 12:00\", \"2022-04-02 15:00\"), \n",
    "                     a.Instrument(\"AIA\"))"
   ]
  },
  {
   "cell_type": "code",
   "execution_count": 59,
   "id": "8eab1f86",
   "metadata": {},
   "outputs": [
    {
     "data": {
      "text/html": [
       "Results from 1 Provider:</br></br>174 Results from the VSOClient:</br><div><i>VSOQueryResponseTable length=174</i>\n",
       "<table id=\"table4889421024\" class=\"table-striped table-bordered table-condensed\">\n",
       "<thead><tr><th>Start Time</th><th>End Time</th><th>Source</th><th>Instrument</th><th>Wavelength</th><th>Provider</th><th>Physobs</th><th>Wavetype</th><th>Extent Width</th><th>Extent Length</th><th>Extent Type</th><th>Size</th><th>Extra Flags</th></tr></thead>\n",
       "<thead><tr><th></th><th></th><th></th><th></th><th>Angstrom</th><th></th><th></th><th></th><th></th><th></th><th></th><th>Mibyte</th><th></th></tr></thead>\n",
       "<thead><tr><th>Time</th><th>Time</th><th>str3</th><th>str3</th><th>float64[2]</th><th>str4</th><th>str9</th><th>str6</th><th>str4</th><th>str4</th><th>str8</th><th>float64</th><th>str1</th></tr></thead>\n",
       "<tr><td>2022-04-02 12:00:00.000</td><td>2022-04-02 12:09:13.000</td><td>SDO</td><td>AIA</td><td>335.0 .. 335.0</td><td>JSOC</td><td>intensity</td><td>NARROW</td><td>4096</td><td>4096</td><td>FULLDISK</td><td>3038.47656</td><td>S</td></tr>\n",
       "<tr><td>2022-04-02 12:00:04.000</td><td>2022-04-02 12:09:17.000</td><td>SDO</td><td>AIA</td><td>193.0 .. 193.0</td><td>JSOC</td><td>intensity</td><td>NARROW</td><td>4096</td><td>4096</td><td>FULLDISK</td><td>3038.47656</td><td>S</td></tr>\n",
       "<tr><td>2022-04-02 12:00:05.000</td><td>2022-04-02 12:00:06.000</td><td>SDO</td><td>AIA</td><td>4500.0 .. 4500.0</td><td>JSOC</td><td>intensity</td><td>NARROW</td><td>4096</td><td>4096</td><td>FULLDISK</td><td>64.64844</td><td>S</td></tr>\n",
       "<tr><td>2022-04-02 12:00:05.000</td><td>2022-04-02 12:09:18.000</td><td>SDO</td><td>AIA</td><td>304.0 .. 304.0</td><td>JSOC</td><td>intensity</td><td>NARROW</td><td>4096</td><td>4096</td><td>FULLDISK</td><td>3038.47656</td><td>S</td></tr>\n",
       "<tr><td>2022-04-02 12:00:06.000</td><td>2022-04-02 12:09:19.000</td><td>SDO</td><td>AIA</td><td>131.0 .. 131.0</td><td>JSOC</td><td>intensity</td><td>NARROW</td><td>4096</td><td>4096</td><td>FULLDISK</td><td>3038.47656</td><td>S</td></tr>\n",
       "<tr><td>...</td><td>...</td><td>...</td><td>...</td><td>...</td><td>...</td><td>...</td><td>...</td><td>...</td><td>...</td><td>...</td><td>...</td><td>...</td></tr>\n",
       "<tr><td>2022-04-02 14:59:28.000</td><td>2022-04-02 14:59:53.000</td><td>SDO</td><td>AIA</td><td>193.0 .. 193.0</td><td>JSOC</td><td>intensity</td><td>NARROW</td><td>4096</td><td>4096</td><td>FULLDISK</td><td>193.94531</td><td>S</td></tr>\n",
       "<tr><td>2022-04-02 14:59:29.000</td><td>2022-04-02 14:59:54.000</td><td>SDO</td><td>AIA</td><td>304.0 .. 304.0</td><td>JSOC</td><td>intensity</td><td>NARROW</td><td>4096</td><td>4096</td><td>FULLDISK</td><td>193.94531</td><td>S</td></tr>\n",
       "<tr><td>2022-04-02 14:59:30.000</td><td>2022-04-02 14:59:55.000</td><td>SDO</td><td>AIA</td><td>131.0 .. 131.0</td><td>JSOC</td><td>intensity</td><td>NARROW</td><td>4096</td><td>4096</td><td>FULLDISK</td><td>193.94531</td><td>S</td></tr>\n",
       "<tr><td>2022-04-02 14:59:33.000</td><td>2022-04-02 14:59:58.000</td><td>SDO</td><td>AIA</td><td>171.0 .. 171.0</td><td>JSOC</td><td>intensity</td><td>NARROW</td><td>4096</td><td>4096</td><td>FULLDISK</td><td>193.94531</td><td>S</td></tr>\n",
       "<tr><td>2022-04-02 14:59:40.000</td><td>2022-04-02 14:59:41.000</td><td>SDO</td><td>AIA</td><td>1700.0 .. 1700.0</td><td>JSOC</td><td>intensity</td><td>NARROW</td><td>4096</td><td>4096</td><td>FULLDISK</td><td>64.64844</td><td>S</td></tr>\n",
       "</table></div></br>"
      ],
      "text/plain": [
       "<sunpy.net.fido_factory.UnifiedResponse object at 0x123ccd3d0>\n",
       "Results from 1 Provider:\n",
       "\n",
       "174 Results from the VSOClient:\n",
       "Source: http://vso.stanford.edu/cgi-bin/search\n",
       "Total estimated size: 488.147 Gbyte\n",
       "\n",
       "       Start Time               End Time        ...    Size    Extra Flags\n",
       "                                                ...   Mibyte              \n",
       "----------------------- ----------------------- ... ---------- -----------\n",
       "2022-04-02 12:00:00.000 2022-04-02 12:09:13.000 ... 3038.47656           S\n",
       "2022-04-02 12:00:04.000 2022-04-02 12:09:17.000 ... 3038.47656           S\n",
       "2022-04-02 12:00:05.000 2022-04-02 12:00:06.000 ...   64.64844           S\n",
       "2022-04-02 12:00:05.000 2022-04-02 12:09:18.000 ... 3038.47656           S\n",
       "2022-04-02 12:00:06.000 2022-04-02 12:09:19.000 ... 3038.47656           S\n",
       "                    ...                     ... ...        ...         ...\n",
       "2022-04-02 14:59:26.000 2022-04-02 14:59:51.000 ...  129.29688           S\n",
       "2022-04-02 14:59:28.000 2022-04-02 14:59:53.000 ...  193.94531           S\n",
       "2022-04-02 14:59:29.000 2022-04-02 14:59:54.000 ...  193.94531           S\n",
       "2022-04-02 14:59:30.000 2022-04-02 14:59:55.000 ...  193.94531           S\n",
       "2022-04-02 14:59:33.000 2022-04-02 14:59:58.000 ...  193.94531           S\n",
       "2022-04-02 14:59:40.000 2022-04-02 14:59:41.000 ...   64.64844           S\n",
       "Length = 174 rows\n"
      ]
     },
     "execution_count": 59,
     "metadata": {},
     "output_type": "execute_result"
    }
   ],
   "source": [
    "result"
   ]
  },
  {
   "cell_type": "markdown",
   "id": "793849e1",
   "metadata": {},
   "source": [
    "Now lets make our query a bit more specific, say, say we only want one wavelength band from AIA. This can be achieved by specifying the `Wavelength` attribute within the search. The `a.Wavelength` attribute is passed as an `astropy.Quantity`:"
   ]
  },
  {
   "cell_type": "code",
   "execution_count": 60,
   "id": "e0f7f04f",
   "metadata": {},
   "outputs": [],
   "source": [
    "result = Fido.search(a.Time(\"2022-04-02 12:00\", \"2022-04-02 15:00\"), \n",
    "                     a.Instrument(\"AIA\"), \n",
    "                     a.Wavelength(304*u.angstrom))"
   ]
  },
  {
   "cell_type": "code",
   "execution_count": 61,
   "id": "c0762672",
   "metadata": {},
   "outputs": [
    {
     "data": {
      "text/html": [
       "Results from 1 Provider:</br></br>900 Results from the VSOClient:</br><div><i>VSOQueryResponseTable length=900</i>\n",
       "<table id=\"table4887014064\" class=\"table-striped table-bordered table-condensed\">\n",
       "<thead><tr><th>Start Time</th><th>End Time</th><th>Source</th><th>Instrument</th><th>Wavelength</th><th>Provider</th><th>Physobs</th><th>Wavetype</th><th>Extent Width</th><th>Extent Length</th><th>Extent Type</th><th>Size</th></tr></thead>\n",
       "<thead><tr><th></th><th></th><th></th><th></th><th>Angstrom</th><th></th><th></th><th></th><th></th><th></th><th></th><th>Mibyte</th></tr></thead>\n",
       "<thead><tr><th>Time</th><th>Time</th><th>str3</th><th>str3</th><th>float64[2]</th><th>str4</th><th>str9</th><th>str6</th><th>str4</th><th>str4</th><th>str8</th><th>float64</th></tr></thead>\n",
       "<tr><td>2022-04-02 12:00:05.000</td><td>2022-04-02 12:00:06.000</td><td>SDO</td><td>AIA</td><td>304.0 .. 304.0</td><td>JSOC</td><td>intensity</td><td>NARROW</td><td>4096</td><td>4096</td><td>FULLDISK</td><td>64.64844</td></tr>\n",
       "<tr><td>2022-04-02 12:00:17.000</td><td>2022-04-02 12:00:18.000</td><td>SDO</td><td>AIA</td><td>304.0 .. 304.0</td><td>JSOC</td><td>intensity</td><td>NARROW</td><td>4096</td><td>4096</td><td>FULLDISK</td><td>64.64844</td></tr>\n",
       "<tr><td>2022-04-02 12:00:29.000</td><td>2022-04-02 12:00:30.000</td><td>SDO</td><td>AIA</td><td>304.0 .. 304.0</td><td>JSOC</td><td>intensity</td><td>NARROW</td><td>4096</td><td>4096</td><td>FULLDISK</td><td>64.64844</td></tr>\n",
       "<tr><td>2022-04-02 12:00:41.000</td><td>2022-04-02 12:00:42.000</td><td>SDO</td><td>AIA</td><td>304.0 .. 304.0</td><td>JSOC</td><td>intensity</td><td>NARROW</td><td>4096</td><td>4096</td><td>FULLDISK</td><td>64.64844</td></tr>\n",
       "<tr><td>2022-04-02 12:00:53.000</td><td>2022-04-02 12:00:54.000</td><td>SDO</td><td>AIA</td><td>304.0 .. 304.0</td><td>JSOC</td><td>intensity</td><td>NARROW</td><td>4096</td><td>4096</td><td>FULLDISK</td><td>64.64844</td></tr>\n",
       "<tr><td>...</td><td>...</td><td>...</td><td>...</td><td>...</td><td>...</td><td>...</td><td>...</td><td>...</td><td>...</td><td>...</td><td>...</td></tr>\n",
       "<tr><td>2022-04-02 14:59:05.000</td><td>2022-04-02 14:59:06.000</td><td>SDO</td><td>AIA</td><td>304.0 .. 304.0</td><td>JSOC</td><td>intensity</td><td>NARROW</td><td>4096</td><td>4096</td><td>FULLDISK</td><td>64.64844</td></tr>\n",
       "<tr><td>2022-04-02 14:59:17.000</td><td>2022-04-02 14:59:18.000</td><td>SDO</td><td>AIA</td><td>304.0 .. 304.0</td><td>JSOC</td><td>intensity</td><td>NARROW</td><td>4096</td><td>4096</td><td>FULLDISK</td><td>64.64844</td></tr>\n",
       "<tr><td>2022-04-02 14:59:29.000</td><td>2022-04-02 14:59:30.000</td><td>SDO</td><td>AIA</td><td>304.0 .. 304.0</td><td>JSOC</td><td>intensity</td><td>NARROW</td><td>4096</td><td>4096</td><td>FULLDISK</td><td>64.64844</td></tr>\n",
       "<tr><td>2022-04-02 14:59:41.000</td><td>2022-04-02 14:59:42.000</td><td>SDO</td><td>AIA</td><td>304.0 .. 304.0</td><td>JSOC</td><td>intensity</td><td>NARROW</td><td>4096</td><td>4096</td><td>FULLDISK</td><td>64.64844</td></tr>\n",
       "<tr><td>2022-04-02 14:59:53.000</td><td>2022-04-02 14:59:54.000</td><td>SDO</td><td>AIA</td><td>304.0 .. 304.0</td><td>JSOC</td><td>intensity</td><td>NARROW</td><td>4096</td><td>4096</td><td>FULLDISK</td><td>64.64844</td></tr>\n",
       "</table></div></br>"
      ],
      "text/plain": [
       "<sunpy.net.fido_factory.UnifiedResponse object at 0x123350e60>\n",
       "Results from 1 Provider:\n",
       "\n",
       "900 Results from the VSOClient:\n",
       "Source: http://vso.stanford.edu/cgi-bin/search\n",
       "Total estimated size: 61.01 Gbyte\n",
       "\n",
       "       Start Time               End Time        Source ... Extent Type   Size  \n",
       "                                                       ...              Mibyte \n",
       "----------------------- ----------------------- ------ ... ----------- --------\n",
       "2022-04-02 12:00:05.000 2022-04-02 12:00:06.000    SDO ...    FULLDISK 64.64844\n",
       "2022-04-02 12:00:17.000 2022-04-02 12:00:18.000    SDO ...    FULLDISK 64.64844\n",
       "2022-04-02 12:00:29.000 2022-04-02 12:00:30.000    SDO ...    FULLDISK 64.64844\n",
       "2022-04-02 12:00:41.000 2022-04-02 12:00:42.000    SDO ...    FULLDISK 64.64844\n",
       "2022-04-02 12:00:53.000 2022-04-02 12:00:54.000    SDO ...    FULLDISK 64.64844\n",
       "                    ...                     ...    ... ...         ...      ...\n",
       "2022-04-02 14:58:53.000 2022-04-02 14:58:54.000    SDO ...    FULLDISK 64.64844\n",
       "2022-04-02 14:59:05.000 2022-04-02 14:59:06.000    SDO ...    FULLDISK 64.64844\n",
       "2022-04-02 14:59:17.000 2022-04-02 14:59:18.000    SDO ...    FULLDISK 64.64844\n",
       "2022-04-02 14:59:29.000 2022-04-02 14:59:30.000    SDO ...    FULLDISK 64.64844\n",
       "2022-04-02 14:59:41.000 2022-04-02 14:59:42.000    SDO ...    FULLDISK 64.64844\n",
       "2022-04-02 14:59:53.000 2022-04-02 14:59:54.000    SDO ...    FULLDISK 64.64844\n",
       "Length = 900 rows\n"
      ]
     },
     "execution_count": 61,
     "metadata": {},
     "output_type": "execute_result"
    }
   ],
   "source": [
    "result"
   ]
  },
  {
   "cell_type": "markdown",
   "id": "0e769920",
   "metadata": {},
   "source": [
    "We can further specify this query by choosing the cadence (time-sampling) of the data we want to search for and download. This can be achieved by using the Sample attribute. Similar to the Wavelength attributes, this needs to be an astropy Quantity. Lets further specify the search above to only search for data with a cadence of 10 minutes."
   ]
  },
  {
   "cell_type": "code",
   "execution_count": 92,
   "id": "863e63bc",
   "metadata": {},
   "outputs": [],
   "source": [
    "result = Fido.search(a.Time(\"2022-04-02 12:00\", \"2022-04-02 15:00\"), \n",
    "                     a.Instrument(\"AIA\"), \n",
    "                     a.Wavelength(171*u.angstrom),\n",
    "                     a.Sample(10*u.min))"
   ]
  },
  {
   "cell_type": "code",
   "execution_count": 93,
   "id": "b74c5b89",
   "metadata": {},
   "outputs": [
    {
     "data": {
      "text/plain": [
       "18"
      ]
     },
     "execution_count": 93,
     "metadata": {},
     "output_type": "execute_result"
    }
   ],
   "source": [
    "len(result[0])"
   ]
  },
  {
   "cell_type": "markdown",
   "id": "ada3df30",
   "metadata": {},
   "source": [
    "## 1.3 Downloading the data\n",
    "\n",
    "Now we can show how data that is queried above can be downloaded. Once the data you have searched for (and filtered etc) is constructed into a query using `Fido.search`, you can then easily download them using `Fido.fetch`.\n",
    "\n",
    "The data is downloaded via asynchronous and parallel download streams (via parfive), and also allows for failed data downloads to be recognized so that files can be re-requested if not downloaded.\n",
    "\n",
    "Lets now look at how a `UnifiedResponse` from a `Fido.search` can be passed to `Fido.fetch` to download the data"
   ]
  },
  {
   "cell_type": "code",
   "execution_count": 94,
   "id": "b4386132",
   "metadata": {},
   "outputs": [
    {
     "data": {
      "application/vnd.jupyter.widget-view+json": {
       "model_id": "b3c088a019e84872b54cc8adae42904d",
       "version_major": 2,
       "version_minor": 0
      },
      "text/plain": [
       "Files Downloaded:   0%|          | 0/18 [00:00<?, ?file/s]"
      ]
     },
     "metadata": {},
     "output_type": "display_data"
    },
    {
     "name": "stdout",
     "output_type": "stream",
     "text": [
      "5/0 files failed to download. Please check `.errors` for details\n"
     ]
    }
   ],
   "source": [
    "files = Fido.fetch(result)"
   ]
  },
  {
   "cell_type": "markdown",
   "id": "f095dcd5",
   "metadata": {},
   "source": [
    "These files are downloaded to a local location set in the sunpy.config.file, which by default is ~/sunpy/data/. Fido.fetch returns a parfile.Results object which gives the path to where the files are downloaded to"
   ]
  },
  {
   "cell_type": "code",
   "execution_count": 95,
   "id": "f76b4459",
   "metadata": {},
   "outputs": [
    {
     "ename": "IndexError",
     "evalue": "list index out of range",
     "output_type": "error",
     "traceback": [
      "\u001b[0;31m---------------------------------------------------------------------------\u001b[0m",
      "\u001b[0;31mIndexError\u001b[0m                                Traceback (most recent call last)",
      "Cell \u001b[0;32mIn[95], line 1\u001b[0m\n\u001b[0;32m----> 1\u001b[0m \u001b[38;5;28mprint\u001b[39m(\u001b[43mfiles\u001b[49m\u001b[43m[\u001b[49m\u001b[38;5;241;43m0\u001b[39;49m\u001b[43m]\u001b[49m)\n",
      "File \u001b[0;32m~/opt/miniconda3/envs/espd_summer_school/lib/python3.12/collections/__init__.py:1259\u001b[0m, in \u001b[0;36mUserList.__getitem__\u001b[0;34m(self, i)\u001b[0m\n\u001b[1;32m   1257\u001b[0m     \u001b[38;5;28;01mreturn\u001b[39;00m \u001b[38;5;28mself\u001b[39m\u001b[38;5;241m.\u001b[39m\u001b[38;5;18m__class__\u001b[39m(\u001b[38;5;28mself\u001b[39m\u001b[38;5;241m.\u001b[39mdata[i])\n\u001b[1;32m   1258\u001b[0m \u001b[38;5;28;01melse\u001b[39;00m:\n\u001b[0;32m-> 1259\u001b[0m     \u001b[38;5;28;01mreturn\u001b[39;00m \u001b[38;5;28;43mself\u001b[39;49m\u001b[38;5;241;43m.\u001b[39;49m\u001b[43mdata\u001b[49m\u001b[43m[\u001b[49m\u001b[43mi\u001b[49m\u001b[43m]\u001b[49m\n",
      "\u001b[0;31mIndexError\u001b[0m: list index out of range"
     ]
    }
   ],
   "source": [
    "print(files[0])"
   ]
  },
  {
   "cell_type": "markdown",
   "id": "f3c0862d",
   "metadata": {},
   "source": [
    "You can also define what directory you want the files to be saved to by passing the directory path to the path keyword in Fido.fetch. For example, I want to download these files to a local directory `./AIA/<name_of_file>`"
   ]
  },
  {
   "cell_type": "code",
   "execution_count": 96,
   "id": "e55343c5",
   "metadata": {},
   "outputs": [
    {
     "data": {
      "application/vnd.jupyter.widget-view+json": {
       "model_id": "a459426726e746ec9661ddadeee3bea3",
       "version_major": 2,
       "version_minor": 0
      },
      "text/plain": [
       "Files Downloaded:   0%|          | 0/18 [00:00<?, ?file/s]"
      ]
     },
     "metadata": {},
     "output_type": "display_data"
    },
    {
     "data": {
      "application/vnd.jupyter.widget-view+json": {
       "model_id": "",
       "version_major": 2,
       "version_minor": 0
      },
      "text/plain": [
       "aia_lev1_171a_2022_04_02t12_00_09_35z_image_lev1.fits:   0%|          | 0.00/12.0M [00:00<?, ?B/s]"
      ]
     },
     "metadata": {},
     "output_type": "display_data"
    },
    {
     "data": {
      "application/vnd.jupyter.widget-view+json": {
       "model_id": "",
       "version_major": 2,
       "version_minor": 0
      },
      "text/plain": [
       "aia_lev1_171a_2022_04_02t12_40_09_35z_image_lev1.fits:   0%|          | 0.00/12.0M [00:00<?, ?B/s]"
      ]
     },
     "metadata": {},
     "output_type": "display_data"
    },
    {
     "data": {
      "application/vnd.jupyter.widget-view+json": {
       "model_id": "",
       "version_major": 2,
       "version_minor": 0
      },
      "text/plain": [
       "aia_lev1_171a_2022_04_02t12_20_09_35z_image_lev1.fits:   0%|          | 0.00/12.0M [00:00<?, ?B/s]"
      ]
     },
     "metadata": {},
     "output_type": "display_data"
    },
    {
     "data": {
      "application/vnd.jupyter.widget-view+json": {
       "model_id": "",
       "version_major": 2,
       "version_minor": 0
      },
      "text/plain": [
       "aia_lev1_171a_2022_04_02t12_10_09_35z_image_lev1.fits:   0%|          | 0.00/12.0M [00:00<?, ?B/s]"
      ]
     },
     "metadata": {},
     "output_type": "display_data"
    },
    {
     "data": {
      "application/vnd.jupyter.widget-view+json": {
       "model_id": "",
       "version_major": 2,
       "version_minor": 0
      },
      "text/plain": [
       "aia_lev1_171a_2022_04_02t12_30_09_35z_image_lev1.fits:   0%|          | 0.00/12.0M [00:00<?, ?B/s]"
      ]
     },
     "metadata": {},
     "output_type": "display_data"
    },
    {
     "data": {
      "application/vnd.jupyter.widget-view+json": {
       "model_id": "",
       "version_major": 2,
       "version_minor": 0
      },
      "text/plain": [
       "aia_lev1_171a_2022_04_02t12_50_09_35z_image_lev1.fits:   0%|          | 0.00/12.0M [00:00<?, ?B/s]"
      ]
     },
     "metadata": {},
     "output_type": "display_data"
    },
    {
     "data": {
      "application/vnd.jupyter.widget-view+json": {
       "model_id": "",
       "version_major": 2,
       "version_minor": 0
      },
      "text/plain": [
       "aia_lev1_171a_2022_04_02t13_00_09_35z_image_lev1.fits:   0%|          | 0.00/12.0M [00:00<?, ?B/s]"
      ]
     },
     "metadata": {},
     "output_type": "display_data"
    },
    {
     "data": {
      "application/vnd.jupyter.widget-view+json": {
       "model_id": "",
       "version_major": 2,
       "version_minor": 0
      },
      "text/plain": [
       "aia_lev1_171a_2022_04_02t13_10_09_35z_image_lev1.fits:   0%|          | 0.00/12.0M [00:00<?, ?B/s]"
      ]
     },
     "metadata": {},
     "output_type": "display_data"
    },
    {
     "data": {
      "application/vnd.jupyter.widget-view+json": {
       "model_id": "",
       "version_major": 2,
       "version_minor": 0
      },
      "text/plain": [
       "aia_lev1_171a_2022_04_02t13_30_09_35z_image_lev1.fits:   0%|          | 0.00/12.0M [00:00<?, ?B/s]"
      ]
     },
     "metadata": {},
     "output_type": "display_data"
    },
    {
     "data": {
      "application/vnd.jupyter.widget-view+json": {
       "model_id": "",
       "version_major": 2,
       "version_minor": 0
      },
      "text/plain": [
       "aia_lev1_171a_2022_04_02t13_20_09_35z_image_lev1.fits:   0%|          | 0.00/12.0M [00:00<?, ?B/s]"
      ]
     },
     "metadata": {},
     "output_type": "display_data"
    },
    {
     "data": {
      "application/vnd.jupyter.widget-view+json": {
       "model_id": "",
       "version_major": 2,
       "version_minor": 0
      },
      "text/plain": [
       "aia_lev1_171a_2022_04_02t13_40_09_35z_image_lev1.fits:   0%|          | 0.00/12.0M [00:00<?, ?B/s]"
      ]
     },
     "metadata": {},
     "output_type": "display_data"
    },
    {
     "data": {
      "application/vnd.jupyter.widget-view+json": {
       "model_id": "",
       "version_major": 2,
       "version_minor": 0
      },
      "text/plain": [
       "aia_lev1_171a_2022_04_02t13_50_09_35z_image_lev1.fits:   0%|          | 0.00/12.0M [00:00<?, ?B/s]"
      ]
     },
     "metadata": {},
     "output_type": "display_data"
    },
    {
     "data": {
      "application/vnd.jupyter.widget-view+json": {
       "model_id": "",
       "version_major": 2,
       "version_minor": 0
      },
      "text/plain": [
       "aia_lev1_171a_2022_04_02t14_00_09_35z_image_lev1.fits:   0%|          | 0.00/12.0M [00:00<?, ?B/s]"
      ]
     },
     "metadata": {},
     "output_type": "display_data"
    },
    {
     "data": {
      "application/vnd.jupyter.widget-view+json": {
       "model_id": "",
       "version_major": 2,
       "version_minor": 0
      },
      "text/plain": [
       "aia_lev1_171a_2022_04_02t14_10_09_35z_image_lev1.fits:   0%|          | 0.00/12.0M [00:00<?, ?B/s]"
      ]
     },
     "metadata": {},
     "output_type": "display_data"
    },
    {
     "data": {
      "application/vnd.jupyter.widget-view+json": {
       "model_id": "",
       "version_major": 2,
       "version_minor": 0
      },
      "text/plain": [
       "aia_lev1_171a_2022_04_02t14_20_09_35z_image_lev1.fits:   0%|          | 0.00/12.0M [00:00<?, ?B/s]"
      ]
     },
     "metadata": {},
     "output_type": "display_data"
    },
    {
     "data": {
      "application/vnd.jupyter.widget-view+json": {
       "model_id": "",
       "version_major": 2,
       "version_minor": 0
      },
      "text/plain": [
       "aia_lev1_171a_2022_04_02t14_30_09_35z_image_lev1.fits:   0%|          | 0.00/12.0M [00:00<?, ?B/s]"
      ]
     },
     "metadata": {},
     "output_type": "display_data"
    },
    {
     "data": {
      "application/vnd.jupyter.widget-view+json": {
       "model_id": "",
       "version_major": 2,
       "version_minor": 0
      },
      "text/plain": [
       "aia_lev1_171a_2022_04_02t14_40_09_35z_image_lev1.fits:   0%|          | 0.00/12.0M [00:00<?, ?B/s]"
      ]
     },
     "metadata": {},
     "output_type": "display_data"
    },
    {
     "data": {
      "application/vnd.jupyter.widget-view+json": {
       "model_id": "",
       "version_major": 2,
       "version_minor": 0
      },
      "text/plain": [
       "aia_lev1_171a_2022_04_02t14_50_09_35z_image_lev1.fits:   0%|          | 0.00/12.0M [00:00<?, ?B/s]"
      ]
     },
     "metadata": {},
     "output_type": "display_data"
    },
    {
     "data": {
      "text/plain": [
       "<parfive.results.Results object at 0x123cdf470>\n",
       "['AIA/aia_lev1_171a_2022_04_02t12_00_09_35z_image_lev1.fits', 'AIA/aia_lev1_171a_2022_04_02t12_10_09_35z_image_lev1.fits', 'AIA/aia_lev1_171a_2022_04_02t12_20_09_35z_image_lev1.fits', 'AIA/aia_lev1_171a_2022_04_02t12_30_09_35z_image_lev1.fits', 'AIA/aia_lev1_171a_2022_04_02t12_40_09_35z_image_lev1.fits', 'AIA/aia_lev1_171a_2022_04_02t12_50_09_35z_image_lev1.fits', 'AIA/aia_lev1_171a_2022_04_02t13_00_09_35z_image_lev1.fits', 'AIA/aia_lev1_171a_2022_04_02t13_10_09_35z_image_lev1.fits', 'AIA/aia_lev1_171a_2022_04_02t13_20_09_35z_image_lev1.fits', 'AIA/aia_lev1_171a_2022_04_02t13_30_09_35z_image_lev1.fits', 'AIA/aia_lev1_171a_2022_04_02t13_40_09_35z_image_lev1.fits', 'AIA/aia_lev1_171a_2022_04_02t13_50_09_35z_image_lev1.fits', 'AIA/aia_lev1_171a_2022_04_02t14_00_09_35z_image_lev1.fits', 'AIA/aia_lev1_171a_2022_04_02t14_10_09_35z_image_lev1.fits', 'AIA/aia_lev1_171a_2022_04_02t14_20_09_35z_image_lev1.fits', 'AIA/aia_lev1_171a_2022_04_02t14_30_09_35z_image_lev1.fits', 'AIA/aia_lev1_171a_2022_04_02t14_40_09_35z_image_lev1.fits', 'AIA/aia_lev1_171a_2022_04_02t14_50_09_35z_image_lev1.fits']"
      ]
     },
     "execution_count": 96,
     "metadata": {},
     "output_type": "execute_result"
    }
   ],
   "source": [
    "Fido.fetch(result, path=\"./{instrument}/{file}\")"
   ]
  },
  {
   "cell_type": "markdown",
   "id": "8cf2ef5f",
   "metadata": {},
   "source": [
    "## 1. 4 More complex queries\n",
    "\n",
    "In addition to making a query to one client for one instrument, `Fido` allows the flexibility to search for data from multiple instruments, wavelengths, times etc, even when the data is being obtained through different clients.\n",
    "\n",
    "This query can be constructed by using the pipe `|` operator, which joins queries together just like the OR operator.\n",
    "\n",
    "Lets now make a query that searches for both GOES/XRS and AIA data over a particular time period"
   ]
  },
  {
   "cell_type": "code",
   "execution_count": 67,
   "id": "e4fa673c",
   "metadata": {},
   "outputs": [],
   "source": [
    "result = Fido.search(a.Time(\"2022-04-02 12:00\", \"2022-04-02 15:00\"), \n",
    "                     a.Instrument.xrs  | (a.Instrument.aia & a.Wavelength(304*u.angstrom) & a.Sample(10*u.min)))"
   ]
  },
  {
   "cell_type": "code",
   "execution_count": 68,
   "id": "44e101c1",
   "metadata": {},
   "outputs": [
    {
     "data": {
      "text/plain": [
       "2"
      ]
     },
     "execution_count": 68,
     "metadata": {},
     "output_type": "execute_result"
    }
   ],
   "source": [
    "len(result)"
   ]
  },
  {
   "cell_type": "code",
   "execution_count": 69,
   "id": "c26cfaa3",
   "metadata": {},
   "outputs": [
    {
     "data": {
      "text/html": [
       "Results from 2 Providers:</br></br>4 Results from the XRSClient:</br><div><i>QueryResponse length=4</i>\n",
       "<table id=\"table4893256800\" class=\"table-striped table-bordered table-condensed\">\n",
       "<thead><tr><th>Start Time</th><th>End Time</th><th>Instrument</th><th>SatelliteNumber</th><th>Physobs</th><th>Source</th><th>Provider</th><th>Resolution</th></tr></thead>\n",
       "<thead><tr><th>Time</th><th>Time</th><th>str3</th><th>int64</th><th>str10</th><th>str4</th><th>str4</th><th>str5</th></tr></thead>\n",
       "<tr><td>2022-04-02 00:00:00.000</td><td>2022-04-02 23:59:59.999</td><td>XRS</td><td>16</td><td>irradiance</td><td>GOES</td><td>NOAA</td><td>flx1s</td></tr>\n",
       "<tr><td>2022-04-02 00:00:00.000</td><td>2022-04-02 23:59:59.999</td><td>XRS</td><td>16</td><td>irradiance</td><td>GOES</td><td>NOAA</td><td>avg1m</td></tr>\n",
       "<tr><td>2022-04-02 00:00:00.000</td><td>2022-04-02 23:59:59.999</td><td>XRS</td><td>17</td><td>irradiance</td><td>GOES</td><td>NOAA</td><td>flx1s</td></tr>\n",
       "<tr><td>2022-04-02 00:00:00.000</td><td>2022-04-02 23:59:59.999</td><td>XRS</td><td>17</td><td>irradiance</td><td>GOES</td><td>NOAA</td><td>avg1m</td></tr>\n",
       "</table></div></br>18 Results from the VSOClient:</br><div><i>VSOQueryResponseTable length=18</i>\n",
       "<table id=\"table4906546240\" class=\"table-striped table-bordered table-condensed\">\n",
       "<thead><tr><th>Start Time</th><th>End Time</th><th>Source</th><th>Instrument</th><th>Wavelength</th><th>Provider</th><th>Physobs</th><th>Wavetype</th><th>Extent Width</th><th>Extent Length</th><th>Extent Type</th><th>Size</th></tr></thead>\n",
       "<thead><tr><th></th><th></th><th></th><th></th><th>Angstrom</th><th></th><th></th><th></th><th></th><th></th><th></th><th>Mibyte</th></tr></thead>\n",
       "<thead><tr><th>Time</th><th>Time</th><th>str3</th><th>str3</th><th>float64[2]</th><th>str4</th><th>str9</th><th>str6</th><th>str4</th><th>str4</th><th>str8</th><th>float64</th></tr></thead>\n",
       "<tr><td>2022-04-02 12:00:05.000</td><td>2022-04-02 12:00:06.000</td><td>SDO</td><td>AIA</td><td>304.0 .. 304.0</td><td>JSOC</td><td>intensity</td><td>NARROW</td><td>4096</td><td>4096</td><td>FULLDISK</td><td>64.64844</td></tr>\n",
       "<tr><td>2022-04-02 12:10:05.000</td><td>2022-04-02 12:10:06.000</td><td>SDO</td><td>AIA</td><td>304.0 .. 304.0</td><td>JSOC</td><td>intensity</td><td>NARROW</td><td>4096</td><td>4096</td><td>FULLDISK</td><td>64.64844</td></tr>\n",
       "<tr><td>2022-04-02 12:20:05.000</td><td>2022-04-02 12:20:06.000</td><td>SDO</td><td>AIA</td><td>304.0 .. 304.0</td><td>JSOC</td><td>intensity</td><td>NARROW</td><td>4096</td><td>4096</td><td>FULLDISK</td><td>64.64844</td></tr>\n",
       "<tr><td>2022-04-02 12:30:05.000</td><td>2022-04-02 12:30:06.000</td><td>SDO</td><td>AIA</td><td>304.0 .. 304.0</td><td>JSOC</td><td>intensity</td><td>NARROW</td><td>4096</td><td>4096</td><td>FULLDISK</td><td>64.64844</td></tr>\n",
       "<tr><td>2022-04-02 12:40:05.000</td><td>2022-04-02 12:40:06.000</td><td>SDO</td><td>AIA</td><td>304.0 .. 304.0</td><td>JSOC</td><td>intensity</td><td>NARROW</td><td>4096</td><td>4096</td><td>FULLDISK</td><td>64.64844</td></tr>\n",
       "<tr><td>...</td><td>...</td><td>...</td><td>...</td><td>...</td><td>...</td><td>...</td><td>...</td><td>...</td><td>...</td><td>...</td><td>...</td></tr>\n",
       "<tr><td>2022-04-02 14:10:05.000</td><td>2022-04-02 14:10:06.000</td><td>SDO</td><td>AIA</td><td>304.0 .. 304.0</td><td>JSOC</td><td>intensity</td><td>NARROW</td><td>4096</td><td>4096</td><td>FULLDISK</td><td>64.64844</td></tr>\n",
       "<tr><td>2022-04-02 14:20:05.000</td><td>2022-04-02 14:20:06.000</td><td>SDO</td><td>AIA</td><td>304.0 .. 304.0</td><td>JSOC</td><td>intensity</td><td>NARROW</td><td>4096</td><td>4096</td><td>FULLDISK</td><td>64.64844</td></tr>\n",
       "<tr><td>2022-04-02 14:30:05.000</td><td>2022-04-02 14:30:06.000</td><td>SDO</td><td>AIA</td><td>304.0 .. 304.0</td><td>JSOC</td><td>intensity</td><td>NARROW</td><td>4096</td><td>4096</td><td>FULLDISK</td><td>64.64844</td></tr>\n",
       "<tr><td>2022-04-02 14:40:05.000</td><td>2022-04-02 14:40:06.000</td><td>SDO</td><td>AIA</td><td>304.0 .. 304.0</td><td>JSOC</td><td>intensity</td><td>NARROW</td><td>4096</td><td>4096</td><td>FULLDISK</td><td>64.64844</td></tr>\n",
       "<tr><td>2022-04-02 14:50:05.000</td><td>2022-04-02 14:50:06.000</td><td>SDO</td><td>AIA</td><td>304.0 .. 304.0</td><td>JSOC</td><td>intensity</td><td>NARROW</td><td>4096</td><td>4096</td><td>FULLDISK</td><td>64.64844</td></tr>\n",
       "</table></div></br>"
      ],
      "text/plain": [
       "<sunpy.net.fido_factory.UnifiedResponse object at 0x1243f4f50>\n",
       "Results from 2 Providers:\n",
       "\n",
       "4 Results from the XRSClient:\n",
       "Source: <8: https://umbra.nascom.nasa.gov/goes/fits \n",
       "8-15: https://www.ncei.noaa.gov/data/goes-space-environment-monitor/access/science/ \n",
       "16-17: https://data.ngdc.noaa.gov/platforms/solar-space-observing-satellites/goes/\n",
       "\n",
       "       Start Time               End Time        ... Provider Resolution\n",
       "----------------------- ----------------------- ... -------- ----------\n",
       "2022-04-02 00:00:00.000 2022-04-02 23:59:59.999 ...     NOAA      flx1s\n",
       "2022-04-02 00:00:00.000 2022-04-02 23:59:59.999 ...     NOAA      avg1m\n",
       "2022-04-02 00:00:00.000 2022-04-02 23:59:59.999 ...     NOAA      flx1s\n",
       "2022-04-02 00:00:00.000 2022-04-02 23:59:59.999 ...     NOAA      avg1m\n",
       "\n",
       "18 Results from the VSOClient:\n",
       "Source: http://vso.stanford.edu/cgi-bin/search\n",
       "Total estimated size: 1.22 Gbyte\n",
       "\n",
       "       Start Time               End Time        Source ... Extent Type   Size  \n",
       "                                                       ...              Mibyte \n",
       "----------------------- ----------------------- ------ ... ----------- --------\n",
       "2022-04-02 12:00:05.000 2022-04-02 12:00:06.000    SDO ...    FULLDISK 64.64844\n",
       "2022-04-02 12:10:05.000 2022-04-02 12:10:06.000    SDO ...    FULLDISK 64.64844\n",
       "2022-04-02 12:20:05.000 2022-04-02 12:20:06.000    SDO ...    FULLDISK 64.64844\n",
       "2022-04-02 12:30:05.000 2022-04-02 12:30:06.000    SDO ...    FULLDISK 64.64844\n",
       "2022-04-02 12:40:05.000 2022-04-02 12:40:06.000    SDO ...    FULLDISK 64.64844\n",
       "                    ...                     ...    ... ...         ...      ...\n",
       "2022-04-02 14:00:05.000 2022-04-02 14:00:06.000    SDO ...    FULLDISK 64.64844\n",
       "2022-04-02 14:10:05.000 2022-04-02 14:10:06.000    SDO ...    FULLDISK 64.64844\n",
       "2022-04-02 14:20:05.000 2022-04-02 14:20:06.000    SDO ...    FULLDISK 64.64844\n",
       "2022-04-02 14:30:05.000 2022-04-02 14:30:06.000    SDO ...    FULLDISK 64.64844\n",
       "2022-04-02 14:40:05.000 2022-04-02 14:40:06.000    SDO ...    FULLDISK 64.64844\n",
       "2022-04-02 14:50:05.000 2022-04-02 14:50:06.000    SDO ...    FULLDISK 64.64844\n",
       "Length = 18 rows\n"
      ]
     },
     "execution_count": 69,
     "metadata": {},
     "output_type": "execute_result"
    }
   ],
   "source": [
    "result"
   ]
  },
  {
   "cell_type": "code",
   "execution_count": 71,
   "id": "da25e1f5",
   "metadata": {},
   "outputs": [
    {
     "data": {
      "text/html": [
       "<div><i>QueryResponse length=4</i>\n",
       "<table id=\"table4906482528\" class=\"table-striped table-bordered table-condensed\">\n",
       "<thead><tr><th>Start Time</th><th>End Time</th><th>Instrument</th><th>SatelliteNumber</th><th>Physobs</th><th>Source</th><th>Provider</th><th>Resolution</th></tr></thead>\n",
       "<thead><tr><th>Time</th><th>Time</th><th>str3</th><th>int64</th><th>str10</th><th>str4</th><th>str4</th><th>str5</th></tr></thead>\n",
       "<tr><td>2022-04-02 00:00:00.000</td><td>2022-04-02 23:59:59.999</td><td>XRS</td><td>16</td><td>irradiance</td><td>GOES</td><td>NOAA</td><td>flx1s</td></tr>\n",
       "<tr><td>2022-04-02 00:00:00.000</td><td>2022-04-02 23:59:59.999</td><td>XRS</td><td>16</td><td>irradiance</td><td>GOES</td><td>NOAA</td><td>avg1m</td></tr>\n",
       "<tr><td>2022-04-02 00:00:00.000</td><td>2022-04-02 23:59:59.999</td><td>XRS</td><td>17</td><td>irradiance</td><td>GOES</td><td>NOAA</td><td>flx1s</td></tr>\n",
       "<tr><td>2022-04-02 00:00:00.000</td><td>2022-04-02 23:59:59.999</td><td>XRS</td><td>17</td><td>irradiance</td><td>GOES</td><td>NOAA</td><td>avg1m</td></tr>\n",
       "</table></div>"
      ],
      "text/plain": [
       "<sunpy.net.dataretriever.client.QueryResponse object at 0x1244cbdd0>\n",
       "       Start Time               End Time        ... Provider Resolution\n",
       "----------------------- ----------------------- ... -------- ----------\n",
       "2022-04-02 00:00:00.000 2022-04-02 23:59:59.999 ...     NOAA      flx1s\n",
       "2022-04-02 00:00:00.000 2022-04-02 23:59:59.999 ...     NOAA      avg1m\n",
       "2022-04-02 00:00:00.000 2022-04-02 23:59:59.999 ...     NOAA      flx1s\n",
       "2022-04-02 00:00:00.000 2022-04-02 23:59:59.999 ...     NOAA      avg1m"
      ]
     },
     "execution_count": 71,
     "metadata": {},
     "output_type": "execute_result"
    }
   ],
   "source": [
    "result[0]"
   ]
  },
  {
   "cell_type": "code",
   "execution_count": 72,
   "id": "38dbbf93",
   "metadata": {},
   "outputs": [
    {
     "data": {
      "text/plain": [
       "['End Time',\n",
       " 'Instrument',\n",
       " 'Physobs',\n",
       " 'Provider',\n",
       " 'Resolution',\n",
       " 'SatelliteNumber',\n",
       " 'Source',\n",
       " 'Start Time',\n",
       " 'url']"
      ]
     },
     "execution_count": 72,
     "metadata": {},
     "output_type": "execute_result"
    }
   ],
   "source": [
    "result.all_colnames"
   ]
  },
  {
   "cell_type": "markdown",
   "id": "8c6e4a7b",
   "metadata": {},
   "source": [
    "Lets download the GOES XRS data first"
   ]
  },
  {
   "cell_type": "code",
   "execution_count": 73,
   "id": "f1a1224b",
   "metadata": {},
   "outputs": [
    {
     "data": {
      "application/vnd.jupyter.widget-view+json": {
       "model_id": "e010a2e4ab0042f29a9e7d24ca0895f3",
       "version_major": 2,
       "version_minor": 0
      },
      "text/plain": [
       "Files Downloaded:   0%|          | 0/1 [00:00<?, ?file/s]"
      ]
     },
     "metadata": {},
     "output_type": "display_data"
    },
    {
     "data": {
      "application/vnd.jupyter.widget-view+json": {
       "model_id": "",
       "version_major": 2,
       "version_minor": 0
      },
      "text/plain": [
       "sci_xrsf-l2-flx1s_g16_d20220402_v2-2-0.nc:   0%|          | 0.00/5.19M [00:00<?, ?B/s]"
      ]
     },
     "metadata": {},
     "output_type": "display_data"
    },
    {
     "data": {
      "text/plain": [
       "<parfive.results.Results object at 0x123ccd730>\n",
       "['XRS/sci_xrsf-l2-flx1s_g16_d20220402_v2-2-0.nc']"
      ]
     },
     "execution_count": 73,
     "metadata": {},
     "output_type": "execute_result"
    }
   ],
   "source": [
    "Fido.fetch(result[0, 0], path=\"./{instrument}/{file}\")"
   ]
  },
  {
   "cell_type": "markdown",
   "id": "c8177428",
   "metadata": {},
   "source": [
    "Now lets say we only want to download one AIA file at a particular time, we can also search the table for certain conditions. Lets say we just want the file that closest to 2022-04-02 13:00. "
   ]
  },
  {
   "cell_type": "code",
   "execution_count": 75,
   "id": "dcfc7d60",
   "metadata": {},
   "outputs": [
    {
     "data": {
      "text/plain": [
       "6"
      ]
     },
     "execution_count": 75,
     "metadata": {},
     "output_type": "execute_result"
    }
   ],
   "source": [
    "(np.abs(result[1][\"Start Time\"] - parse_time(\"2022-04-02 13:00\"))).argmin()"
   ]
  },
  {
   "cell_type": "code",
   "execution_count": 76,
   "id": "5161e74f",
   "metadata": {},
   "outputs": [
    {
     "data": {
      "application/vnd.jupyter.widget-view+json": {
       "model_id": "d727ff1e669c456a92a24d709b817fa2",
       "version_major": 2,
       "version_minor": 0
      },
      "text/plain": [
       "Files Downloaded:   0%|          | 0/1 [00:00<?, ?file/s]"
      ]
     },
     "metadata": {},
     "output_type": "display_data"
    },
    {
     "data": {
      "application/vnd.jupyter.widget-view+json": {
       "model_id": "",
       "version_major": 2,
       "version_minor": 0
      },
      "text/plain": [
       "aia_lev1_304a_2022_04_02t13_00_05_13z_image_lev1.fits:   0%|          | 0.00/7.50M [00:00<?, ?B/s]"
      ]
     },
     "metadata": {},
     "output_type": "display_data"
    },
    {
     "data": {
      "text/plain": [
       "<parfive.results.Results object at 0x12473fb00>\n",
       "['aia_lev1_304a_2022_04_02t13_00_05_13z_image_lev1.fits']"
      ]
     },
     "execution_count": 76,
     "metadata": {},
     "output_type": "execute_result"
    }
   ],
   "source": [
    "Fido.fetch(result[1, 6], path=\"./\")"
   ]
  },
  {
   "cell_type": "markdown",
   "id": "088e73fe",
   "metadata": {},
   "source": [
    "\n",
    "## 1. 5 Using External Fido Clients \n",
    "\n",
    "Within `sunpy` core, we support a number of clients to common data providers. However, the `Fido` search interface is extensible such that external packages can write that their own clients that extend `Fido` in order to additional data sources. One such example is the `sunpy_soar` package which adds a client for the Solar Orbter Archive (SOAR).\n"
   ]
  },
  {
   "cell_type": "markdown",
   "id": "fe446878",
   "metadata": {},
   "source": [
    "## SOAR archive searching using sunpy!"
   ]
  },
  {
   "cell_type": "code",
   "execution_count": 77,
   "id": "7bdec4a5",
   "metadata": {},
   "outputs": [],
   "source": [
    "import sunpy_soar"
   ]
  },
  {
   "cell_type": "markdown",
   "id": "7237899c",
   "metadata": {},
   "source": [
    "Note that after importing `sunpy_soar`, the SOAR is now listed as a client that `Fido` will search."
   ]
  },
  {
   "cell_type": "code",
   "execution_count": 78,
   "id": "65f58c44",
   "metadata": {},
   "outputs": [
    {
     "data": {
      "text/html": [
       "<p>sunpy.net.Fido</p>\n",
       "<p>\n",
       "Fido is a unified data search and retrieval tool.\n",
       "\n",
       "It provides simultaneous access to a variety of online data sources, some\n",
       "cover multiple instruments and data products like the Virtual Solar\n",
       "Observatory and some are specific to a single source.\n",
       "\n",
       "For details of using `~sunpy.net.Fido` see :ref:`sunpy-tutorial-acquiring-data-index`.\n",
       "\n",
       "</p>\n",
       "<table id=\"table4899934368\">\n",
       "<thead><tr><th>Client</th><th>Description</th></tr></thead>\n",
       "<tr><td>CDAWEBClient</td><td>Provides access to query and download from the Coordinated Data Analysis Web (CDAWeb).</td></tr>\n",
       "<tr><td>EVEClient</td><td>Provides access to Level 0CS Extreme ultraviolet Variability Experiment (EVE) data.</td></tr>\n",
       "<tr><td>GBMClient</td><td>Provides access to data from the Gamma-Ray Burst Monitor (GBM) instrument on board the Fermi satellite.</td></tr>\n",
       "<tr><td>XRSClient</td><td>Provides access to several GOES XRS files archive.</td></tr>\n",
       "<tr><td>SUVIClient</td><td>Provides access to data from the GOES Solar Ultraviolet Imager (SUVI).</td></tr>\n",
       "<tr><td>GONGClient</td><td>Provides access to the Magnetogram products of NSO-GONG synoptic Maps.</td></tr>\n",
       "<tr><td>LYRAClient</td><td>Provides access to the LYRA/Proba2 data archive.</td></tr>\n",
       "<tr><td>NOAAIndicesClient</td><td>Provides access to the NOAA solar cycle indices.</td></tr>\n",
       "<tr><td>NOAAPredictClient</td><td>Provides access to the NOAA SWPC predicted sunspot Number and 10.7 cm radio flux values.</td></tr>\n",
       "<tr><td>SRSClient</td><td>Provides access to the NOAA SWPC solar region summary data.</td></tr>\n",
       "<tr><td>NoRHClient</td><td>Provides access to the Nobeyama RadioHeliograph (NoRH) averaged correlation time series data.</td></tr>\n",
       "<tr><td>RHESSIClient</td><td>Provides access to the RHESSI observing summary time series data.</td></tr>\n",
       "<tr><td>HEKClient</td><td>Provides access to the Heliophysics Event Knowledgebase (HEK).</td></tr>\n",
       "<tr><td>HECClient</td><td>Provides access to the HELIO webservices.</td></tr>\n",
       "<tr><td>JSOCClient</td><td>Provides access to the JSOC Data Export service.</td></tr>\n",
       "<tr><td>VSOClient</td><td>Provides access to query and download from Virtual Solar Observatory (VSO).</td></tr>\n",
       "<tr><td>SOARClient</td><td>Client to access the Solar Orbiter Archive (SOAR).</td></tr>\n",
       "</table>"
      ],
      "text/plain": [
       "<sunpy.net.fido_factory.UnifiedDownloaderFactory object at 0x123139e80>\n",
       "sunpy.net.Fido\n",
       "\n",
       "Fido is a unified data search and retrieval tool.\n",
       "\n",
       "It provides simultaneous access to a variety of online data sources, some\n",
       "cover multiple instruments and data products like the Virtual Solar\n",
       "Observatory and some are specific to a single source.\n",
       "\n",
       "For details of using `~sunpy.net.Fido` see :ref:`sunpy-tutorial-acquiring-data-index`.\n",
       "\n",
       "\n",
       "      Client      ...\n",
       "----------------- ...\n",
       "CDAWEBClient      ...\n",
       "EVEClient         ...\n",
       "GBMClient         ...\n",
       "XRSClient         ...\n",
       "SUVIClient        ...\n",
       "GONGClient        ...\n",
       "LYRAClient        ...\n",
       "NOAAIndicesClient ...\n",
       "NOAAPredictClient ...\n",
       "SRSClient         ...\n",
       "NoRHClient        ...\n",
       "RHESSIClient      ...\n",
       "HEKClient         ...\n",
       "HECClient         ...\n",
       "JSOCClient        ...\n",
       "VSOClient         ...\n",
       "SOARClient        ..."
      ]
     },
     "execution_count": 78,
     "metadata": {},
     "output_type": "execute_result"
    }
   ],
   "source": [
    "Fido"
   ]
  },
  {
   "cell_type": "code",
   "execution_count": 81,
   "id": "e67e40ed",
   "metadata": {},
   "outputs": [],
   "source": [
    "eui_query = Fido.search(a.Time(\"2022-04-02 12:00\", \"2022-04-02 15:00\"), \n",
    "                        a.soar.Product(\"EUI-FSI174-IMAGE\"), \n",
    "                        a.Level(2))"
   ]
  },
  {
   "cell_type": "code",
   "execution_count": 82,
   "id": "f467ded0",
   "metadata": {},
   "outputs": [
    {
     "data": {
      "text/html": [
       "Results from 1 Provider:</br></br>18 Results from the SOARClient:</br><div><i>QueryResponseTable length=18</i>\n",
       "<table id=\"table4887350496\" class=\"table-striped table-bordered table-condensed\">\n",
       "<thead><tr><th>Instrument</th><th>Data product</th><th>Level</th><th>Start time</th><th>End time</th><th>Data item ID</th><th>Filename</th><th>Filesize</th><th>SOOP Name</th></tr></thead>\n",
       "<thead><tr><th></th><th></th><th></th><th></th><th></th><th></th><th></th><th>Mbyte</th><th></th></tr></thead>\n",
       "<thead><tr><th>str3</th><th>str16</th><th>str2</th><th>str23</th><th>str23</th><th>str43</th><th>str52</th><th>float64</th><th>str30</th></tr></thead>\n",
       "<tr><td>EUI</td><td>eui-fsi174-image</td><td>L2</td><td>2022-04-02 12:00:45.225</td><td>2022-04-02 12:00:55.225</td><td>solo_L2_eui-fsi174-image_20220402T120045225</td><td>solo_L2_eui-fsi174-image_20220402T120045225_V01.fits</td><td>5.219</td><td>R_SMALL_MRES_MCAD_AR-Long-Term</td></tr>\n",
       "<tr><td>EUI</td><td>eui-fsi174-image</td><td>L2</td><td>2022-04-02 12:10:45.226</td><td>2022-04-02 12:10:55.226</td><td>solo_L2_eui-fsi174-image_20220402T121045226</td><td>solo_L2_eui-fsi174-image_20220402T121045226_V01.fits</td><td>5.138</td><td>R_SMALL_MRES_MCAD_AR-Long-Term</td></tr>\n",
       "<tr><td>EUI</td><td>eui-fsi174-image</td><td>L2</td><td>2022-04-02 12:20:45.227</td><td>2022-04-02 12:20:55.227</td><td>solo_L2_eui-fsi174-image_20220402T122045227</td><td>solo_L2_eui-fsi174-image_20220402T122045227_V01.fits</td><td>5.216</td><td>R_SMALL_MRES_MCAD_AR-Long-Term</td></tr>\n",
       "<tr><td>EUI</td><td>eui-fsi174-image</td><td>L2</td><td>2022-04-02 12:30:45.228</td><td>2022-04-02 12:30:55.228</td><td>solo_L2_eui-fsi174-image_20220402T123045228</td><td>solo_L2_eui-fsi174-image_20220402T123045228_V01.fits</td><td>5.213</td><td>R_SMALL_MRES_MCAD_AR-Long-Term</td></tr>\n",
       "<tr><td>EUI</td><td>eui-fsi174-image</td><td>L2</td><td>2022-04-02 12:40:45.229</td><td>2022-04-02 12:40:55.229</td><td>solo_L2_eui-fsi174-image_20220402T124045229</td><td>solo_L2_eui-fsi174-image_20220402T124045229_V01.fits</td><td>5.141</td><td>R_SMALL_MRES_MCAD_AR-Long-Term</td></tr>\n",
       "<tr><td>...</td><td>...</td><td>...</td><td>...</td><td>...</td><td>...</td><td>...</td><td>...</td><td>...</td></tr>\n",
       "<tr><td>EUI</td><td>eui-fsi174-image</td><td>L2</td><td>2022-04-02 14:10:45.275</td><td>2022-04-02 14:10:55.275</td><td>solo_L2_eui-fsi174-image_20220402T141045275</td><td>solo_L2_eui-fsi174-image_20220402T141045275_V01.fits</td><td>5.103</td><td>R_SMALL_MRES_MCAD_AR-Long-Term</td></tr>\n",
       "<tr><td>EUI</td><td>eui-fsi174-image</td><td>L2</td><td>2022-04-02 14:20:45.240</td><td>2022-04-02 14:20:55.240</td><td>solo_L2_eui-fsi174-image_20220402T142045240</td><td>solo_L2_eui-fsi174-image_20220402T142045240_V01.fits</td><td>5.187</td><td>R_SMALL_MRES_MCAD_AR-Long-Term</td></tr>\n",
       "<tr><td>EUI</td><td>eui-fsi174-image</td><td>L2</td><td>2022-04-02 14:30:45.241</td><td>2022-04-02 14:30:55.241</td><td>solo_L2_eui-fsi174-image_20220402T143045241</td><td>solo_L2_eui-fsi174-image_20220402T143045241_V01.fits</td><td>5.201</td><td>R_SMALL_MRES_MCAD_AR-Long-Term</td></tr>\n",
       "<tr><td>EUI</td><td>eui-fsi174-image</td><td>L2</td><td>2022-04-02 14:40:45.273</td><td>2022-04-02 14:40:55.273</td><td>solo_L2_eui-fsi174-image_20220402T144045273</td><td>solo_L2_eui-fsi174-image_20220402T144045273_V01.fits</td><td>5.106</td><td>R_SMALL_MRES_MCAD_AR-Long-Term</td></tr>\n",
       "<tr><td>EUI</td><td>eui-fsi174-image</td><td>L2</td><td>2022-04-02 14:50:45.243</td><td>2022-04-02 14:50:55.243</td><td>solo_L2_eui-fsi174-image_20220402T145045243</td><td>solo_L2_eui-fsi174-image_20220402T145045243_V01.fits</td><td>5.207</td><td>R_SMALL_MRES_MCAD_AR-Long-Term</td></tr>\n",
       "</table></div></br>"
      ],
      "text/plain": [
       "<sunpy.net.fido_factory.UnifiedResponse object at 0x1234f08c0>\n",
       "Results from 1 Provider:\n",
       "\n",
       "18 Results from the SOARClient:\n",
       "\n",
       "Instrument   Data product   Level ... Filesize           SOOP Name           \n",
       "                                  ...  Mbyte                                 \n",
       "---------- ---------------- ----- ... -------- ------------------------------\n",
       "       EUI eui-fsi174-image    L2 ...    5.219 R_SMALL_MRES_MCAD_AR-Long-Term\n",
       "       EUI eui-fsi174-image    L2 ...    5.138 R_SMALL_MRES_MCAD_AR-Long-Term\n",
       "       EUI eui-fsi174-image    L2 ...    5.216 R_SMALL_MRES_MCAD_AR-Long-Term\n",
       "       EUI eui-fsi174-image    L2 ...    5.213 R_SMALL_MRES_MCAD_AR-Long-Term\n",
       "       EUI eui-fsi174-image    L2 ...    5.141 R_SMALL_MRES_MCAD_AR-Long-Term\n",
       "       ...              ...   ... ...      ...                            ...\n",
       "       EUI eui-fsi174-image    L2 ...    5.196 R_SMALL_MRES_MCAD_AR-Long-Term\n",
       "       EUI eui-fsi174-image    L2 ...    5.103 R_SMALL_MRES_MCAD_AR-Long-Term\n",
       "       EUI eui-fsi174-image    L2 ...    5.187 R_SMALL_MRES_MCAD_AR-Long-Term\n",
       "       EUI eui-fsi174-image    L2 ...    5.201 R_SMALL_MRES_MCAD_AR-Long-Term\n",
       "       EUI eui-fsi174-image    L2 ...    5.106 R_SMALL_MRES_MCAD_AR-Long-Term\n",
       "       EUI eui-fsi174-image    L2 ...    5.207 R_SMALL_MRES_MCAD_AR-Long-Term\n",
       "Length = 18 rows\n"
      ]
     },
     "execution_count": 82,
     "metadata": {},
     "output_type": "execute_result"
    }
   ],
   "source": [
    "eui_query"
   ]
  },
  {
   "cell_type": "code",
   "execution_count": 85,
   "id": "90f51d06",
   "metadata": {},
   "outputs": [
    {
     "data": {
      "application/vnd.jupyter.widget-view+json": {
       "model_id": "f2d37405c454441996236dcd3ab62493",
       "version_major": 2,
       "version_minor": 0
      },
      "text/plain": [
       "Files Downloaded:   0%|          | 0/18 [00:00<?, ?file/s]"
      ]
     },
     "metadata": {},
     "output_type": "display_data"
    },
    {
     "data": {
      "application/vnd.jupyter.widget-view+json": {
       "model_id": "",
       "version_major": 2,
       "version_minor": 0
      },
      "text/plain": [
       "solo_L2_eui-fsi174-image_20220402T133045235_V01.fits:   0%|          | 0.00/5.19M [00:00<?, ?B/s]"
      ]
     },
     "metadata": {},
     "output_type": "display_data"
    },
    {
     "data": {
      "text/plain": [
       "<parfive.results.Results object at 0x1234c7f50>\n",
       "['EUI/solo_L2_eui-fsi174-image_20220402T120045225_V01.fits', 'EUI/solo_L2_eui-fsi174-image_20220402T121045226_V01.fits', 'EUI/solo_L2_eui-fsi174-image_20220402T122045227_V01.fits', 'EUI/solo_L2_eui-fsi174-image_20220402T123045228_V01.fits', 'EUI/solo_L2_eui-fsi174-image_20220402T124045229_V01.fits', 'EUI/solo_L2_eui-fsi174-image_20220402T125045230_V01.fits', 'EUI/solo_L2_eui-fsi174-image_20220402T130045231_V01.fits', 'EUI/solo_L2_eui-fsi174-image_20220402T131045269_V01.fits', 'EUI/solo_L2_eui-fsi174-image_20220402T132045233_V01.fits', 'EUI/solo_L2_eui-fsi174-image_20220402T133045235_V01.fits', 'EUI/solo_L2_eui-fsi174-image_20220402T134045261_V01.fits', 'EUI/solo_L2_eui-fsi174-image_20220402T135045237_V01.fits', 'EUI/solo_L2_eui-fsi174-image_20220402T140045238_V01.fits', 'EUI/solo_L2_eui-fsi174-image_20220402T141045275_V01.fits', 'EUI/solo_L2_eui-fsi174-image_20220402T142045240_V01.fits', 'EUI/solo_L2_eui-fsi174-image_20220402T143045241_V01.fits', 'EUI/solo_L2_eui-fsi174-image_20220402T144045273_V01.fits', 'EUI/solo_L2_eui-fsi174-image_20220402T145045243_V01.fits']"
      ]
     },
     "execution_count": 85,
     "metadata": {},
     "output_type": "execute_result"
    }
   ],
   "source": [
    "Fido.fetch(eui_query, path=\"./{instrument}/{file}\")"
   ]
  },
  {
   "cell_type": "markdown",
   "id": "782168ca",
   "metadata": {},
   "source": [
    "We can also search for other data products, for example the Solar Orbiter MAG"
   ]
  },
  {
   "cell_type": "code",
   "execution_count": 86,
   "id": "0c24dc25",
   "metadata": {},
   "outputs": [],
   "source": [
    "mag_query = Fido.search(a.Time(\"2022-04-02\", \"2022-04-05\"), \n",
    "                        a.soar.Product(\"MAG-RTN-NORMAL-1-MINUTE\"), \n",
    "                        a.Level(2))"
   ]
  },
  {
   "cell_type": "code",
   "execution_count": 87,
   "id": "0fdb0ac2",
   "metadata": {},
   "outputs": [
    {
     "data": {
      "text/html": [
       "Results from 1 Provider:</br></br>4 Results from the SOARClient:</br><div><i>QueryResponseTable length=4</i>\n",
       "<table id=\"table4906541296\" class=\"table-striped table-bordered table-condensed\">\n",
       "<thead><tr><th>Instrument</th><th>Data product</th><th>Level</th><th>Start time</th><th>End time</th><th>Data item ID</th><th>Filename</th><th>Filesize</th><th>SOOP Name</th></tr></thead>\n",
       "<thead><tr><th></th><th></th><th></th><th></th><th></th><th></th><th></th><th>Mbyte</th><th></th></tr></thead>\n",
       "<thead><tr><th>str3</th><th>str23</th><th>str2</th><th>str23</th><th>str23</th><th>str40</th><th>str48</th><th>float64</th><th>object</th></tr></thead>\n",
       "<tr><td>MAG</td><td>mag-rtn-normal-1-minute</td><td>L2</td><td>2022-04-02 00:00:00.000</td><td>2022-04-03 00:00:00.000</td><td>solo_L2_mag-rtn-normal-1-minute_20220402</td><td>solo_L2_mag-rtn-normal-1-minute_20220402_V01.cdf</td><td>0.032</td><td>None</td></tr>\n",
       "<tr><td>MAG</td><td>mag-rtn-normal-1-minute</td><td>L2</td><td>2022-04-03 00:00:00.000</td><td>2022-04-04 00:00:00.000</td><td>solo_L2_mag-rtn-normal-1-minute_20220403</td><td>solo_L2_mag-rtn-normal-1-minute_20220403_V01.cdf</td><td>0.032</td><td>None</td></tr>\n",
       "<tr><td>MAG</td><td>mag-rtn-normal-1-minute</td><td>L2</td><td>2022-04-04 00:00:00.000</td><td>2022-04-05 00:00:00.000</td><td>solo_L2_mag-rtn-normal-1-minute_20220404</td><td>solo_L2_mag-rtn-normal-1-minute_20220404_V01.cdf</td><td>0.033</td><td>None</td></tr>\n",
       "<tr><td>MAG</td><td>mag-rtn-normal-1-minute</td><td>L2</td><td>2022-04-05 00:00:00.000</td><td>2022-04-06 00:00:00.000</td><td>solo_L2_mag-rtn-normal-1-minute_20220405</td><td>solo_L2_mag-rtn-normal-1-minute_20220405_V01.cdf</td><td>0.033</td><td>None</td></tr>\n",
       "</table></div></br>"
      ],
      "text/plain": [
       "<sunpy.net.fido_factory.UnifiedResponse object at 0x1234f0290>\n",
       "Results from 1 Provider:\n",
       "\n",
       "4 Results from the SOARClient:\n",
       "\n",
       "Instrument       Data product      Level ... Filesize SOOP Name\n",
       "                                         ...  Mbyte            \n",
       "---------- ----------------------- ----- ... -------- ---------\n",
       "       MAG mag-rtn-normal-1-minute    L2 ...    0.032      None\n",
       "       MAG mag-rtn-normal-1-minute    L2 ...    0.032      None\n",
       "       MAG mag-rtn-normal-1-minute    L2 ...    0.033      None\n",
       "       MAG mag-rtn-normal-1-minute    L2 ...    0.033      None\n"
      ]
     },
     "execution_count": 87,
     "metadata": {},
     "output_type": "execute_result"
    }
   ],
   "source": [
    "mag_query"
   ]
  },
  {
   "cell_type": "code",
   "execution_count": 88,
   "id": "55f74e44",
   "metadata": {},
   "outputs": [
    {
     "data": {
      "application/vnd.jupyter.widget-view+json": {
       "model_id": "5d60e0f6c7954c24966850ab6776e9da",
       "version_major": 2,
       "version_minor": 0
      },
      "text/plain": [
       "Files Downloaded:   0%|          | 0/4 [00:00<?, ?file/s]"
      ]
     },
     "metadata": {},
     "output_type": "display_data"
    },
    {
     "data": {
      "application/vnd.jupyter.widget-view+json": {
       "model_id": "",
       "version_major": 2,
       "version_minor": 0
      },
      "text/plain": [
       "solo_L2_mag-rtn-normal-1-minute_20220405_V01.cdf:   0%|          | 0.00/32.7k [00:00<?, ?B/s]"
      ]
     },
     "metadata": {},
     "output_type": "display_data"
    },
    {
     "data": {
      "application/vnd.jupyter.widget-view+json": {
       "model_id": "",
       "version_major": 2,
       "version_minor": 0
      },
      "text/plain": [
       "solo_L2_mag-rtn-normal-1-minute_20220404_V01.cdf:   0%|          | 0.00/32.6k [00:00<?, ?B/s]"
      ]
     },
     "metadata": {},
     "output_type": "display_data"
    },
    {
     "data": {
      "application/vnd.jupyter.widget-view+json": {
       "model_id": "",
       "version_major": 2,
       "version_minor": 0
      },
      "text/plain": [
       "solo_L2_mag-rtn-normal-1-minute_20220403_V01.cdf:   0%|          | 0.00/32.5k [00:00<?, ?B/s]"
      ]
     },
     "metadata": {},
     "output_type": "display_data"
    },
    {
     "data": {
      "application/vnd.jupyter.widget-view+json": {
       "model_id": "",
       "version_major": 2,
       "version_minor": 0
      },
      "text/plain": [
       "solo_L2_mag-rtn-normal-1-minute_20220402_V01.cdf:   0%|          | 0.00/32.3k [00:00<?, ?B/s]"
      ]
     },
     "metadata": {},
     "output_type": "display_data"
    }
   ],
   "source": [
    "mag_files = Fido.fetch(mag_query, path=\"./{instrument}/{file}\")"
   ]
  },
  {
   "cell_type": "code",
   "execution_count": 89,
   "id": "6d3613dd-3c24-447d-a730-013a8b974b91",
   "metadata": {},
   "outputs": [
    {
     "data": {
      "text/plain": [
       "<parfive.results.Results object at 0x1234ae360>\n",
       "['MAG/solo_L2_mag-rtn-normal-1-minute_20220402_V01.cdf', 'MAG/solo_L2_mag-rtn-normal-1-minute_20220403_V01.cdf', 'MAG/solo_L2_mag-rtn-normal-1-minute_20220404_V01.cdf', 'MAG/solo_L2_mag-rtn-normal-1-minute_20220405_V01.cdf']"
      ]
     },
     "execution_count": 89,
     "metadata": {},
     "output_type": "execute_result"
    }
   ],
   "source": [
    "mag_files"
   ]
  },
  {
   "cell_type": "markdown",
   "id": "c9c7b8a2-629f-491e-ab6c-b17151ea3841",
   "metadata": {},
   "source": [
    "# Accessing data from the CDAWeb with sunpy - which is very helpful for in-situ data\n",
    "\n",
    "There is also a CDAWeb client within sunpy. CDAWeb data can be accessed when the `cdaweb.Dataset` attribute is provided to the search.\n",
    "\n",
    "The data available from the SOAR is also available from the CDAWeb. You may be used to working with this (especially if you mainly work with in-situ observations), so lets go through how the data can also be accessed this way. This is handy, as you can also access many other in-situ measurements from this too."
   ]
  },
  {
   "cell_type": "code",
   "execution_count": 90,
   "id": "9e03b142-e8ca-491f-957f-d38928994b6f",
   "metadata": {},
   "outputs": [],
   "source": [
    "res_cdaw = Fido.search(a.Time(\"2022-04-02\", \"2022-04-05\"), \n",
    "                       a.cdaweb.Dataset('SOLO_L2_MAG-RTN-NORMAL-1-MINUTE'))"
   ]
  },
  {
   "cell_type": "code",
   "execution_count": 91,
   "id": "40c53d0e-c8a4-44cc-a1b2-928dcb137fb7",
   "metadata": {},
   "outputs": [
    {
     "data": {
      "text/html": [
       "Results from 1 Provider:</br></br>3 Results from the CDAWEBClient:</br><div><i>QueryResponseTable length=3</i>\n",
       "<table id=\"table4887351648\" class=\"table-striped table-bordered table-condensed\">\n",
       "<thead><tr><th>Dataset</th><th>Start time</th><th>End time</th><th>URL</th></tr></thead>\n",
       "<thead><tr><th>str31</th><th>str23</th><th>str23</th><th>str144</th></tr></thead>\n",
       "<tr><td>SOLO_L2_MAG-RTN-NORMAL-1-MINUTE</td><td>2022-04-02 00:00:29.000</td><td>2022-04-02 23:59:30.000</td><td>https://cdaweb.gsfc.nasa.gov/sp_phys/data/solar-orbiter/mag/science/l2/rtn-normal-1-minute/2022/solo_l2_mag-rtn-normal-1-minute_20220402_v01.cdf</td></tr>\n",
       "<tr><td>SOLO_L2_MAG-RTN-NORMAL-1-MINUTE</td><td>2022-04-03 00:00:29.000</td><td>2022-04-03 23:59:30.000</td><td>https://cdaweb.gsfc.nasa.gov/sp_phys/data/solar-orbiter/mag/science/l2/rtn-normal-1-minute/2022/solo_l2_mag-rtn-normal-1-minute_20220403_v01.cdf</td></tr>\n",
       "<tr><td>SOLO_L2_MAG-RTN-NORMAL-1-MINUTE</td><td>2022-04-04 00:00:29.000</td><td>2022-04-04 23:59:30.000</td><td>https://cdaweb.gsfc.nasa.gov/sp_phys/data/solar-orbiter/mag/science/l2/rtn-normal-1-minute/2022/solo_l2_mag-rtn-normal-1-minute_20220404_v01.cdf</td></tr>\n",
       "</table></div></br>"
      ],
      "text/plain": [
       "<sunpy.net.fido_factory.UnifiedResponse object at 0x12473e120>\n",
       "Results from 1 Provider:\n",
       "\n",
       "3 Results from the CDAWEBClient:\n",
       "Source: https://cdaweb.gsfc.nasa.gov/index.html\n",
       "\n",
       "            Dataset                    Start time               End time       \n",
       "------------------------------- ----------------------- -----------------------\n",
       "SOLO_L2_MAG-RTN-NORMAL-1-MINUTE 2022-04-02 00:00:29.000 2022-04-02 23:59:30.000\n",
       "SOLO_L2_MAG-RTN-NORMAL-1-MINUTE 2022-04-03 00:00:29.000 2022-04-03 23:59:30.000\n",
       "SOLO_L2_MAG-RTN-NORMAL-1-MINUTE 2022-04-04 00:00:29.000 2022-04-04 23:59:30.000\n"
      ]
     },
     "execution_count": 91,
     "metadata": {},
     "output_type": "execute_result"
    }
   ],
   "source": [
    "res_cdaw"
   ]
  },
  {
   "cell_type": "code",
   "execution_count": 45,
   "id": "69bf1577-b879-4896-a970-1b8e835f3bc4",
   "metadata": {},
   "outputs": [
    {
     "data": {
      "application/vnd.jupyter.widget-view+json": {
       "model_id": "9cb83a6cef4e49de94a4e89c018a3683",
       "version_major": 2,
       "version_minor": 0
      },
      "text/plain": [
       "Files Downloaded:   0%|          | 0/1 [00:00<?, ?file/s]"
      ]
     },
     "metadata": {},
     "output_type": "display_data"
    },
    {
     "data": {
      "application/vnd.jupyter.widget-view+json": {
       "model_id": "",
       "version_major": 2,
       "version_minor": 0
      },
      "text/plain": [
       "solo_l2_mag-rtn-normal-1-minute_20220325_v01.cdf:   0%|          | 0.00/60.2k [00:00<?, ?B/s]"
      ]
     },
     "metadata": {},
     "output_type": "display_data"
    }
   ],
   "source": [
    "mag_cdaw_files = Fido.fetch(res_cdaw)"
   ]
  },
  {
   "cell_type": "code",
   "execution_count": null,
   "id": "dc57a0b1-a269-4fa8-ba38-0ef78365bdcd",
   "metadata": {},
   "outputs": [],
   "source": []
  }
 ],
 "metadata": {
  "kernelspec": {
   "display_name": "Python 3 (ipykernel)",
   "language": "python",
   "name": "python3"
  },
  "language_info": {
   "codemirror_mode": {
    "name": "ipython",
    "version": 3
   },
   "file_extension": ".py",
   "mimetype": "text/x-python",
   "name": "python",
   "nbconvert_exporter": "python",
   "pygments_lexer": "ipython3",
   "version": "3.12.3"
  }
 },
 "nbformat": 4,
 "nbformat_minor": 5
}
