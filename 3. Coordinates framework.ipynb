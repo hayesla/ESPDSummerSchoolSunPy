{
 "cells": [
  {
   "cell_type": "markdown",
   "id": "61292ccf",
   "metadata": {},
   "source": [
    "<div>\n",
    "<img src=\"./images/sunpy_logo.png\" width=\"500\" align=\"left\"/>\n",
    "</div>"
   ]
  },
  {
   "cell_type": "code",
   "execution_count": null,
   "id": "58d89f91",
   "metadata": {},
   "outputs": [],
   "source": [
    "from astropy.coordinates import SkyCoord\n",
    "from astropy import units as u\n",
    "from sunpy.time import parse_time\n",
    "import numpy as np\n",
    "import matplotlib.pyplot as plt\n",
    "import glob\n",
    "import sunpy.map\n",
    "from sunpy.coordinates import frames, get_body_heliographic_stonyhurst, get_horizons_coord\n",
    "from astropy.visualization import ImageNormalize, LogStretch\n",
    "from astropy.wcs import WCS"
   ]
  },
  {
   "cell_type": "markdown",
   "id": "359732e5",
   "metadata": {},
   "source": [
    "# 3. Coordinates\n",
    "\n",
    "SunPy uses [`astropy.coordinates`](https://docs.astropy.org/en/stable/coordinates/index.html) to represent points in physical space. This applies to both points in 3D space and projected coordinates in images.\n",
    "\n",
    "The SunPy coordinate framework extends the Astropy coordinates framework, and the coordinates subpackage of sunpy provides: \n",
    "\n",
    "* A robust framework for working with solar-physics coordinate systems\n",
    "\n",
    "* Functions to obtain the locations of solar-system bodies (sunpy.coordinates.ephemeris)\n",
    "\n",
    "* Functions to calculate Sun-specific coordinate information (sunpy.coordinates.sun)\n",
    "\n",
    "* Bridge module to enable the use of the SkyCoord API to perform computations using SPICE kernels (sunpy.coordinates.spice)\n",
    "\n",
    "\n",
    "\n",
    "In this notebook we'll introduce some of the powerful functionality available within sunpy"
   ]
  },
  {
   "cell_type": "markdown",
   "id": "b4741055",
   "metadata": {},
   "source": [
    "## Coordinate frameword\n",
    "`sunpy` extends the `astropy.coordinates` framework by adding additional solar-specific coordinate frames and the accompanying transformations between them."
   ]
  },
  {
   "cell_type": "markdown",
   "id": "4edd2feb",
   "metadata": {},
   "source": [
    "<div>\n",
    "<img src=\"./images/coordinates.png\"/>\n",
    "</div>"
   ]
  },
  {
   "cell_type": "markdown",
   "id": "3e2803cc",
   "metadata": {},
   "source": [
    "### Creating coordinates \n",
    "\n",
    "We deal with coordinates by using astropy's [`SkyCoord`](https://docs.astropy.org/en/stable/api/astropy.coordinates.SkyCoord.html#astropy.coordinates.SkyCoord) class. \n",
    "\n",
    "We have already seem some introduction to this in the previous notebook but lets extend this here!\n",
    "\n",
    "\n",
    "A **coordinate** combines position data with a coordinate frame, and a SkyCoord object is created by passing in positions with specified units and a coordinate frame. Above in the imports cell we've imported [`sunpy.coordinates.frames`](https://docs.sunpy.org/en/stable/code_ref/coordinates/index.html#supported-coordinate-systems) which allow us to use solar physics specific frames such as Helioprojective, Heliographic Stonyhurst, Heliocentric etc. \n",
    "\n",
    "Lets create a point on the Sun in lat and long in the Heliographic Stonyhurst coordinate system"
   ]
  },
  {
   "cell_type": "code",
   "execution_count": null,
   "id": "bdf59165",
   "metadata": {},
   "outputs": [],
   "source": [
    "# longitude, latitude\n",
    "hgs_coord = SkyCoord(10*u.deg, 20*u.deg, obstime=\"2017-08-01\", frame=frames.HeliographicStonyhurst)  \n",
    "hgs_coord"
   ]
  },
  {
   "cell_type": "code",
   "execution_count": null,
   "id": "cdafb17e",
   "metadata": {},
   "outputs": [],
   "source": [
    "print(f\"\"\"Longitude: {hgs_coord.lon}\n",
    "Latitude: {hgs_coord.lat}\n",
    "Distance from Sun center: {hgs_coord.radius}\"\"\")"
   ]
  },
  {
   "cell_type": "code",
   "execution_count": null,
   "id": "8c94e60c",
   "metadata": {},
   "outputs": [],
   "source": [
    "hgs_coord_xyz = SkyCoord(hgs_coord, representation_type='cartesian')\n",
    "hgs_coord_xyz"
   ]
  },
  {
   "cell_type": "markdown",
   "id": "9546b199",
   "metadata": {},
   "source": [
    "We can then transform this coordinate to the any defined coordinate frame defined in astropy or sunpy. Lets transform it to the Helioprojective frame (which is observer-based)"
   ]
  },
  {
   "cell_type": "code",
   "execution_count": null,
   "id": "81328549",
   "metadata": {},
   "outputs": [],
   "source": [
    "hgs_coord.transform_to(frames.Helioprojective(observer=\"earth\"))"
   ]
  },
  {
   "cell_type": "markdown",
   "id": "bd654af7",
   "metadata": {},
   "source": [
    "We can also convert this to other coordinate systems outside the solar-specific ones - for examples ICRS"
   ]
  },
  {
   "cell_type": "code",
   "execution_count": null,
   "id": "f40ab950",
   "metadata": {},
   "outputs": [],
   "source": [
    "hgs_coord.transform_to(\"icrs\")"
   ]
  },
  {
   "cell_type": "markdown",
   "id": "6c0246f9",
   "metadata": {},
   "source": [
    "## An important note about observer based frames\n",
    "\n",
    "Some coordinate frames are defined based on the position of the observer e.g. the Helioprojective and Heliocentric frames. Therefore to transform either of these frames to a different frame the location of the observer must be known.\n",
    "\n",
    "This is shown above when transforming to Helioprojective we needed to pass an `observer` keyword. Similarly, its important that the `obstime` is given also!\n",
    "\n",
    "For example, lets define a point on the Sun in Helioprojective and see what that equivalent point would be from another observer - say Mars!\n"
   ]
  },
  {
   "cell_type": "code",
   "execution_count": null,
   "id": "3d95d34f",
   "metadata": {},
   "outputs": [],
   "source": [
    "obstime = \"2022-05-02 00:00\""
   ]
  },
  {
   "cell_type": "code",
   "execution_count": null,
   "id": "b383789e",
   "metadata": {},
   "outputs": [],
   "source": [
    "hpc_coord = SkyCoord(0*u.arcsec, 0*u.arcsec, observer=\"earth\", \n",
    "                     obstime=obstime, frame=frames.Helioprojective)\n",
    "hpc_coord"
   ]
  },
  {
   "cell_type": "code",
   "execution_count": null,
   "id": "258e756d",
   "metadata": {},
   "outputs": [],
   "source": [
    "print(hpc_coord.Tx, hpc_coord.Ty)"
   ]
  },
  {
   "cell_type": "code",
   "execution_count": null,
   "id": "2a85a1d2",
   "metadata": {},
   "outputs": [],
   "source": [
    "mars_hpc_coord = hpc_coord.transform_to(frames.Helioprojective(observer=\"mars\"))\n",
    "mars_hpc_coord"
   ]
  },
  {
   "cell_type": "code",
   "execution_count": null,
   "id": "81e9a11a",
   "metadata": {},
   "outputs": [],
   "source": [
    "print(mars_hpc_coord.Tx, mars_hpc_coord.Ty)"
   ]
  },
  {
   "cell_type": "markdown",
   "id": "69bbd73b",
   "metadata": {},
   "source": [
    "## Positions of solar system bodies\n",
    "`sunpy.coordinates` provides functions to obtain the coordinates of solar-system bodies.\n",
    "The function `get_body_heliographic_stonyhurst` which will return the location of the solar-system body in the `HeliographicStonyhurst` frame.\n",
    "\n",
    "For other solar-system bodies (e.g., major man-made spacecraft or comets), you can use `get_horizons_coord()`, which queries JPL HORIZONS:"
   ]
  },
  {
   "cell_type": "code",
   "execution_count": null,
   "id": "3cc8ed81",
   "metadata": {},
   "outputs": [],
   "source": [
    "earth_pos = get_body_heliographic_stonyhurst(\"earth\", \"2022-04-02\")\n",
    "mars_pos = get_body_heliographic_stonyhurst(\"mars\", \"2022-04-02\")"
   ]
  },
  {
   "cell_type": "code",
   "execution_count": null,
   "id": "feda351f",
   "metadata": {},
   "outputs": [],
   "source": [
    "print(mars_pos)"
   ]
  },
  {
   "cell_type": "markdown",
   "id": "2f35636c",
   "metadata": {},
   "source": [
    "For other solar-system bodies (e.g., major man-made spacecraft or comets), you can use get_horizons_coord(), which queries JPL HORIZONS:"
   ]
  },
  {
   "cell_type": "code",
   "execution_count": null,
   "id": "7ded1365",
   "metadata": {},
   "outputs": [],
   "source": [
    "solo_pos = get_horizons_coord(\"solar orbiter\", \"2022-04-02\")"
   ]
  },
  {
   "cell_type": "markdown",
   "id": "533c25f0",
   "metadata": {},
   "source": [
    "## Plotting positions of spacecraft\n",
    "\n",
    "Lets plot the positions of different spacecraft over the recent Solar Orbiter perihelion!"
   ]
  },
  {
   "cell_type": "code",
   "execution_count": null,
   "id": "5b4cee11",
   "metadata": {},
   "outputs": [],
   "source": [
    "perihelion_time = parse_time(\"2022-04-02\")\n",
    "perihelion_seq = perihelion_time + np.arange(-30, 30)*u.day\n"
   ]
  },
  {
   "cell_type": "code",
   "execution_count": null,
   "id": "a2088dcc",
   "metadata": {},
   "outputs": [],
   "source": [
    "solo_coord = get_horizons_coord(\"solar orbiter\", perihelion_seq)\n",
    "psp_coord = get_horizons_coord(\"psp\", perihelion_seq)\n",
    "sdo_coord = get_horizons_coord(\"sdo\", perihelion_seq)"
   ]
  },
  {
   "cell_type": "code",
   "execution_count": null,
   "id": "ca3cd950",
   "metadata": {},
   "outputs": [],
   "source": [
    "fig = plt.figure(dpi=120)\n",
    "ax = fig.add_subplot(projection='polar')\n",
    "\n",
    "# Transform to HGS\n",
    "psp_coord_hgs = psp_coord.heliographic_stonyhurst\n",
    "solo_coord_hgs = solo_coord.heliographic_stonyhurst\n",
    "sdo_coord_hgs = sdo_coord.heliographic_stonyhurst\n",
    "\n",
    "\n",
    "ax.plot(psp_coord_hgs.lon.to('rad'), psp_coord_hgs.radius,\n",
    "        '.', markersize=5, label='PSP')\n",
    "ax.plot(solo_coord_hgs.lon.to('rad'), solo_coord_hgs.radius,\n",
    "        '.', markersize=5, label='SolO')\n",
    "ax.plot(sdo_coord_hgs.lon.to('rad'), sdo_coord_hgs.radius,\n",
    "        '.', markersize=5, label='SDO')\n",
    "\n",
    "\n",
    "ax.legend(loc='lower right')\n",
    "ax.set_theta_zero_location(\"S\")\n",
    "ax.set_title('Positions in Heliographic Stonyhurst (HGS)')"
   ]
  },
  {
   "cell_type": "code",
   "execution_count": null,
   "id": "d41f8428-609d-4d3d-b44c-15d7f5bb78f3",
   "metadata": {},
   "outputs": [],
   "source": [
    "fig = plt.figure(dpi=120)\n",
    "ax = fig.add_subplot(projection='polar')\n",
    "\n",
    "# Transform to HCC\n",
    "psp_coord_hci = psp_coord.heliocentricinertial\n",
    "solo_coord_hci = solo_coord.heliocentricinertial\n",
    "sdo_coord_hci = sdo_coord.heliocentricinertial\n",
    "\n",
    "ax.plot(psp_coord_hci.lon.to('rad'), psp_coord_hci.distance,\n",
    "        '.', markersize=5, label='PSP')\n",
    "ax.plot(solo_coord_hci.lon.to('rad'), solo_coord_hci.distance,\n",
    "        '.', markersize=5, label='SolO')\n",
    "ax.plot(sdo_coord_hci.lon.to('rad'), sdo_coord_hci.distance,\n",
    "        '.', markersize=5, label='SDO')\n",
    "\n",
    "ax.legend(loc='lower right')\n",
    "ax.set_title('Positions in Heliocentric Inertial (HCI)')"
   ]
  },
  {
   "cell_type": "markdown",
   "id": "edbbea3a",
   "metadata": {},
   "source": [
    "# Observations from different observer locations\n",
    "\n",
    "## Example of SDO/AIA and Solar Orbiter/EUI"
   ]
  },
  {
   "cell_type": "code",
   "execution_count": null,
   "id": "7573194b",
   "metadata": {},
   "outputs": [],
   "source": [
    "aia_files = glob.glob(\"./AIA/*171*.fits\"); aia_files.sort()\n",
    "eui_files = glob.glob(\"./EUI/*174*.fits\"); eui_files.sort()"
   ]
  },
  {
   "cell_type": "code",
   "execution_count": null,
   "id": "6f3b3be9",
   "metadata": {},
   "outputs": [],
   "source": [
    "aia_map = sunpy.map.Map(aia_files[10])\n",
    "eui_map = sunpy.map.Map(eui_files[10])"
   ]
  },
  {
   "cell_type": "code",
   "execution_count": null,
   "id": "9a66b527-ca85-4274-8c4c-cff8de540884",
   "metadata": {},
   "outputs": [],
   "source": [
    "fig = plt.figure()\n",
    "ax = fig.add_subplot(projection=\"polar\")\n",
    "\n",
    "ax.scatter(aia_map.observer_coordinate.lon.to('rad'), \n",
    "           aia_map.observer_coordinate.radius.to(u.AU), label=\"SDO\")\n",
    "\n",
    "ax.scatter(eui_map.observer_coordinate.lon.to(u.rad), \n",
    "           eui_map.observer_coordinate.radius.to_value(u.AU), label=\"SolO/EUI\")\n",
    "\n",
    "ax.scatter(0, 0, color='y')\n",
    "ax.set_theta_zero_location(\"S\")\n",
    "plt.legend()"
   ]
  },
  {
   "cell_type": "code",
   "execution_count": null,
   "id": "4b28075a",
   "metadata": {},
   "outputs": [],
   "source": [
    "fig = plt.figure(figsize=(11, 5))\n",
    "ax1 = fig.add_subplot(1,2,1,projection=aia_map)\n",
    "ax2 = fig.add_subplot(1,2,2,projection=eui_map)\n",
    "\n",
    "aia_map.plot(axes=ax1, clip_interval=[5, 99.9]*u.percent)\n",
    "aia_map.draw_grid()\n",
    "eui_map.plot(axes=ax2)\n",
    "eui_map.draw_grid()"
   ]
  },
  {
   "cell_type": "markdown",
   "id": "d2e6904c",
   "metadata": {},
   "source": [
    "### Plot the solar limb as seen from EUI on AIA map"
   ]
  },
  {
   "cell_type": "markdown",
   "id": "b30990cc",
   "metadata": {},
   "source": [
    "We can plot the solar limb as seen from EUI on the AIA map"
   ]
  },
  {
   "cell_type": "code",
   "execution_count": null,
   "id": "ef79155f",
   "metadata": {},
   "outputs": [],
   "source": [
    "fig = plt.figure(figsize=(6, 6))\n",
    "\n",
    "ax1 = fig.add_subplot(projection=aia_map)\n",
    "aia_map.plot(axes=ax1, clip_interval=[5, 99.9]*u.percent)\n",
    "aia_map.draw_limb(axes=ax1, color='white')\n",
    "eui_map.draw_limb(axes=ax1, color='blue', label=\"EUI limb\")\n",
    "plt.legend()"
   ]
  },
  {
   "cell_type": "markdown",
   "id": "73592ab8",
   "metadata": {},
   "source": [
    "And visa-versa, plot the AIA limb on the EUI map"
   ]
  },
  {
   "cell_type": "code",
   "execution_count": null,
   "id": "025b9776",
   "metadata": {},
   "outputs": [],
   "source": [
    "fig = plt.figure(figsize=(6, 6))\n",
    "\n",
    "ax1 = fig.add_subplot(projection=eui_map)\n",
    "eui_map.plot(axes=ax1)\n",
    "eui_map.draw_limb(axes=ax1, color='white')\n",
    "aia_map.draw_limb(axes=ax1, color='green', label=\"AIA limb\")\n",
    "plt.legend()\n",
    "\n"
   ]
  },
  {
   "cell_type": "markdown",
   "id": "1122d089",
   "metadata": {},
   "source": [
    "## The solar flare and eruption is both seen by SDO/AIA and from SolO/EUI, just from two different points of view.\n",
    "\n",
    "Lets define the point and plot the point of the flare as seen by AIA"
   ]
  },
  {
   "cell_type": "code",
   "execution_count": null,
   "id": "9e2c5dc8",
   "metadata": {},
   "outputs": [],
   "source": [
    "flare_coord_aia = SkyCoord(830*u.arcsec, 263*u.arcsec, frame=aia_map.coordinate_frame)"
   ]
  },
  {
   "cell_type": "code",
   "execution_count": null,
   "id": "6b934d2a",
   "metadata": {},
   "outputs": [],
   "source": [
    "fig = plt.figure(figsize=(6, 6))\n",
    "ax = fig.add_subplot(projection=aia_map)\n",
    "aia_map.plot()\n",
    "ax.plot_coord(flare_coord_aia, marker='X', color='b', ms=10)"
   ]
  },
  {
   "cell_type": "code",
   "execution_count": null,
   "id": "1a1614d8",
   "metadata": {},
   "outputs": [],
   "source": [
    "fig = plt.figure(figsize=(6, 6))\n",
    "ax = fig.add_subplot(projection=eui_map)\n",
    "eui_map.plot()\n",
    "ax.plot_coord(flare_coord_aia, marker='X', color='b', ms=10)"
   ]
  },
  {
   "cell_type": "markdown",
   "id": "18f15634",
   "metadata": {},
   "source": [
    "## Reproject AIA to field of view of Solo\n",
    "\n",
    "Lets say for this observation, we want to identify what the AIA field of view looks like from the observer of Solar Orbiter. We can do this by using `reproject`."
   ]
  },
  {
   "cell_type": "code",
   "execution_count": null,
   "id": "328e555e",
   "metadata": {},
   "outputs": [],
   "source": [
    "aia_map = aia_map.resample((512, 512)*u.pix)"
   ]
  },
  {
   "cell_type": "code",
   "execution_count": null,
   "id": "ee7d0d72-a740-43e4-b586-cf042bdb5b7b",
   "metadata": {},
   "outputs": [],
   "source": [
    "aia_map.plot()"
   ]
  },
  {
   "cell_type": "code",
   "execution_count": null,
   "id": "c8d2be7f-9f25-498c-8060-63118ad14acf",
   "metadata": {},
   "outputs": [],
   "source": [
    "eui_map.meta[\"rsun_ref\"] = sunpy.sun.constants.radius.to_value(u.m)\n",
    "aia_map.meta[\"rsun_ref\"] = sunpy.sun.constants.radius.to_value(u.m)"
   ]
  },
  {
   "cell_type": "code",
   "execution_count": null,
   "id": "4091e19d-b20e-46ea-b208-82d302285896",
   "metadata": {},
   "outputs": [],
   "source": [
    "eui_map_reproject_aia = eui_map.reproject_to(aia_map.wcs)\n",
    "eui_map_reproject_aia.plot()\n",
    "eui_map_reproject_aia.draw_limb(color='g')"
   ]
  },
  {
   "cell_type": "code",
   "execution_count": null,
   "id": "d64462e4-6d63-4525-8ebd-ff8ca8295e51",
   "metadata": {},
   "outputs": [],
   "source": [
    "aia_map_reproject_eui = aia_map.reproject_to(eui_map.wcs)\n",
    "\n",
    "aia_map_reproject_eui.plot()\n",
    "aia_map_reproject_eui.draw_limb(color='k')"
   ]
  },
  {
   "cell_type": "markdown",
   "id": "64e85519",
   "metadata": {},
   "source": [
    "## Reproject to Heliographic Maps\n",
    "\n",
    "As well as reprojecting to different observers, sunpy maps can also be reprojected to different coordinate frames`"
   ]
  },
  {
   "cell_type": "code",
   "execution_count": null,
   "id": "bbc2f1c2",
   "metadata": {},
   "outputs": [],
   "source": [
    "shape_out = (720, 1440)\n",
    "frame_out = SkyCoord(0, 0, unit=u.deg,\n",
    "                     frame=\"heliographic_stonyhurst\",\n",
    "                     obstime=aia_map.date,\n",
    "                     rsun=aia_map.coordinate_frame.rsun)\n",
    "header = sunpy.map.make_fitswcs_header(shape_out,\n",
    "                                       frame_out,\n",
    "                                       scale=(360 / shape_out[1],\n",
    "                                              180 / shape_out[0]) * u.deg / u.pix,\n",
    "                                       projection_code=\"CAR\")\n",
    "out_wcs = WCS(header)"
   ]
  },
  {
   "cell_type": "code",
   "execution_count": null,
   "id": "f2ea3b56",
   "metadata": {},
   "outputs": [],
   "source": [
    "outmap = aia_map.reproject_to(header)"
   ]
  },
  {
   "cell_type": "code",
   "execution_count": null,
   "id": "8d8ef0bb",
   "metadata": {},
   "outputs": [],
   "source": [
    "fig = plt.figure(figsize=(8, 6))\n",
    "ax = fig.add_subplot(projection=outmap)\n",
    "outmap.plot()\n",
    "aia_map.draw_limb(color='b')\n",
    "eui_map.draw_limb(color='green')"
   ]
  },
  {
   "cell_type": "markdown",
   "id": "8a6d51da-942e-475f-8b92-35bf1ee7ca2f",
   "metadata": {},
   "source": [
    "# Computations using SPICE kernals now available since sunpy 5.1!\n",
    "\n",
    "SPICE kernels are datasets that provide detailed information on the positions, motions, and orientations of spacecraft and celestial bodies, which essential for precise solar observations and experiments. These kernels allow us to accurately align instruments, predict spacecraft encounters with solar phenomena, and analyze the dynamics of the solar system's bodies in relation to the Sun.\n",
    "\n",
    "The `sunpy.coordinates.spice` module now enables the use of the `SkyCoord` API to perform SPICE computations such as the location of bodies or the transformation of a vector from one coordinate frame to another coordinate frame."
   ]
  },
  {
   "cell_type": "code",
   "execution_count": null,
   "id": "ffadaba8",
   "metadata": {},
   "outputs": [],
   "source": [
    "from sunpy.data import cache\n",
    "from sunpy.coordinates import spice, frames\n",
    "from astropy.time import Time"
   ]
  },
  {
   "cell_type": "code",
   "execution_count": null,
   "id": "8f7c5348-cd6f-4fb0-bc69-0a41fe85afc7",
   "metadata": {},
   "outputs": [],
   "source": [
    "solo_kernal_urls = [\n",
    "    \"spk/de421.bsp\",\n",
    "    \"spk/solo_ANC_soc-orbit-stp_20200210-20301120_280_V1_00288_V01.bsp\",\n",
    "]\n",
    "solo_kernal_urls = [f\"http://spiftp.esac.esa.int/data/SPICE/SOLAR-ORBITER/kernels/{url}\"\n",
    "               for url in solo_kernal_urls]\n",
    "\n",
    "psp_kernals = [\"https://spdf.gsfc.nasa.gov/pub/data/psp/ephemeris/spice/Long_Term_Predicted_Ephemeris/spp_nom_20180812_20250831_v039_RO6.bsp\"]\n",
    "\n",
    "kernals = solo_kernal_urls + psp_kernals\n",
    "\n",
    "kernel_files = [cache.download(url) for url in kernals]\n",
    "spice.initialize(kernel_files)"
   ]
  },
  {
   "cell_type": "code",
   "execution_count": null,
   "id": "96f8aee9-bf05-4a49-880c-422856c80a16",
   "metadata": {},
   "outputs": [],
   "source": [
    "obstime = Time(\"2020-03-01\") + np.arange(0, 1767, 1)*u.day\n",
    "solo_spacecraft = spice.get_body('Solar Orbiter', obstime)\n",
    "psp_spacecraft = spice.get_body('SOLAR PROBE PLUS', obstime)\n",
    "\n",
    "solo_spacecraft_hgs = solo_spacecraft.heliographic_stonyhurst\n",
    "psp_spacecraft_hgs = psp_spacecraft.heliographic_stonyhurst"
   ]
  },
  {
   "cell_type": "code",
   "execution_count": null,
   "id": "e4679526-f500-4443-91ea-cb0f7a13a76b",
   "metadata": {},
   "outputs": [],
   "source": [
    "fig = plt.figure(figsize=(8, 8))\n",
    "ax = fig.add_subplot(projection='polar')\n",
    "im = ax.scatter(solo_spacecraft_hgs.lon.to(u.rad), solo_spacecraft_hgs.radius.to(u.au), s=2, label=\"Solar Orbiter\")\n",
    "im2 = ax.scatter(psp_spacecraft_hgs.lon.to(u.rad), psp_spacecraft_hgs.radius.to(u.au), s=2, label=\"Parker Solar Probe\")\n",
    "ax.set_theta_zero_location(\"S\")\n",
    "plt.legend()\n",
    "plt.show()"
   ]
  },
  {
   "cell_type": "code",
   "execution_count": null,
   "id": "0004ee22-954a-4f6e-946c-8a84fb56b840",
   "metadata": {},
   "outputs": [],
   "source": [
    "solo_spacecraft_hci = solo_spacecraft.heliocentricinertial\n",
    "psp_spacecraft_hci = psp_spacecraft.heliocentricinertial\n",
    "\n",
    "fig = plt.figure(figsize=(8, 8))\n",
    "ax = fig.add_subplot(projection='polar')\n",
    "im = ax.scatter(solo_spacecraft_hci.lon.to(u.rad), solo_spacecraft_hci.distance.to(u.au), s=2, label=\"Solar Orbiter\")\n",
    "im2 = ax.scatter(psp_spacecraft_hci.lon.to(u.rad), psp_spacecraft_hci.distance.to(u.au), s=2, label=\"Parker Solar Probe\")\n",
    "\n",
    "plt.legend()"
   ]
  },
  {
   "cell_type": "code",
   "execution_count": null,
   "id": "0dd25166-7208-4923-903d-641de43645ef",
   "metadata": {},
   "outputs": [],
   "source": [
    "fig, ax = plt.subplots(2, sharex=True, figsize=(12, 6))\n",
    "ax[0].plot(solo_spacecraft_hgs.obstime.datetime, solo_spacecraft_hgs.radius.to(u.AU), label=\"Solar Orbiter\")\n",
    "ax[0].plot(psp_spacecraft_hgs.obstime.datetime, psp_spacecraft_hgs.radius.to(u.AU), label=\"PSP\")\n",
    "\n",
    "ax[1].plot(solo_spacecraft_hgs.obstime.datetime, solo_spacecraft_hgs.lat.to(u.deg), label=\"Solar Orbiter\")\n",
    "ax[1].plot(psp_spacecraft_hgs.obstime.datetime, psp_spacecraft_hgs.lat.to(u.deg), label=\"PSP\")\n",
    "\n",
    "ax[0].set_xlim(psp_spacecraft_hgs.obstime.datetime[0], psp_spacecraft_hgs.obstime.datetime[-1])\n",
    "\n",
    "\n",
    "\n",
    "\n",
    "ax[0].set_xlim(psp_spacecraft_hgs.obstime.datetime[0], psp_spacecraft_hgs.obstime.datetime[-1])\n",
    "ax[0].set_ylabel(\"Distance to Sun (AU)\")\n",
    "ax[1].set_ylabel(\"Solar Latitude (deg)\")\n",
    "ax[1].set_xlabel(\"Time\")\n",
    "ax[0].legend()\n",
    "ax[1].legend()\n",
    "plt.tight_layout()\n",
    "plt.subplots_adjust(hspace=0.05)"
   ]
  },
  {
   "cell_type": "code",
   "execution_count": null,
   "id": "442eadd0-7927-45fe-b933-094b95fe404a",
   "metadata": {},
   "outputs": [],
   "source": []
  },
  {
   "cell_type": "code",
   "execution_count": null,
   "id": "22aac71b-c6f2-4cc4-b045-7384e04a0f14",
   "metadata": {},
   "outputs": [],
   "source": []
  },
  {
   "cell_type": "code",
   "execution_count": null,
   "id": "8ef7fb91-204f-4b3c-9826-21d4ebc23807",
   "metadata": {},
   "outputs": [],
   "source": []
  },
  {
   "cell_type": "code",
   "execution_count": null,
   "id": "3dc0a077-41c8-4ca2-954f-58584c2a8fb7",
   "metadata": {},
   "outputs": [],
   "source": []
  },
  {
   "cell_type": "code",
   "execution_count": null,
   "id": "9cde27d6-cdcd-4ee2-bcae-cf3b7a330db6",
   "metadata": {},
   "outputs": [],
   "source": []
  }
 ],
 "metadata": {
  "kernelspec": {
   "display_name": "Python 3 (ipykernel)",
   "language": "python",
   "name": "python3"
  },
  "language_info": {
   "codemirror_mode": {
    "name": "ipython",
    "version": 3
   },
   "file_extension": ".py",
   "mimetype": "text/x-python",
   "name": "python",
   "nbconvert_exporter": "python",
   "pygments_lexer": "ipython3",
   "version": "3.9.19"
  }
 },
 "nbformat": 4,
 "nbformat_minor": 5
}
