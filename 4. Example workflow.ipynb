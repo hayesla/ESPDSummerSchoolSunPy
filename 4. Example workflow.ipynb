{
 "cells": [
  {
   "cell_type": "markdown",
   "id": "d1142e50-7cd3-44d1-8dd9-db276cd83b55",
   "metadata": {},
   "source": [
    "<div>\n",
    "    <img src=\"./images/sunpy_logo.png\" width=\"500\" align=\"left\"/>\n",
    "    <br clear=\"left\"/> <!-- This line ensures that the text appears below the image -->\n",
    "</div>\n",
    "\n",
    "# Example notebook and exercises!\n",
    "\n",
    "Now using all the information we have learned, lets analyse the flare event that occured on 2022-04-02 13:00 that was observed by Solar Orbiter and Earth.\n",
    "\n",
    "As part of this notebook, I'll show some example workflow analysis you could do - but as an exercise, I suggest that you go through our documentation on [sunpy.org](https://sunpy.org/) and our [affiliated packages](https://sunpy.org/affiliated/) (e.g. [sunkit-image](https://docs.sunpy.org/projects/sunkit-image/en/latest/), [sunkit-instrument](https://docs.sunpy.org/projects/sunkit-instruments/en/stable/), and through the [example gallery](https://docs.sunpy.org/en/stable/generated/gallery/index.html) to see what more fun analysis you could do!"
   ]
  },
  {
   "cell_type": "code",
   "execution_count": null,
   "id": "324e1da3-e22a-47d1-adf9-0d54fe108f82",
   "metadata": {},
   "outputs": [],
   "source": [
    "import astropy.units as u\n",
    "from astropy.coordinates import SkyCoord\n",
    "\n",
    "from sunpy.net import Fido, attrs as a\n",
    "from sunpy.time import parse_time\n",
    "import sunpy.map\n",
    "import sunpy.timeseries as ts\n",
    "from sunpy.coordinates import frames, get_horizons_coord\n",
    "from astropy.visualization import ImageNormalize\n",
    "import sunpy_soar\n",
    "from aiapy.calibrate import register, update_pointing\n",
    "import os\n",
    "\n",
    "import numpy as np\n",
    "import glob\n",
    "import matplotlib.pyplot as plt\n",
    "from sunpy.physics.differential_rotation import solar_rotate_coordinate\n",
    "from matplotlib import colors\n",
    "import hvpy"
   ]
  },
  {
   "cell_type": "markdown",
   "id": "41d7480f-87cd-4091-a5e7-5288c8723f59",
   "metadata": {},
   "source": [
    "Lets first create a search and download data of interest, for this, lets build a Fido query like before.\n",
    "\n",
    "Lets first search for GOES XRS data"
   ]
  },
  {
   "cell_type": "code",
   "execution_count": null,
   "id": "f77ab461-711b-438f-ab3d-c63204944faa",
   "metadata": {},
   "outputs": [],
   "source": [
    "xrs_res = Fido.search(a.Time(\"2022-04-02 12:50\", \"2022-04-02 15:00\"), \n",
    "                      a.Instrument.xrs, a.goes.SatelliteNumber(16), a.Resolution.flx1s)"
   ]
  },
  {
   "cell_type": "code",
   "execution_count": null,
   "id": "bd594014-8bb6-4b2e-b16c-9d1f8229636a",
   "metadata": {},
   "outputs": [],
   "source": [
    "xrs_res"
   ]
  },
  {
   "cell_type": "code",
   "execution_count": null,
   "id": "02ca4512-5c36-484a-a746-bd4ba42c87f4",
   "metadata": {},
   "outputs": [],
   "source": [
    "Fido.fetch(xrs_res, path=\"./{instrument}/{file}\")"
   ]
  },
  {
   "cell_type": "code",
   "execution_count": null,
   "id": "c15c0eb4-f42c-4b0c-b4e7-27d601ed5170",
   "metadata": {},
   "outputs": [],
   "source": [
    "goes_xrs = ts.TimeSeries(\"./XRS/sci_xrsf-l2-flx1s_g16_d20220402_v2-2-0.nc\")"
   ]
  },
  {
   "cell_type": "code",
   "execution_count": null,
   "id": "07ce0c91-625b-4eba-9d83-96e3edb7dc6b",
   "metadata": {},
   "outputs": [],
   "source": [
    "fig, ax = plt.subplots()\n",
    "goes_xrs.plot()\n",
    "ax.axvline(parse_time(\"2022-04-02 12:50\").datetime, color='k')\n",
    "ax.axvline(parse_time(\"2022-04-02 15:00\").datetime, color='k')\n"
   ]
  },
  {
   "cell_type": "markdown",
   "id": "fc6d5ed8-fd9f-43fa-9919-07ab0af0dabe",
   "metadata": {},
   "source": [
    "Lets now search for AIA 171 Å data and Solar Orbiter EUI/FSI 174 Å data between teh vertical lines in teh GOES/XRS plot over the flare of interest"
   ]
  },
  {
   "cell_type": "code",
   "execution_count": null,
   "id": "a0dadf77-4c4a-4de9-ad99-f505091d6a3f",
   "metadata": {},
   "outputs": [],
   "source": [
    "image_res = Fido.search(a.Time(\"2022-04-02 12:00\", \"2022-04-02 14:30\"),\n",
    "                       (a.Instrument.aia & a.Wavelength(171*u.angstrom) & a.Sample(10*u.min)) | \n",
    "                       (a.Instrument.eui & a.Level(2) & a.soar.Product(\"EUI-FSI174-IMAGE\")))"
   ]
  },
  {
   "cell_type": "code",
   "execution_count": null,
   "id": "3a4f51fc-4b72-4ade-9329-1c4de3e193f9",
   "metadata": {},
   "outputs": [],
   "source": [
    "# Fido.fetch(image_res, path=\"./{instrument}/{file}\")"
   ]
  },
  {
   "cell_type": "code",
   "execution_count": null,
   "id": "461f9d9e-abe9-4ba3-9bca-561a04a9376e",
   "metadata": {},
   "outputs": [],
   "source": [
    "aia_files = glob.glob(\"./AIA/*171a*.fits\"); aia_files.sort()\n",
    "eui_files = glob.glob(\"./EUI/*fsi174*.fits\"); eui_files.sort()"
   ]
  },
  {
   "cell_type": "code",
   "execution_count": null,
   "id": "4baab6ae-5ec0-4bd9-b16a-5dc280f5d7e4",
   "metadata": {},
   "outputs": [],
   "source": [
    "aia_maps = sunpy.map.Map(aia_files)"
   ]
  },
  {
   "cell_type": "code",
   "execution_count": null,
   "id": "1083ba9f-64d2-4578-aefc-ae8971ec4ce1",
   "metadata": {},
   "outputs": [],
   "source": [
    "eui_maps = sunpy.map.Map(eui_files)"
   ]
  },
  {
   "cell_type": "code",
   "execution_count": null,
   "id": "5395336c-7b9e-48ad-b463-7b05d007e0a9",
   "metadata": {},
   "outputs": [],
   "source": [
    "fig = plt.figure(figsize=(12, 5))\n",
    "ax1 = fig.add_subplot(1, 2, 1, projection=aia_maps[0])\n",
    "ax2 = fig.add_subplot(1, 2, 2, projection=eui_maps[0])\n",
    "\n",
    "aia_maps[0].plot(axes=ax1)\n",
    "eui_maps[0].draw_limb(color='r', axes=ax1)\n",
    "eui_maps[0].plot(axes=ax2)\n",
    "aia_maps[0].draw_limb(color='g', axes=ax2)\n"
   ]
  },
  {
   "cell_type": "markdown",
   "id": "cdc05d9e-a546-47b8-b93e-b625d48cd3e1",
   "metadata": {},
   "source": [
    "## Prep AIA data from Level 1 to Level 1.5\n",
    "\n",
    "To do this we will use sunpy's affiliated package `aiapy`"
   ]
  },
  {
   "cell_type": "code",
   "execution_count": null,
   "id": "a243a3f2-06e5-4b02-9b6a-ed6e94ef6628",
   "metadata": {},
   "outputs": [],
   "source": [
    "aia_maps[0].meta[\"lvl_num\"]"
   ]
  },
  {
   "cell_type": "code",
   "execution_count": null,
   "id": "42b98a67-7f77-4b6e-bfed-e47d84b9a8b6",
   "metadata": {},
   "outputs": [],
   "source": [
    "m_updated_pointing = update_pointing(aia_maps[0])\n",
    "m_registered = register(m_updated_pointing)"
   ]
  },
  {
   "cell_type": "code",
   "execution_count": null,
   "id": "d1d96a4f-9b6b-4f01-9ea7-c20bc666a3d7",
   "metadata": {},
   "outputs": [],
   "source": [
    "m_registered.meta[\"lvl_num\"]"
   ]
  },
  {
   "cell_type": "code",
   "execution_count": null,
   "id": "d67c76cb-5173-4df0-91eb-3db950b68d2b",
   "metadata": {},
   "outputs": [],
   "source": [
    "m_registered.plot(clip_interval=[5, 99.98]*u.percent)\n",
    "plt.colorbar()"
   ]
  },
  {
   "cell_type": "markdown",
   "id": "3a9520a7-10d3-4668-b3f8-1dfd3cadfb04",
   "metadata": {},
   "source": [
    "## TO DO: Try write a function that takes the input of an AIA map and updates the pointing and registers it to a Level 1.5 map \n",
    "\n",
    "Try yourself to do this"
   ]
  },
  {
   "cell_type": "markdown",
   "id": "f418b574-5d2d-4878-8cdb-fc9612e3e280",
   "metadata": {},
   "source": [
    "## Lets zoom in and rotate EUI maps"
   ]
  },
  {
   "cell_type": "code",
   "execution_count": null,
   "id": "b81dba28-7c0b-47e4-b9f0-cb70514cdb21",
   "metadata": {},
   "outputs": [],
   "source": [
    "eui_maps[0].plot()"
   ]
  },
  {
   "cell_type": "code",
   "execution_count": null,
   "id": "6a768eac-9b0e-44ae-97e6-17ba16b21ec4",
   "metadata": {},
   "outputs": [],
   "source": [
    "def make_zoom_eui(m):\n",
    "    bl = SkyCoord(-5000*u.arcsec, -5000*u.arcsec, frame=m.coordinate_frame)\n",
    "    tr = SkyCoord(5000*u.arcsec, 5000*u.arcsec, frame=m.coordinate_frame)\n",
    "    return m.submap(bl, top_right=tr).rotate(missing=m.data.min())"
   ]
  },
  {
   "cell_type": "code",
   "execution_count": null,
   "id": "258cd0a3-4ad8-4bc4-a9c2-e3413b41626e",
   "metadata": {},
   "outputs": [],
   "source": [
    "make_zoom_eui(eui_maps[0]).plot()"
   ]
  },
  {
   "cell_type": "code",
   "execution_count": null,
   "id": "4966eda7-94a8-4461-92f7-012c9fd97d14",
   "metadata": {},
   "outputs": [],
   "source": [
    "bl = SkyCoord(700*u.arcsec, 200*u.arcsec, frame=aia_maps[0].coordinate_frame)\n",
    "tr = SkyCoord(850*u.arcsec, 400*u.arcsec, frame=aia_maps[0].coordinate_frame)\n"
   ]
  },
  {
   "cell_type": "code",
   "execution_count": null,
   "id": "b7e12b76-867f-4239-b0bb-e0db4a5026ed",
   "metadata": {},
   "outputs": [],
   "source": [
    "fig = plt.figure(figsize=(11, 5))\n",
    "ax1 = fig.add_subplot(1, 2, 1, projection=aia_maps[0])\n",
    "ax2 = fig.add_subplot(1, 2, 2, projection=eui_maps[0])\n",
    "aia_maps[0].plot(axes=ax1)\n",
    "aia_maps[0].draw_quadrangle(bl, top_right=tr, axes=ax1, edgecolor='r')\n",
    "\n",
    "eui_maps[0].plot(axes=ax2)\n",
    "eui_maps[0].draw_quadrangle(bl, top_right=tr, axes=ax2, edgecolor='r')"
   ]
  },
  {
   "cell_type": "markdown",
   "id": "b3e86b3e-3083-49b9-ba2c-aed9870a819c",
   "metadata": {},
   "source": [
    "## TO DO: crop all the EUI maps to this field of view"
   ]
  },
  {
   "cell_type": "markdown",
   "id": "0fa4798c-38a7-47da-b2b2-74b2ecb074e6",
   "metadata": {},
   "source": [
    "## Lets look at SOHO LASCO C2 data\n",
    "\n",
    "For this example, lets demonstrate how you can use jp2 files from helioviewer. Using hvpy, we can download jp2 files. Here, we'll use sunpy to find times for which there is SOHO LASCO C2 data, and then we'll use hvpy to download the processed jp2 LASCO C2 files, and use sunpy to read and plot them."
   ]
  },
  {
   "cell_type": "code",
   "execution_count": null,
   "id": "a16ef556-b820-4538-b751-bb8724e2a98b",
   "metadata": {},
   "outputs": [],
   "source": [
    "result = Fido.search(a.Time(\"2022-04-02 12:50\", \"2022-04-02 17:00\"),\n",
    "                     a.Instrument.lasco,\n",
    "                     a.Detector.c2)"
   ]
  },
  {
   "cell_type": "code",
   "execution_count": null,
   "id": "8a4c3fdd-3a0e-436e-8e5d-5fb47b9d76b6",
   "metadata": {},
   "outputs": [],
   "source": [
    "if not os.path.exists(\"./LASCO_C2\"):\n",
    "    os.mkdir(\"LASCO_C2\")\n",
    "\n",
    "lasco_files = []\n",
    "for i in range(len(result[\"VSO\"])):\n",
    "    time_map = parse_time(result[\"VSO\"][\"Start Time\"].datetime).datetime[i]\n",
    "    cor2_file = hvpy.save_file(hvpy.getJP2Image(time_map,\n",
    "                                                hvpy.DataSource.LASCO_C2.value),\n",
    "                               \"./LASCO_C2/lasco_c2_{:s}.jp2\".format(time_map.strftime(\"%Y%m%d%H%M%S\")), \n",
    "                               overwrite=True)\n",
    "    lasco_files.append(cor2_file)"
   ]
  },
  {
   "cell_type": "code",
   "execution_count": null,
   "id": "01f44621-c1a3-44fd-9d0e-1e41a5299041",
   "metadata": {},
   "outputs": [],
   "source": [
    "lasco_files = glob.glob(\"./LASCO_C2/*.jp2\"); lasco_files.sort()\n",
    "lasco_maps = sunpy.map.Map(lasco_files, sequence=True)"
   ]
  },
  {
   "cell_type": "code",
   "execution_count": null,
   "id": "04dc06cd-a81b-4743-861b-f93683b58743",
   "metadata": {},
   "outputs": [],
   "source": [
    "lasco_maps[0].plot()\n",
    "lasco_maps[0].draw_limb(color='w')"
   ]
  },
  {
   "cell_type": "code",
   "execution_count": null,
   "id": "6a8b6268-4aa8-42ee-a876-fac1181580a7",
   "metadata": {},
   "outputs": [],
   "source": [
    "fig = plt.figure()\n",
    "ani = lasco_maps.plot(norm=ImageNormalize(vmin=0, vmax=250,\n",
    "                                          stretch=lasco_maps[0].plot_settings['norm'].stretch))\n",
    "ani.save('lasco-maps-seq.mp4', fps=15, dpi=300)"
   ]
  },
  {
   "cell_type": "markdown",
   "id": "623b4048-ec55-475c-95b4-b4dbd3d66e5d",
   "metadata": {},
   "source": [
    "# Lets plot the AIA and LASCO C2 map together\n",
    "\n",
    "One thing to be aware of, is that given that the times and teh positions of the spacecraft are different (even though small), they have a different WCS. Hence to plot them on the same plot, we need to reproject one map to another. Here lets reproject the aia map to the lasco map wcs. One final thing to note is that the `rsun_ref` should be the same for both maps. Please read this topic guide about this: https://docs.sunpy.org/en/stable/topic_guide/rsun.html"
   ]
  },
  {
   "cell_type": "code",
   "execution_count": null,
   "id": "cf023232-038a-4eeb-a21e-f6b842719e4a",
   "metadata": {},
   "outputs": [],
   "source": [
    "aia_maps[6].meta[\"rsun_ref\"] = sunpy.sun.constants.radius.to_value(u.m)\n",
    "lasco_maps[0].meta[\"rsun_ref\"] = sunpy.sun.constants.radius.to_value(u.m)"
   ]
  },
  {
   "cell_type": "code",
   "execution_count": null,
   "id": "81b5801f-35ce-4628-a815-7403dc56f822",
   "metadata": {},
   "outputs": [],
   "source": [
    "fig = plt.figure(figsize=(10, 10))\n",
    "ax1 = fig.add_subplot(projection=lasco_maps[6])\n",
    "lasco_maps[6].plot(vmin=0, vmax=250)\n",
    "with frames.Helioprojective.assume_spherical_screen(lasco_maps[6].observer_coordinate):\n",
    "    aia_map_lasco_wcs = aia_maps[13].resample([250, 250]*u.pix).reproject_to(lasco_maps[6].wcs)\n",
    "aia_map_lasco_wcs.plot()\n"
   ]
  },
  {
   "cell_type": "markdown",
   "id": "f3b07d82-b105-4e3a-aaa7-4d1d9396ad4c",
   "metadata": {},
   "source": [
    "## Find HEK areas on the Sun\n",
    "\n",
    "Lets now show an example of querying the Helio Event Knowledgebase (HEK) to find active regions around the time of thh flare event. Lets first start with finding HMI magnetogram data, and then querying active region data"
   ]
  },
  {
   "cell_type": "code",
   "execution_count": null,
   "id": "cb12f4d8-0936-48d9-9761-d7402a7efccc",
   "metadata": {},
   "outputs": [],
   "source": [
    "res = Fido.search(a.Time(\"2022-04-02 12:00\", \"2022-04-02 13:00\"), \n",
    "                  a.Instrument.hmi, a.Physobs.los_magnetic_field)"
   ]
  },
  {
   "cell_type": "code",
   "execution_count": null,
   "id": "7c9df525-7431-4317-92be-5b559cb0e252",
   "metadata": {},
   "outputs": [],
   "source": [
    "hmi_file = Fido.fetch(res[0][0], path=\"./{instrument}/{file}\")"
   ]
  },
  {
   "cell_type": "code",
   "execution_count": null,
   "id": "6837f0ba-5d43-4c8e-9234-8d58da39682e",
   "metadata": {},
   "outputs": [],
   "source": [
    "hmi_map = sunpy.map.Map(hmi_file)"
   ]
  },
  {
   "cell_type": "code",
   "execution_count": null,
   "id": "3b2eb6aa-24ae-4c83-aeed-9f46b3c172f6",
   "metadata": {},
   "outputs": [],
   "source": [
    "hmi_rotated = hmi_map.rotate(order=3)\n"
   ]
  },
  {
   "cell_type": "code",
   "execution_count": null,
   "id": "32e5e049-2a51-4a15-9f20-0c7def05098d",
   "metadata": {},
   "outputs": [],
   "source": [
    "hmi_rotated.plot()"
   ]
  },
  {
   "cell_type": "code",
   "execution_count": null,
   "id": "ba400ea0-94c2-47d3-bcb9-e067f94e0259",
   "metadata": {},
   "outputs": [],
   "source": [
    "hek_results = Fido.search(a.Time(\"2022-04-02 12:01\", \"2022-04-02 14:00\"),\n",
    "                              a.hek.AR, a.hek.FRM.Name=='HMI SHARP')"
   ]
  },
  {
   "cell_type": "code",
   "execution_count": null,
   "id": "ca7431af-fccc-4353-aafa-c38dab71026f",
   "metadata": {},
   "outputs": [],
   "source": [
    "hek_results[\"hek\"][\"event_starttime\", \"event_endtime\"]"
   ]
  },
  {
   "cell_type": "code",
   "execution_count": null,
   "id": "bc5b1757-fa46-4125-8c7d-f8d423fd4d5c",
   "metadata": {},
   "outputs": [],
   "source": [
    "ar_areas = []\n",
    "for i in range(len(hek_results[\"hek\"])):\n",
    "    ch = hek_results[\"hek\"][i]\n",
    "    p1 = ch[\"hpc_bbox\"][9:-2].split(',')\n",
    "    coord_values = [v.split(\" \") for v in p1]\n",
    "    ch_date = parse_time(ch['event_starttime'])\n",
    "    ch_boundary = SkyCoord(\n",
    "        [(float(v[0]), float(v[1])) * u.arcsec for v in coord_values],\n",
    "        obstime=ch_date, observer=\"earth\",\n",
    "        frame=frames.Helioprojective)\n",
    "    #rotated_ch_boundary = solar_rotate_coordinate(ch_boundary, observer=hmi_map.observer_coordinate)\n",
    "    ar_areas.append(ch_boundary)\n"
   ]
  },
  {
   "cell_type": "code",
   "execution_count": null,
   "id": "f3c254df-5da0-4931-acb0-cd21dad14625",
   "metadata": {},
   "outputs": [],
   "source": [
    "fig = plt.figure()\n",
    "ax = fig.add_subplot(projection=hmi_rotated)\n",
    "hmi_rotated.plot(axes=ax, norm=colors.Normalize(vmin=-500, vmax=500))\n",
    "hmi_rotated.draw_limb()\n",
    "for ar in ar_areas:\n",
    "    ax.plot_coord(ar)\n",
    "\n",
    "plt.colorbar()\n",
    "plt.show()"
   ]
  },
  {
   "cell_type": "code",
   "execution_count": null,
   "id": "f24b7a5b-7230-46f6-8058-bc6f499105c9",
   "metadata": {},
   "outputs": [],
   "source": [
    "fig = plt.figure()\n",
    "ax = fig.add_subplot(projection=aia_maps[0])\n",
    "aia_maps[0].plot(axes=ax, clip_interval=[2, 99.98]*u.percent)\n",
    "aia_maps[0].draw_limb()\n",
    "for ar in ar_areas:\n",
    "    ax.plot_coord(ar)\n",
    "eui_maps[0].draw_limb()\n",
    "plt.colorbar()\n",
    "plt.show()"
   ]
  },
  {
   "cell_type": "code",
   "execution_count": null,
   "id": "0b8c4fae-0756-4e6b-b1c6-b57e52a29bc1",
   "metadata": {},
   "outputs": [],
   "source": [
    "eui_maps[0].plot()\n",
    "ax = plt.gca()\n",
    "for ar in ar_areas:\n",
    "    transformed_coords = ar.transform_to(eui_maps[0].coordinate_frame)\n",
    "    if np.any(transformed_coords.is_visible(tolerance=1*u.km)):\n",
    "        ax.plot_coord(transformed_coords[transformed_coords.is_visible(tolerance=1*u.km)])\n",
    "hmi_map.draw_limb()"
   ]
  },
  {
   "cell_type": "code",
   "execution_count": null,
   "id": "409ea2cc-10f6-43b8-a4c2-9175ef5d27c4",
   "metadata": {},
   "outputs": [],
   "source": []
  },
  {
   "cell_type": "code",
   "execution_count": null,
   "id": "91b92624-d6dc-4e37-a668-58ddc72ac833",
   "metadata": {},
   "outputs": [],
   "source": []
  },
  {
   "cell_type": "code",
   "execution_count": null,
   "id": "9419add7-e3e2-4452-877b-709e2b480509",
   "metadata": {},
   "outputs": [],
   "source": []
  },
  {
   "cell_type": "code",
   "execution_count": null,
   "id": "6c29e48c-ade6-4261-b274-6060d0a5e8d6",
   "metadata": {},
   "outputs": [],
   "source": []
  },
  {
   "cell_type": "code",
   "execution_count": null,
   "id": "e0d75533-3756-463b-846e-f3d42b602e76",
   "metadata": {},
   "outputs": [],
   "source": []
  }
 ],
 "metadata": {
  "kernelspec": {
   "display_name": "Python 3 (ipykernel)",
   "language": "python",
   "name": "python3"
  },
  "language_info": {
   "codemirror_mode": {
    "name": "ipython",
    "version": 3
   },
   "file_extension": ".py",
   "mimetype": "text/x-python",
   "name": "python",
   "nbconvert_exporter": "python",
   "pygments_lexer": "ipython3",
   "version": "3.9.19"
  }
 },
 "nbformat": 4,
 "nbformat_minor": 5
}
